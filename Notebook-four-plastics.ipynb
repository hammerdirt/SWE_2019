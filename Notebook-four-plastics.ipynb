{
 "cells": [
  {
   "cell_type": "markdown",
   "metadata": {},
   "source": [
    "### Note book four\n",
    "\n",
    "Plastics and fragemented plastics\n",
    "\n",
    "__Research questions:__\n",
    "\n",
    "1. _How do the values found on the day of the survey compare to previous values?_\n",
    "2. _What is the distribution of fragmented plastics?_\n",
    "3. _Does the quantity of plastics found (all plastic objects) change in relation to the total found?\n",
    "\n",
    "#### Contents\n",
    "\n",
    "1. Putting the variaibles in place => _complete_\n",
    "2. Abundance: comparing surveys by top-ten => _complete_\n",
    "3. Density: comparing surveys  by pieces per meter => _complete_\n",
    "4. Probability: Exploring some continuous distributions => complete\n",
    "\n",
    "#### Remarks\n",
    "\n",
    "1. Most of the methods have been moved to the utilities folder\n",
    "2. helper functions are in the workbook\n",
    "3. It is best if you develop your own notebooks and add them to the repo. Use this as an example. \n",
    "\n",
    "contributors: @hammerdirt, @terborch"
   ]
  },
  {
   "cell_type": "code",
   "execution_count": 1,
   "metadata": {
    "hide_input": true
   },
   "outputs": [],
   "source": [
    "import numpy as np\n",
    "import datetime\n",
    "from scipy import stats\n",
    "from collections import OrderedDict\n",
    "import requests\n",
    "import pandas as pd\n",
    "import matplotlib as mpl\n",
    "import matplotlib.pyplot as plt\n",
    "import os\n",
    "import matplotlib.dates as mdates\n",
    "from matplotlib import colors as mcolors\n",
    "from matplotlib.ticker import MultipleLocator\n",
    "from matplotlib.patches import Patch\n",
    "from matplotlib.lines import Line2D\n",
    "import seaborn as sns\n",
    "import Utilities.MlwCode as mlw_code\n",
    "import Utilities.utilities as my_utilities\n",
    "import Utilities.SeasonalBoxPlots as seasonalBoxPlots\n",
    "import Utilities.MonthlyResultsBoxPlots as monthlyResults\n",
    "import matplotlib.gridspec as gridspec"
   ]
  },
  {
   "cell_type": "markdown",
   "metadata": {},
   "source": [
    "### Assigning variables and getting data:\n",
    "\n",
    "Using the methods from the previous notebooks, choose the codes of interest and assign colors and parameters to variables."
   ]
  },
  {
   "cell_type": "code",
   "execution_count": 2,
   "metadata": {
    "hide_input": false
   },
   "outputs": [],
   "source": [
    "# Variables to constrict the MLW code data into classes\n",
    "the_codes = pd.read_csv(\"Data/mlw_code_defs.csv\")\n",
    "my_plastics = the_codes.loc[the_codes.material == 'Plastic']\n",
    "the_codes_of_interest = list(my_plastics['code'])\n",
    "# codes_of_interest =[\"G32\",\"G67\",\"G82\",\"G79\"]\n",
    "# Day and location of interest:\n",
    "date_of_interest = \"2019-10-24\"\n",
    "# this needs to be exactly the way it is stored, check the webiste for correct spelling\n",
    "place_of_interest = \"Rolle-plage\"\n",
    "# the lake or body of water you are comparing to:\n",
    "region_of_interest = \"Lake Geneva\"\n",
    "# used as place holders in the function, one for each code:\n",
    "# variable_names=[\"beach_info\", \"get_toys\", \"get_sheeting\", \"get_plastics\"]\n",
    "# Give a common name to the MLW codes these appear in the charts:\n",
    "# names=[\"Toys\", \"Plastic-sheeting\", \"Polystyrene\", \"Broken plastics\"]\n",
    "# A color for each code, use named matplotlib codes:\n",
    "# colors = [\"darkmagenta\", \"darkslategray\", \"darkorange\", \"teal\"]\n",
    "# the api end point:\n",
    "end_point = \"http://mwshovel.pythonanywhere.com/dirt/codes/Lac-L%C3%A9man/\"\n",
    "# group the months into seasons:\n",
    "seasons = {\"winter\":[12,1,2],\"spring\":[3,4,5],\"summer\":[6,7,8],\"fall\":[9,10,11]}\n",
    "# the colors for each season of the year:\n",
    "seasons_colors = {\"winter\":\"cyan\",\"spring\":\"lime\",\"summer\":\"saddlebrown\",\"fall\":\"darkgoldenrod\",}\n",
    "# Link months integer value to string abbreviation:\n",
    "months = {\n",
    "    1:\"Jan\",\n",
    "    2:\"Feb\",\n",
    "    3:\"Mar\",\n",
    "    4:\"Apr\",\n",
    "    5:\"May\",\n",
    "    6:\"Jun\",\n",
    "    7:\"Jul\",\n",
    "    8:\"Aug\",\n",
    "    9:\"Sep\",\n",
    "    10:\"Oct\",\n",
    "    11:\"Nov\",\n",
    "    12:\"Dec\",\n",
    "}\n",
    "regional_data = requests.get(end_point).json()\n",
    "regional_data_df = pd.DataFrame(regional_data)\n",
    "plastic_data_df = regional_data_df[regional_data_df.code_id.isin(the_codes_of_interest)].copy()\n",
    "\n",
    "date_min = regional_data_df.date.min()\n",
    "date_max = regional_data_df.date.max()\n",
    "date_string = \"Lake Geneva {} - {}\".format(date_min, date_max)\n",
    "# making the file structure\n",
    "# if you changed the file structure then this function will be problematic\n",
    "folders = [\"Data\", \"Charts\", \"Utilities\"]\n",
    "here = os.getcwd()"
   ]
  },
  {
   "cell_type": "markdown",
   "metadata": {},
   "source": [
    "### Occurence of objects:\n",
    "\n",
    "#### The twenty most frequently identified plastic objects on Lake Geneva"
   ]
  },
  {
   "cell_type": "code",
   "execution_count": 3,
   "metadata": {},
   "outputs": [
    {
     "name": "stdout",
     "output_type": "stream",
     "text": [
      "There were 68 different plastic categories identified between 2015-11-23 and 2019-10-24\n"
     ]
    }
   ],
   "source": [
    "cat_occurences = plastic_data_df['code_id'].value_counts()\n",
    "top_twenty = cat_occurences[:20]\n",
    "the_codes = plastic_data_df.code_id.unique()\n",
    "number_of_codes = len(the_codes)\n",
    "a_string = \"There were {} different plastic categories identified between {} and {}\".format(number_of_codes, date_min, date_max)\n",
    "print(a_string)"
   ]
  },
  {
   "cell_type": "code",
   "execution_count": 4,
   "metadata": {},
   "outputs": [
    {
     "data": {
      "image/png": "[encoded data removed]",
      "text/plain": [
       "<Figure size 576x432 with 1 Axes>"
      ]
     },
     "metadata": {
      "needs_background": "light"
     },
     "output_type": "display_data"
    }
   ],
   "source": [
    "fig, ax = plt.subplots(figsize=(8,6))\n",
    "ax= sns.barplot(x = top_twenty.index, y = top_twenty)\n",
    "plt.suptitle(\"The twenty most frequently idenitifed plastic objects\")\n",
    "plt.title(date_string, pad=10)\n",
    "plt.ylabel('Number of times identified')\n",
    "plt.xlabel('MLW code', labelpad=10)\n",
    "plt.xticks(rotation=90)\n",
    "plt.show()"
   ]
  },
  {
   "cell_type": "markdown",
   "metadata": {},
   "source": [
    "### Plastic objects by quantity\n",
    "\n",
    "#### The twenty most common plastic objects by quantity"
   ]
  },
  {
   "cell_type": "code",
   "execution_count": 5,
   "metadata": {},
   "outputs": [],
   "source": [
    "code_totals = plastic_data_df[['code_id','quantity']].groupby('code_id').sum()\n",
    "code_totals.reset_index(inplace=True)\n",
    "my_twenty = code_totals.sort_values('quantity', axis=0, ascending=False, inplace=False, kind='quicksort').copy()"
   ]
  },
  {
   "cell_type": "code",
   "execution_count": 6,
   "metadata": {},
   "outputs": [
    {
     "data": {
      "image/png": "[encoded data removed]",
      "text/plain": [
       "<Figure size 576x432 with 1 Axes>"
      ]
     },
     "metadata": {
      "needs_background": "light"
     },
     "output_type": "display_data"
    }
   ],
   "source": [
    "fig, ax = plt.subplots(figsize=(8,6))\n",
    "ax= sns.barplot(x = 'code_id', y = 'quantity', data=my_twenty[:20])\n",
    "plt.suptitle(\"The twenty most abundant plastic objects\")\n",
    "plt.title(date_string, pad=10)\n",
    "plt.ylabel('Total number of objects')\n",
    "plt.xlabel('MLW code', labelpad=10)\n",
    "plt.xticks(rotation=90)\n",
    "plt.show()"
   ]
  },
  {
   "cell_type": "markdown",
   "metadata": {},
   "source": [
    "### Pieces of plastic objects per meter\n",
    "\n",
    "The portion of the pieces of trash per meter value could be attibuted to plastic"
   ]
  },
  {
   "cell_type": "code",
   "execution_count": 7,
   "metadata": {},
   "outputs": [],
   "source": [
    "regional_data_df['pcs_m'] = regional_data_df['quantity']/regional_data_df['length']\n",
    "plastic_data_df['pcs_m'] = plastic_data_df['quantity']/plastic_data_df['length']\n",
    "all_trash = regional_data_df[['date', 'pcs_m']]\n",
    "just_plastic = plastic_data_df[['date', 'pcs_m']]"
   ]
  },
  {
   "cell_type": "markdown",
   "metadata": {},
   "source": [
    "### How do your results compare ?"
   ]
  }
 ],
 "metadata": {
  "hide_input": false,
  "kernelspec": {
   "display_name": "Python 3",
   "language": "python",
   "name": "python3"
  },
  "language_info": {
   "codemirror_mode": {
    "name": "ipython",
    "version": 3
   },
   "file_extension": ".py",
   "mimetype": "text/x-python",
   "name": "python",
   "nbconvert_exporter": "python",
   "pygments_lexer": "ipython3",
   "version": "3.7.0"
  }
 },
 "nbformat": 4,
 "nbformat_minor": 4
}
