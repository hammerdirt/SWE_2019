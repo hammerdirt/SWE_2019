{
 "cells": [
  {
   "cell_type": "markdown",
   "metadata": {},
   "source": [
    "### Note book Two\n",
    "\n",
    "Compare the survey results for specific items indentified during shoreline surveillance of Lake Geneva. Group survey results in time by Winter, Spring, Summer or Fall, by body of water and municipality.\n",
    "\n",
    "__Research question:__\n",
    "\n",
    "_Does the data indicate that shoreline litter densities are seasonal? If so describe the relationship._\n",
    "\n",
    "#### Contents\n",
    "\n",
    "1. Automating some things\n",
    "2. Making a MlwCode class  \n",
    "3. Dealing with time\n",
    "4. Grouping by season\n",
    "5. Plot grouped by season and code\n"
   ]
  },
  {
   "cell_type": "markdown",
   "metadata": {},
   "source": [
    "### Setting up\n",
    "\n",
    "Make sure you are running the same packages as this notebook. There is a requirements.txt file for the virutal environment in the [repo](https://github.com/hammerdirt/SWE_2019.git). "
   ]
  },
  {
   "cell_type": "markdown",
   "metadata": {},
   "source": [
    "#### Imports\n",
    "\n",
    "No changes form note book one"
   ]
  },
  {
   "cell_type": "code",
   "execution_count": 1,
   "metadata": {},
   "outputs": [],
   "source": [
    "import numpy as np\n",
    "import json\n",
    "import csv\n",
    "import datetime\n",
    "import pandas as pd\n",
    "import matplotlib as mpl\n",
    "import matplotlib.pyplot as plt\n",
    "import requests\n",
    "import os\n",
    "import matplotlib.dates as mdates\n",
    "from matplotlib import colors as mcolors\n",
    "from matplotlib.ticker import MultipleLocator\n",
    "from matplotlib.patches import Patch\n",
    "from matplotlib.lines import Line2D"
   ]
  },
  {
   "cell_type": "code",
   "execution_count": 2,
   "metadata": {},
   "outputs": [],
   "source": [
    "# making the file structure\n",
    "# if you changed the file structure then this function will be problematic\n",
    "\n",
    "\n",
    "folders = [\"Data\", \"Charts\", \"Utilities\"]\n",
    "here = os.getcwd()\n",
    "# never comment this out -- it is used to save output\n",
    "def make_folders():\n",
    "    my_folders = {}\n",
    "    for folder in folders:\n",
    "        place = here +\"/\"+ folder\n",
    "        my_folders[folder] = place\n",
    "    return my_folders\n",
    "my_folders = make_folders()"
   ]
  },
  {
   "cell_type": "markdown",
   "metadata": {},
   "source": [
    "### Making the code class\n",
    "\n",
    "Gather and compute details for the MLW Codes in a class. "
   ]
  },
  {
   "cell_type": "markdown",
   "metadata": {},
   "source": [
    "#### Utility functions"
   ]
  },
  {
   "cell_type": "code",
   "execution_count": 3,
   "metadata": {},
   "outputs": [],
   "source": [
    "# nothing fancy, jsut storing the data we used in Notebook one in a class object.\n",
    "\n",
    "# variables\n",
    "variable_names=[\"beach_info\", \"get_toys\", \"get_sheeting\"]\n",
    "end_points = [\n",
    "    \"http://mwshovel.pythonanywhere.com/dirt/beaches/Lac-L%C3%A9man/\",\n",
    "    \"http://mwshovel.pythonanywhere.com/dirt/codes/Lac-L%C3%A9man/G32\",\n",
    "    \"http://mwshovel.pythonanywhere.com/dirt/codes/Lac-L%C3%A9man/G67\",    \n",
    "]\n",
    "\n",
    "def get_the_data(variable_names,end_points):\n",
    "    data = {}\n",
    "    for i, name in enumerate(variable_names):\n",
    "        data[name] = requests.get(end_points[i]).json()\n",
    "    return data\n",
    "# make a pieces per meter value for each observation\n",
    "def get_pieces_per_meter(a_list_of_objects):\n",
    "    new_list_of_objects = []\n",
    "    the_keys = list(a_list_of_objects.keys())    \n",
    "    for this_key in the_keys:\n",
    "        new_list = a_list_of_objects[this_key]\n",
    "        for the_object in new_list:\n",
    "            new_object = the_object\n",
    "            new_object[\"pcs_m\"] = np.round(new_object[\"quantity\"]/new_object[\"length\"], 3)\n",
    "            new_list_of_objects.append(new_object)\n",
    "    return new_list_of_objects\n",
    "# make a summary of the data \n",
    "def make_summary(data):\n",
    "    results = {}\n",
    "    pcs_m = []\n",
    "    for result in data:\n",
    "        pcs_m.append(result[\"pcs_m\"])\n",
    "    results[\"the_min\"] = np.min(pcs_m)\n",
    "    results[\"the_max\"] = np.max(pcs_m)\n",
    "    results[\"the_median\"] = np.median(pcs_m)\n",
    "    results[\"the_average\"] = np.mean(pcs_m)\n",
    "    results[\"twenty_fifth\"] = np.percentile(pcs_m, 25)\n",
    "    results[\"seventy_fifth\"] =  np.percentile(pcs_m, 75)\n",
    "    results[\"no_samples\"] = len(pcs_m)\n",
    "    results[\"last_sample\"] = max([x[\"date\"] for x in data])\n",
    "    results[\"first_sample\"] = min([x[\"date\"] for x in data])\n",
    "    return results\n",
    "# make time value pairts\n",
    "def time_value_pairs(aList):\n",
    "    myPairs = [[result['date'], result['pcs_m']] for result in aList]\n",
    "    return myPairs  \n",
    "    "
   ]
  },
  {
   "cell_type": "markdown",
   "metadata": {},
   "source": [
    "#### Wrting the class"
   ]
  },
  {
   "cell_type": "code",
   "execution_count": 4,
   "metadata": {},
   "outputs": [],
   "source": [
    "code = \"G32\"\n",
    "common_name = [\"toys_data\"]\n",
    "end_point = \"http://mwshovel.pythonanywhere.com/dirt/codes/Lac-L%C3%A9man/\"\n",
    "\n",
    "class MlWCodes():\n",
    "    def __init__(self, code, common_names, end_points):\n",
    "        self.code = code\n",
    "        self.data = get_pieces_per_meter(get_the_data(common_names,end_points))\n",
    "        self.time_value = time_value_pairs(self.data)\n",
    "        self.summary = make_summary(self.data)\n",
    "        \n",
    "    \n",
    "toys = MlWCodes(code=code, common_names=['toys_data'], end_points=[end_point + 'G32'])\n",
    "\n",
    "# Additional classes\n",
    "polystyrene = MlWCodes(code=code, common_names=['polystyrene_data'], end_points=[end_point + 'G82'])\n",
    "plastic_sheeting = MlWCodes(code=code, common_names=['plastic-sheeting_data'], end_points=[end_point + 'G67'])"
   ]
  },
  {
   "cell_type": "markdown",
   "metadata": {},
   "source": [
    "#### Using the class"
   ]
  },
  {
   "cell_type": "code",
   "execution_count": 5,
   "metadata": {},
   "outputs": [
    {
     "data": {
      "text/plain": [
       "dict"
      ]
     },
     "execution_count": 5,
     "metadata": {},
     "output_type": "execute_result"
    }
   ],
   "source": [
    "type(toys.summary)"
   ]
  },
  {
   "cell_type": "code",
   "execution_count": 6,
   "metadata": {},
   "outputs": [
    {
     "data": {
      "text/plain": [
       "{'the_min': 0.012,\n",
       " 'the_max': 2.222,\n",
       " 'the_median': 0.063,\n",
       " 'the_average': 0.12757894736842101,\n",
       " 'twenty_fifth': 0.027750000000000004,\n",
       " 'seventy_fifth': 0.125,\n",
       " 'no_samples': 76,\n",
       " 'last_sample': '2019-10-10',\n",
       " 'first_sample': '2015-11-23'}"
      ]
     },
     "execution_count": 6,
     "metadata": {},
     "output_type": "execute_result"
    }
   ],
   "source": [
    "# get the summary of data for toys\n",
    "toys.summary"
   ]
  },
  {
   "cell_type": "code",
   "execution_count": 7,
   "metadata": {},
   "outputs": [
    {
     "data": {
      "text/html": [
       "<div>\n",
       "<style scoped>\n",
       "    .dataframe tbody tr th:only-of-type {\n",
       "        vertical-align: middle;\n",
       "    }\n",
       "\n",
       "    .dataframe tbody tr th {\n",
       "        vertical-align: top;\n",
       "    }\n",
       "\n",
       "    .dataframe thead th {\n",
       "        text-align: right;\n",
       "    }\n",
       "</style>\n",
       "<table border=\"1\" class=\"dataframe\">\n",
       "  <thead>\n",
       "    <tr style=\"text-align: right;\">\n",
       "      <th></th>\n",
       "      <th>the_min</th>\n",
       "      <th>the_max</th>\n",
       "      <th>the_median</th>\n",
       "      <th>the_average</th>\n",
       "      <th>twenty_fifth</th>\n",
       "      <th>seventy_fifth</th>\n",
       "      <th>no_samples</th>\n",
       "      <th>last_sample</th>\n",
       "      <th>first_sample</th>\n",
       "      <th>code_id</th>\n",
       "    </tr>\n",
       "  </thead>\n",
       "  <tbody>\n",
       "    <tr>\n",
       "      <td>0</td>\n",
       "      <td>0.012</td>\n",
       "      <td>2.222</td>\n",
       "      <td>0.063</td>\n",
       "      <td>0.127579</td>\n",
       "      <td>0.02775</td>\n",
       "      <td>0.125</td>\n",
       "      <td>76</td>\n",
       "      <td>2019-10-10</td>\n",
       "      <td>2015-11-23</td>\n",
       "      <td>G32</td>\n",
       "    </tr>\n",
       "  </tbody>\n",
       "</table>\n",
       "</div>"
      ],
      "text/plain": [
       "   the_min  the_max  the_median  the_average  twenty_fifth  seventy_fifth  \\\n",
       "0    0.012    2.222       0.063     0.127579       0.02775          0.125   \n",
       "\n",
       "   no_samples last_sample first_sample code_id  \n",
       "0          76  2019-10-10   2015-11-23     G32  "
      ]
     },
     "execution_count": 7,
     "metadata": {},
     "output_type": "execute_result"
    }
   ],
   "source": [
    "# create a panda dataframe of the summary to have a nice looking table\n",
    "toys_df = pd.DataFrame(toys.summary, index=[0])\n",
    "toys_df = toys_df.join(pd.DataFrame({'code_id': ['G32']}))\n",
    "toys_df"
   ]
  },
  {
   "cell_type": "code",
   "execution_count": 8,
   "metadata": {},
   "outputs": [
    {
     "data": {
      "text/html": [
       "<div>\n",
       "<style scoped>\n",
       "    .dataframe tbody tr th:only-of-type {\n",
       "        vertical-align: middle;\n",
       "    }\n",
       "\n",
       "    .dataframe tbody tr th {\n",
       "        vertical-align: top;\n",
       "    }\n",
       "\n",
       "    .dataframe thead th {\n",
       "        text-align: right;\n",
       "    }\n",
       "</style>\n",
       "<table border=\"1\" class=\"dataframe\">\n",
       "  <thead>\n",
       "    <tr style=\"text-align: right;\">\n",
       "      <th></th>\n",
       "      <th>the_min</th>\n",
       "      <th>the_max</th>\n",
       "      <th>the_median</th>\n",
       "      <th>the_average</th>\n",
       "      <th>twenty_fifth</th>\n",
       "      <th>seventy_fifth</th>\n",
       "      <th>no_samples</th>\n",
       "      <th>last_sample</th>\n",
       "      <th>first_sample</th>\n",
       "      <th>code_id</th>\n",
       "    </tr>\n",
       "  </thead>\n",
       "  <tbody>\n",
       "    <tr>\n",
       "      <td>0</td>\n",
       "      <td>0.014</td>\n",
       "      <td>6.1</td>\n",
       "      <td>0.2355</td>\n",
       "      <td>0.566918</td>\n",
       "      <td>0.095</td>\n",
       "      <td>0.54925</td>\n",
       "      <td>110</td>\n",
       "      <td>2019-10-10</td>\n",
       "      <td>2015-11-24</td>\n",
       "      <td>G67</td>\n",
       "    </tr>\n",
       "  </tbody>\n",
       "</table>\n",
       "</div>"
      ],
      "text/plain": [
       "   the_min  the_max  the_median  the_average  twenty_fifth  seventy_fifth  \\\n",
       "0    0.014      6.1      0.2355     0.566918         0.095        0.54925   \n",
       "\n",
       "   no_samples last_sample first_sample code_id  \n",
       "0         110  2019-10-10   2015-11-24     G67  "
      ]
     },
     "execution_count": 8,
     "metadata": {},
     "output_type": "execute_result"
    }
   ],
   "source": [
    "plastic_sheeting = pd.DataFrame(plastic_sheeting.summary, index=[0])\n",
    "plastic_sheeting = plastic_sheeting.join(pd.DataFrame({'code_id': ['G67']}))\n",
    "plastic_sheeting"
   ]
  },
  {
   "cell_type": "code",
   "execution_count": 9,
   "metadata": {},
   "outputs": [
    {
     "data": {
      "text/html": [
       "<div>\n",
       "<style scoped>\n",
       "    .dataframe tbody tr th:only-of-type {\n",
       "        vertical-align: middle;\n",
       "    }\n",
       "\n",
       "    .dataframe tbody tr th {\n",
       "        vertical-align: top;\n",
       "    }\n",
       "\n",
       "    .dataframe thead th {\n",
       "        text-align: right;\n",
       "    }\n",
       "</style>\n",
       "<table border=\"1\" class=\"dataframe\">\n",
       "  <thead>\n",
       "    <tr style=\"text-align: right;\">\n",
       "      <th></th>\n",
       "      <th>the_min</th>\n",
       "      <th>the_max</th>\n",
       "      <th>the_median</th>\n",
       "      <th>the_average</th>\n",
       "      <th>twenty_fifth</th>\n",
       "      <th>seventy_fifth</th>\n",
       "      <th>no_samples</th>\n",
       "      <th>last_sample</th>\n",
       "      <th>first_sample</th>\n",
       "      <th>code_id</th>\n",
       "    </tr>\n",
       "  </thead>\n",
       "  <tbody>\n",
       "    <tr>\n",
       "      <td>0</td>\n",
       "      <td>0.012</td>\n",
       "      <td>2.222</td>\n",
       "      <td>0.0630</td>\n",
       "      <td>0.127579</td>\n",
       "      <td>0.02775</td>\n",
       "      <td>0.12500</td>\n",
       "      <td>76</td>\n",
       "      <td>2019-10-10</td>\n",
       "      <td>2015-11-23</td>\n",
       "      <td>G32</td>\n",
       "    </tr>\n",
       "    <tr>\n",
       "      <td>1</td>\n",
       "      <td>0.014</td>\n",
       "      <td>6.100</td>\n",
       "      <td>0.2355</td>\n",
       "      <td>0.566918</td>\n",
       "      <td>0.09500</td>\n",
       "      <td>0.54925</td>\n",
       "      <td>110</td>\n",
       "      <td>2019-10-10</td>\n",
       "      <td>2015-11-24</td>\n",
       "      <td>G67</td>\n",
       "    </tr>\n",
       "  </tbody>\n",
       "</table>\n",
       "</div>"
      ],
      "text/plain": [
       "   the_min  the_max  the_median  the_average  twenty_fifth  seventy_fifth  \\\n",
       "0    0.012    2.222      0.0630     0.127579       0.02775        0.12500   \n",
       "1    0.014    6.100      0.2355     0.566918       0.09500        0.54925   \n",
       "\n",
       "   no_samples last_sample first_sample code_id  \n",
       "0          76  2019-10-10   2015-11-23     G32  \n",
       "1         110  2019-10-10   2015-11-24     G67  "
      ]
     },
     "execution_count": 9,
     "metadata": {},
     "output_type": "execute_result"
    }
   ],
   "source": [
    "# join the summary of our two items of interest into one table\n",
    "df = toys_df.append(plastic_sheeting , ignore_index=True)\n",
    "df"
   ]
  },
  {
   "cell_type": "markdown",
   "metadata": {},
   "source": [
    "### Searching, grouping and sorting by date or date range\n",
    "\n",
    "1. Get the results for one survey day at a location\n",
    "2. Group survey results by date range\n",
    "\n",
    "The MLWCodes class includes an array of results in pcs/m per survey __MLWCodes.time_value__ or the pieces per survey is in __MLWCodes.data__.\n",
    "\n",
    "First thing is to get the latest sample by the SWE group and take a look at those results."
   ]
  },
  {
   "cell_type": "markdown",
   "metadata": {},
   "source": [
    "####  Get the results for one survey from the data\n",
    "\n",
    "1. Specify date and location\n",
    "2. Compare the results of that sample to the sample population"
   ]
  },
  {
   "cell_type": "code",
   "execution_count": 10,
   "metadata": {},
   "outputs": [],
   "source": [
    "# call the function to get data for a given date\n",
    "all_the_data = get_the_data([\"pierrettes\"], [\"http://mwshovel.pythonanywhere.com/dirt/codes/Parc-des-Pierrettes\"])\n",
    "\n",
    "# define a method that accpets the data, a key and and the required date in integer form\n",
    "def get_the_date(all_the_data, key, year, month, day):\n",
    "    the_results = all_the_data[key]\n",
    "    my_date_string = '{year}-{month}-{day}'.format(year=year, month=month, day=day)\n",
    "    i_want_these = [item for item in the_results if item['date'] == my_date_string]\n",
    "    return i_want_these\n",
    "    \n",
    "the_latest_inventory = get_the_date(all_the_data, \"pierrettes\", 2019,10,10)"
   ]
  },
  {
   "cell_type": "code",
   "execution_count": 11,
   "metadata": {},
   "outputs": [],
   "source": [
    "# call the function to get data for any date\n",
    "all_the_data = get_the_data([\"pierrettes\"], [\"http://mwshovel.pythonanywhere.com/dirt/codes/Parc-des-Pierrettes\"])\n",
    "\n",
    "# define a method that accpets the data, a key and and the required date in integer form\n",
    "def get_all_date(all_the_data, key):\n",
    "    the_results = all_the_data[key]\n",
    "    i_want_these = [item for item in the_results]\n",
    "    return i_want_these\n",
    "    \n",
    "all_inventory_pierrettes = get_all_date(all_the_data, \"pierrettes\")"
   ]
  },
  {
   "cell_type": "code",
   "execution_count": 12,
   "metadata": {},
   "outputs": [],
   "source": [
    "# python will not accept a number starting with 3, and the date 2017-10-5 does not exists so the 5 has to be passed as a string '05'\n",
    "the_first_inventory = get_the_date(all_the_data, \"pierrettes\", 2016,10,13)\n",
    "the_second_inventory = get_the_date(all_the_data, \"pierrettes\", 2017,10,'05')"
   ]
  },
  {
   "cell_type": "code",
   "execution_count": 13,
   "metadata": {},
   "outputs": [
    {
     "data": {
      "text/html": [
       "<div>\n",
       "<style scoped>\n",
       "    .dataframe tbody tr th:only-of-type {\n",
       "        vertical-align: middle;\n",
       "    }\n",
       "\n",
       "    .dataframe tbody tr th {\n",
       "        vertical-align: top;\n",
       "    }\n",
       "\n",
       "    .dataframe thead th {\n",
       "        text-align: right;\n",
       "    }\n",
       "</style>\n",
       "<table border=\"1\" class=\"dataframe\">\n",
       "  <thead>\n",
       "    <tr style=\"text-align: right;\">\n",
       "      <th></th>\n",
       "      <th>location_id</th>\n",
       "      <th>date</th>\n",
       "      <th>code_id</th>\n",
       "      <th>length</th>\n",
       "      <th>quantity</th>\n",
       "      <th>project_id</th>\n",
       "      <th>owner</th>\n",
       "    </tr>\n",
       "  </thead>\n",
       "  <tbody>\n",
       "    <tr>\n",
       "      <td>0</td>\n",
       "      <td>Parc-des-Pierrettes</td>\n",
       "      <td>2016-10-13</td>\n",
       "      <td>G10</td>\n",
       "      <td>48</td>\n",
       "      <td>1</td>\n",
       "      <td>MCBP</td>\n",
       "      <td>mwshovel</td>\n",
       "    </tr>\n",
       "    <tr>\n",
       "      <td>1</td>\n",
       "      <td>Parc-des-Pierrettes</td>\n",
       "      <td>2016-10-13</td>\n",
       "      <td>G100</td>\n",
       "      <td>48</td>\n",
       "      <td>38</td>\n",
       "      <td>MCBP</td>\n",
       "      <td>mwshovel</td>\n",
       "    </tr>\n",
       "    <tr>\n",
       "      <td>2</td>\n",
       "      <td>Parc-des-Pierrettes</td>\n",
       "      <td>2016-10-13</td>\n",
       "      <td>G125</td>\n",
       "      <td>48</td>\n",
       "      <td>2</td>\n",
       "      <td>MCBP</td>\n",
       "      <td>mwshovel</td>\n",
       "    </tr>\n",
       "    <tr>\n",
       "      <td>3</td>\n",
       "      <td>Parc-des-Pierrettes</td>\n",
       "      <td>2016-10-13</td>\n",
       "      <td>G142</td>\n",
       "      <td>48</td>\n",
       "      <td>1</td>\n",
       "      <td>MCBP</td>\n",
       "      <td>mwshovel</td>\n",
       "    </tr>\n",
       "    <tr>\n",
       "      <td>4</td>\n",
       "      <td>Parc-des-Pierrettes</td>\n",
       "      <td>2016-10-13</td>\n",
       "      <td>G145</td>\n",
       "      <td>48</td>\n",
       "      <td>4</td>\n",
       "      <td>MCBP</td>\n",
       "      <td>mwshovel</td>\n",
       "    </tr>\n",
       "    <tr>\n",
       "      <td>...</td>\n",
       "      <td>...</td>\n",
       "      <td>...</td>\n",
       "      <td>...</td>\n",
       "      <td>...</td>\n",
       "      <td>...</td>\n",
       "      <td>...</td>\n",
       "      <td>...</td>\n",
       "    </tr>\n",
       "    <tr>\n",
       "      <td>83</td>\n",
       "      <td>Parc-des-Pierrettes</td>\n",
       "      <td>2019-10-10</td>\n",
       "      <td>G99</td>\n",
       "      <td>30</td>\n",
       "      <td>1</td>\n",
       "      <td>tiger-duck</td>\n",
       "      <td>mwshovel</td>\n",
       "    </tr>\n",
       "    <tr>\n",
       "      <td>84</td>\n",
       "      <td>Parc-des-Pierrettes</td>\n",
       "      <td>2019-10-10</td>\n",
       "      <td>G100</td>\n",
       "      <td>30</td>\n",
       "      <td>9</td>\n",
       "      <td>tiger-duck</td>\n",
       "      <td>mwshovel</td>\n",
       "    </tr>\n",
       "    <tr>\n",
       "      <td>85</td>\n",
       "      <td>Parc-des-Pierrettes</td>\n",
       "      <td>2019-10-10</td>\n",
       "      <td>G178</td>\n",
       "      <td>30</td>\n",
       "      <td>1</td>\n",
       "      <td>tiger-duck</td>\n",
       "      <td>mwshovel</td>\n",
       "    </tr>\n",
       "    <tr>\n",
       "      <td>86</td>\n",
       "      <td>Parc-des-Pierrettes</td>\n",
       "      <td>2019-10-10</td>\n",
       "      <td>G19</td>\n",
       "      <td>30</td>\n",
       "      <td>1</td>\n",
       "      <td>tiger-duck</td>\n",
       "      <td>mwshovel</td>\n",
       "    </tr>\n",
       "    <tr>\n",
       "      <td>87</td>\n",
       "      <td>Parc-des-Pierrettes</td>\n",
       "      <td>2019-10-10</td>\n",
       "      <td>G213</td>\n",
       "      <td>30</td>\n",
       "      <td>1</td>\n",
       "      <td>tiger-duck</td>\n",
       "      <td>mwshovel</td>\n",
       "    </tr>\n",
       "  </tbody>\n",
       "</table>\n",
       "<p>88 rows × 7 columns</p>\n",
       "</div>"
      ],
      "text/plain": [
       "            location_id        date code_id  length  quantity  project_id  \\\n",
       "0   Parc-des-Pierrettes  2016-10-13     G10      48         1        MCBP   \n",
       "1   Parc-des-Pierrettes  2016-10-13    G100      48        38        MCBP   \n",
       "2   Parc-des-Pierrettes  2016-10-13    G125      48         2        MCBP   \n",
       "3   Parc-des-Pierrettes  2016-10-13    G142      48         1        MCBP   \n",
       "4   Parc-des-Pierrettes  2016-10-13    G145      48         4        MCBP   \n",
       "..                  ...         ...     ...     ...       ...         ...   \n",
       "83  Parc-des-Pierrettes  2019-10-10     G99      30         1  tiger-duck   \n",
       "84  Parc-des-Pierrettes  2019-10-10    G100      30         9  tiger-duck   \n",
       "85  Parc-des-Pierrettes  2019-10-10    G178      30         1  tiger-duck   \n",
       "86  Parc-des-Pierrettes  2019-10-10     G19      30         1  tiger-duck   \n",
       "87  Parc-des-Pierrettes  2019-10-10    G213      30         1  tiger-duck   \n",
       "\n",
       "       owner  \n",
       "0   mwshovel  \n",
       "1   mwshovel  \n",
       "2   mwshovel  \n",
       "3   mwshovel  \n",
       "4   mwshovel  \n",
       "..       ...  \n",
       "83  mwshovel  \n",
       "84  mwshovel  \n",
       "85  mwshovel  \n",
       "86  mwshovel  \n",
       "87  mwshovel  \n",
       "\n",
       "[88 rows x 7 columns]"
      ]
     },
     "execution_count": 13,
     "metadata": {},
     "output_type": "execute_result"
    }
   ],
   "source": [
    "# turn the list into a panda dataframe\n",
    "pierretes_all = pd.DataFrame(all_inventory_pierrettes)\n",
    "pierretes_all"
   ]
  },
  {
   "cell_type": "code",
   "execution_count": 14,
   "metadata": {},
   "outputs": [
    {
     "data": {
      "text/plain": [
       "array(['2016-10-13', '2017-10-05', '2019-10-10'], dtype=object)"
      ]
     },
     "execution_count": 14,
     "metadata": {},
     "output_type": "execute_result"
    }
   ],
   "source": [
    "# the dates for this beach are:\n",
    "pierretes_all['date'].unique()"
   ]
  },
  {
   "cell_type": "code",
   "execution_count": 15,
   "metadata": {},
   "outputs": [
    {
     "data": {
      "text/html": [
       "<div>\n",
       "<style scoped>\n",
       "    .dataframe tbody tr th:only-of-type {\n",
       "        vertical-align: middle;\n",
       "    }\n",
       "\n",
       "    .dataframe tbody tr th {\n",
       "        vertical-align: top;\n",
       "    }\n",
       "\n",
       "    .dataframe thead th {\n",
       "        text-align: right;\n",
       "    }\n",
       "</style>\n",
       "<table border=\"1\" class=\"dataframe\">\n",
       "  <thead>\n",
       "    <tr style=\"text-align: right;\">\n",
       "      <th></th>\n",
       "      <th>location_id</th>\n",
       "      <th>date</th>\n",
       "      <th>code_id</th>\n",
       "      <th>length</th>\n",
       "      <th>quantity</th>\n",
       "      <th>project_id</th>\n",
       "      <th>owner</th>\n",
       "    </tr>\n",
       "  </thead>\n",
       "  <tbody>\n",
       "    <tr>\n",
       "      <td>20</td>\n",
       "      <td>Parc-des-Pierrettes</td>\n",
       "      <td>2016-10-13</td>\n",
       "      <td>G32</td>\n",
       "      <td>48</td>\n",
       "      <td>6</td>\n",
       "      <td>MCBP</td>\n",
       "      <td>mwshovel</td>\n",
       "    </tr>\n",
       "    <tr>\n",
       "      <td>52</td>\n",
       "      <td>Parc-des-Pierrettes</td>\n",
       "      <td>2017-10-05</td>\n",
       "      <td>G32</td>\n",
       "      <td>42</td>\n",
       "      <td>2</td>\n",
       "      <td>MCBP</td>\n",
       "      <td>mwshovel</td>\n",
       "    </tr>\n",
       "    <tr>\n",
       "      <td>76</td>\n",
       "      <td>Parc-des-Pierrettes</td>\n",
       "      <td>2019-10-10</td>\n",
       "      <td>G32</td>\n",
       "      <td>30</td>\n",
       "      <td>3</td>\n",
       "      <td>tiger-duck</td>\n",
       "      <td>mwshovel</td>\n",
       "    </tr>\n",
       "  </tbody>\n",
       "</table>\n",
       "</div>"
      ],
      "text/plain": [
       "            location_id        date code_id  length  quantity  project_id  \\\n",
       "20  Parc-des-Pierrettes  2016-10-13     G32      48         6        MCBP   \n",
       "52  Parc-des-Pierrettes  2017-10-05     G32      42         2        MCBP   \n",
       "76  Parc-des-Pierrettes  2019-10-10     G32      30         3  tiger-duck   \n",
       "\n",
       "       owner  \n",
       "20  mwshovel  \n",
       "52  mwshovel  \n",
       "76  mwshovel  "
      ]
     },
     "execution_count": 15,
     "metadata": {},
     "output_type": "execute_result"
    }
   ],
   "source": [
    "# find a specific object for any date on this beach\n",
    "pierretes_all.loc[pierretes_all['code_id'] == 'G32']"
   ]
  },
  {
   "cell_type": "code",
   "execution_count": 16,
   "metadata": {},
   "outputs": [
    {
     "data": {
      "text/html": [
       "<div>\n",
       "<style scoped>\n",
       "    .dataframe tbody tr th:only-of-type {\n",
       "        vertical-align: middle;\n",
       "    }\n",
       "\n",
       "    .dataframe tbody tr th {\n",
       "        vertical-align: top;\n",
       "    }\n",
       "\n",
       "    .dataframe thead th {\n",
       "        text-align: right;\n",
       "    }\n",
       "</style>\n",
       "<table border=\"1\" class=\"dataframe\">\n",
       "  <thead>\n",
       "    <tr style=\"text-align: right;\">\n",
       "      <th></th>\n",
       "      <th>location_id</th>\n",
       "      <th>date</th>\n",
       "      <th>code_id</th>\n",
       "      <th>length</th>\n",
       "      <th>quantity</th>\n",
       "      <th>project_id</th>\n",
       "      <th>owner</th>\n",
       "    </tr>\n",
       "  </thead>\n",
       "  <tbody>\n",
       "    <tr>\n",
       "      <td>25</td>\n",
       "      <td>Parc-des-Pierrettes</td>\n",
       "      <td>2016-10-13</td>\n",
       "      <td>G67</td>\n",
       "      <td>48</td>\n",
       "      <td>4</td>\n",
       "      <td>MCBP</td>\n",
       "      <td>mwshovel</td>\n",
       "    </tr>\n",
       "    <tr>\n",
       "      <td>70</td>\n",
       "      <td>Parc-des-Pierrettes</td>\n",
       "      <td>2019-10-10</td>\n",
       "      <td>G67</td>\n",
       "      <td>30</td>\n",
       "      <td>14</td>\n",
       "      <td>tiger-duck</td>\n",
       "      <td>mwshovel</td>\n",
       "    </tr>\n",
       "  </tbody>\n",
       "</table>\n",
       "</div>"
      ],
      "text/plain": [
       "            location_id        date code_id  length  quantity  project_id  \\\n",
       "25  Parc-des-Pierrettes  2016-10-13     G67      48         4        MCBP   \n",
       "70  Parc-des-Pierrettes  2019-10-10     G67      30        14  tiger-duck   \n",
       "\n",
       "       owner  \n",
       "25  mwshovel  \n",
       "70  mwshovel  "
      ]
     },
     "execution_count": 16,
     "metadata": {},
     "output_type": "execute_result"
    }
   ],
   "source": [
    "# find a specific object for any date on this beach\n",
    "pierretes_all.loc[pierretes_all['code_id'] == 'G67']"
   ]
  },
  {
   "cell_type": "markdown",
   "metadata": {},
   "source": [
    "##### get the total number found, the pieces per meter and the number of categories"
   ]
  },
  {
   "cell_type": "code",
   "execution_count": 17,
   "metadata": {},
   "outputs": [],
   "source": [
    "def get_some_stats(aList):\n",
    "    the_total = 0\n",
    "    pcs_m = 0\n",
    "    the_most = 0\n",
    "    the_most_object = ''\n",
    "    number_of_categories = len(aList)\n",
    "    for result in aList:\n",
    "        the_total += result[\"quantity\"]\n",
    "        pcs_m += result['quantity']/result['length']\n",
    "        if result[\"quantity\"] > the_most:\n",
    "            the_most = result['quantity']\n",
    "            the_most_object = result['code_id']\n",
    "    return {'pcs-m':pcs_m, 'the_total': the_total, 'categories':number_of_categories, 'the_max':the_most, 'the_max_object':the_most_object}"
   ]
  },
  {
   "cell_type": "markdown",
   "metadata": {},
   "source": [
    "##### Research questions:\n",
    "\n",
    "1. How does the pcs_m value found on that day compare to the results for the whole lake?\n",
    "2. What was the probability of finding that value? (given past results)\n",
    "3. Does the_max_object fall in the top ten of the whole lake?\n",
    "4. How does the value for pcs-m toys compare to the previous results?\n",
    "\n",
    "##### __Given the previous results, do you feel the latest survey results were predictable? How would you go about predicting values in the future?__\n"
   ]
  },
  {
   "cell_type": "code",
   "execution_count": 18,
   "metadata": {},
   "outputs": [
    {
     "data": {
      "text/plain": [
       "{'pcs-m': 6.366666666666665,\n",
       " 'the_total': 191,\n",
       " 'categories': 28,\n",
       " 'the_max': 70,\n",
       " 'the_max_object': 'G82'}"
      ]
     },
     "execution_count": 18,
     "metadata": {},
     "output_type": "execute_result"
    }
   ],
   "source": [
    "get_some_stats(the_latest_inventory)"
   ]
  },
  {
   "cell_type": "code",
   "execution_count": 19,
   "metadata": {},
   "outputs": [
    {
     "data": {
      "text/plain": [
       "({'pcs-m': 14.437499999999998,\n",
       "  'the_total': 693,\n",
       "  'categories': 35,\n",
       "  'the_max': 267,\n",
       "  'the_max_object': 'G82'},\n",
       " {'pcs-m': 6.1428571428571415,\n",
       "  'the_total': 258,\n",
       "  'categories': 25,\n",
       "  'the_max': 57,\n",
       "  'the_max_object': 'G27'})"
      ]
     },
     "execution_count": 19,
     "metadata": {},
     "output_type": "execute_result"
    }
   ],
   "source": [
    "# get some stats for the two first dates in pierrettes\n",
    "get_some_stats(the_first_inventory), get_some_stats(the_second_inventory)"
   ]
  },
  {
   "cell_type": "markdown",
   "metadata": {},
   "source": [
    "#### Group the results by month\n",
    "\n",
    "1. Get the median, average, 50th percentile, 75th percentile and number of samples per month\n",
    "2. Identify which, if any, may have a seasonal variation\n",
    "3. Determine the method to verify seasonal variation"
   ]
  },
  {
   "cell_type": "code",
   "execution_count": 20,
   "metadata": {},
   "outputs": [
    {
     "name": "stdout",
     "output_type": "stream",
     "text": [
      "['2015-11-23', 0.066]\n"
     ]
    }
   ],
   "source": [
    "# check the first entries in toys.value\n",
    "# it gives a date and a value in pcs/m\n",
    "print(toys.time_value[0])"
   ]
  },
  {
   "cell_type": "code",
   "execution_count": 21,
   "metadata": {},
   "outputs": [
    {
     "data": {
      "text/plain": [
       "[datetime.datetime(2015, 11, 23, 0, 0), 0.066]"
      ]
     },
     "execution_count": 21,
     "metadata": {},
     "output_type": "execute_result"
    }
   ],
   "source": [
    "# convert all string values to datetime objects\n",
    "toys_dates_datetime = [[datetime.datetime.strptime(x[0], \"%Y-%m-%d\"), x[1]] for x in toys.time_value]\n",
    "toys_dates_datetime[0]"
   ]
  },
  {
   "cell_type": "code",
   "execution_count": 22,
   "metadata": {},
   "outputs": [],
   "source": [
    "#  group by month\n",
    "def group_values_by_month(aList):\n",
    "    grouped_by_month = {}\n",
    "    for x in aList:\n",
    "        month = x[0].month\n",
    "        months = grouped_by_month.keys()\n",
    "        if month in months:\n",
    "            grouped_by_month[month].append(x)\n",
    "        else:\n",
    "            grouped_by_month[month] = [x]\n",
    "    return grouped_by_month\n",
    "toys_grouped_by_month = group_values_by_month(toys_dates_datetime)"
   ]
  },
  {
   "cell_type": "code",
   "execution_count": 23,
   "metadata": {},
   "outputs": [],
   "source": [
    "# supress scientific notation for numpy array display\n",
    "np.set_printoptions(suppress=True)\n",
    "# set default precision when printing numpy arrays\n",
    "np.set_printoptions(precision=3)"
   ]
  },
  {
   "cell_type": "code",
   "execution_count": 24,
   "metadata": {},
   "outputs": [],
   "source": [
    "# group by month and year\n",
    "\n",
    "def group_values_by_month_year(aList):\n",
    "    grouped_by_month_year = {}\n",
    "    for x in aList:\n",
    "        month_year = (x[0].year, x[0].month)\n",
    "        months_years = grouped_by_month_year.keys()\n",
    "        if month_year in months_years:\n",
    "            grouped_by_month_year[month_year].append(x)\n",
    "        else:\n",
    "            grouped_by_month_year[month_year] = [x]\n",
    "    return grouped_by_month_year\n",
    "toys_grouped_by_month_year = group_values_by_month_year(toys_dates_datetime)"
   ]
  },
  {
   "cell_type": "markdown",
   "metadata": {},
   "source": [
    "### Some attempts at working with the dictionary"
   ]
  },
  {
   "cell_type": "code",
   "execution_count": 25,
   "metadata": {},
   "outputs": [
    {
     "data": {
      "text/plain": [
       "{(2015, 11): [[datetime.datetime(2015, 11, 23, 0, 0), 0.066]],\n",
       " (2015, 12): [[datetime.datetime(2015, 12, 4, 0, 0), 0.066],\n",
       "  [datetime.datetime(2015, 12, 4, 0, 0), 0.016],\n",
       "  [datetime.datetime(2015, 12, 10, 0, 0), 0.016],\n",
       "  [datetime.datetime(2015, 12, 17, 0, 0), 0.016],\n",
       "  [datetime.datetime(2015, 12, 30, 0, 0), 0.049],\n",
       "  [datetime.datetime(2015, 12, 16, 0, 0), 0.014]],\n",
       " (2016, 1): [[datetime.datetime(2016, 1, 7, 0, 0), 0.033],\n",
       "  [datetime.datetime(2016, 1, 13, 0, 0), 0.016],\n",
       "  [datetime.datetime(2016, 1, 19, 0, 0), 0.033],\n",
       "  [datetime.datetime(2016, 1, 19, 0, 0), 0.016],\n",
       "  [datetime.datetime(2016, 1, 6, 0, 0), 0.014],\n",
       "  [datetime.datetime(2016, 1, 13, 0, 0), 0.02],\n",
       "  [datetime.datetime(2016, 1, 23, 0, 0), 0.058],\n",
       "  [datetime.datetime(2016, 1, 15, 0, 0), 0.057],\n",
       "  [datetime.datetime(2016, 1, 24, 0, 0), 0.8],\n",
       "  [datetime.datetime(2016, 1, 21, 0, 0), 0.019]],\n",
       " (2016, 2): [[datetime.datetime(2016, 2, 11, 0, 0), 0.082],\n",
       "  [datetime.datetime(2016, 2, 10, 0, 0), 0.029],\n",
       "  [datetime.datetime(2016, 2, 9, 0, 0), 0.019]],\n",
       " (2016, 5): [[datetime.datetime(2016, 5, 17, 0, 0), 0.016],\n",
       "  [datetime.datetime(2016, 5, 2, 0, 0), 0.062],\n",
       "  [datetime.datetime(2016, 5, 10, 0, 0), 0.116],\n",
       "  [datetime.datetime(2016, 5, 10, 0, 0), 0.438],\n",
       "  [datetime.datetime(2016, 5, 30, 0, 0), 0.039],\n",
       "  [datetime.datetime(2016, 5, 3, 0, 0), 0.047],\n",
       "  [datetime.datetime(2016, 5, 31, 0, 0), 0.067]],\n",
       " (2016, 6): [[datetime.datetime(2016, 6, 22, 0, 0), 0.033],\n",
       "  [datetime.datetime(2016, 6, 28, 0, 0), 0.066],\n",
       "  [datetime.datetime(2016, 6, 17, 0, 0), 0.038]],\n",
       " (2016, 7): [[datetime.datetime(2016, 7, 16, 0, 0), 0.016],\n",
       "  [datetime.datetime(2016, 7, 15, 0, 0), 0.049],\n",
       "  [datetime.datetime(2016, 7, 10, 0, 0), 0.033]],\n",
       " (2016, 9): [[datetime.datetime(2016, 9, 21, 0, 0), 0.643]],\n",
       " (2016, 12): [[datetime.datetime(2016, 12, 16, 0, 0), 0.323]],\n",
       " (2016, 3): [[datetime.datetime(2016, 3, 14, 0, 0), 0.216],\n",
       "  [datetime.datetime(2016, 3, 26, 0, 0), 0.294],\n",
       "  [datetime.datetime(2016, 3, 31, 0, 0), 0.2]],\n",
       " (2016, 4): [[datetime.datetime(2016, 4, 28, 0, 0), 0.024],\n",
       "  [datetime.datetime(2016, 4, 2, 0, 0), 0.143],\n",
       "  [datetime.datetime(2016, 4, 10, 0, 0), 0.071],\n",
       "  [datetime.datetime(2016, 4, 10, 0, 0), 0.156],\n",
       "  [datetime.datetime(2016, 4, 12, 0, 0), 0.019],\n",
       "  [datetime.datetime(2016, 4, 19, 0, 0), 0.118],\n",
       "  [datetime.datetime(2016, 4, 24, 0, 0), 0.016]],\n",
       " (2016, 8): [[datetime.datetime(2016, 8, 25, 0, 0), 0.1]],\n",
       " (2016, 10): [[datetime.datetime(2016, 10, 13, 0, 0), 0.125],\n",
       "  [datetime.datetime(2016, 10, 13, 0, 0), 0.125]],\n",
       " (2016, 11): [[datetime.datetime(2016, 11, 14, 0, 0), 0.016],\n",
       "  [datetime.datetime(2016, 11, 17, 0, 0), 0.129],\n",
       "  [datetime.datetime(2016, 11, 21, 0, 0), 0.135],\n",
       "  [datetime.datetime(2016, 11, 28, 0, 0), 0.064]],\n",
       " (2017, 1): [[datetime.datetime(2017, 1, 5, 0, 0), 0.116],\n",
       "  [datetime.datetime(2017, 1, 31, 0, 0), 0.167]],\n",
       " (2017, 3): [[datetime.datetime(2017, 3, 20, 0, 0), 0.075]],\n",
       " (2017, 4): [[datetime.datetime(2017, 4, 9, 0, 0), 0.033],\n",
       "  [datetime.datetime(2017, 4, 30, 0, 0), 0.111]],\n",
       " (2017, 6): [[datetime.datetime(2017, 6, 8, 0, 0), 0.081]],\n",
       " (2017, 5): [[datetime.datetime(2017, 5, 25, 0, 0), 0.105],\n",
       "  [datetime.datetime(2017, 5, 19, 0, 0), 0.033],\n",
       "  [datetime.datetime(2017, 5, 19, 0, 0), 0.233]],\n",
       " (2017, 9): [[datetime.datetime(2017, 9, 30, 0, 0), 0.162]],\n",
       " (2017, 10): [[datetime.datetime(2017, 10, 5, 0, 0), 0.25],\n",
       "  [datetime.datetime(2017, 10, 5, 0, 0), 0.048],\n",
       "  [datetime.datetime(2017, 10, 22, 0, 0), 0.071]],\n",
       " (2018, 4): [[datetime.datetime(2018, 4, 2, 0, 0), 0.129]],\n",
       " (2018, 5): [[datetime.datetime(2018, 5, 8, 0, 0), 0.067]],\n",
       " (2018, 7): [[datetime.datetime(2018, 7, 22, 0, 0), 0.045]],\n",
       " (2017, 12): [[datetime.datetime(2017, 12, 16, 0, 0), 0.143],\n",
       "  [datetime.datetime(2017, 12, 16, 0, 0), 0.012]],\n",
       " (2017, 7): [[datetime.datetime(2017, 7, 11, 0, 0), 0.012]],\n",
       " (2017, 11): [[datetime.datetime(2017, 11, 17, 0, 0), 0.012]],\n",
       " (2018, 1): [[datetime.datetime(2018, 1, 23, 0, 0), 0.037]],\n",
       " (2018, 10): [[datetime.datetime(2018, 10, 16, 0, 0), 2.222]],\n",
       " (2018, 11): [[datetime.datetime(2018, 11, 6, 0, 0), 0.056]],\n",
       " (2019, 10): [[datetime.datetime(2019, 10, 10, 0, 0), 0.1]]}"
      ]
     },
     "execution_count": 25,
     "metadata": {},
     "output_type": "execute_result"
    }
   ],
   "source": [
    "# display\n",
    "toys_grouped_by_month_year\n",
    "\n",
    "# dataframe display\n",
    "#pd.DataFrame.from_dict(toys_grouped_by_month_year, orient='index')"
   ]
  },
  {
   "cell_type": "code",
   "execution_count": 26,
   "metadata": {},
   "outputs": [
    {
     "data": {
      "text/plain": [
       "(31, dict)"
      ]
     },
     "execution_count": 26,
     "metadata": {},
     "output_type": "execute_result"
    }
   ],
   "source": [
    "# properties\n",
    "len(toys_grouped_by_month_year), type(toys_grouped_by_month_year)"
   ]
  },
  {
   "cell_type": "code",
   "execution_count": 27,
   "metadata": {},
   "outputs": [
    {
     "data": {
      "text/plain": [
       "[[datetime.datetime(2015, 12, 4, 0, 0), 0.066],\n",
       " [datetime.datetime(2015, 12, 4, 0, 0), 0.016],\n",
       " [datetime.datetime(2015, 12, 10, 0, 0), 0.016],\n",
       " [datetime.datetime(2015, 12, 17, 0, 0), 0.016],\n",
       " [datetime.datetime(2015, 12, 30, 0, 0), 0.049],\n",
       " [datetime.datetime(2015, 12, 16, 0, 0), 0.014]]"
      ]
     },
     "execution_count": 27,
     "metadata": {},
     "output_type": "execute_result"
    }
   ],
   "source": [
    "# navigating the dictionary\n",
    "toys_grouped_by_month_year[(2015,12)]"
   ]
  },
  {
   "cell_type": "code",
   "execution_count": 28,
   "metadata": {},
   "outputs": [
    {
     "data": {
      "text/plain": [
       "0.016"
      ]
     },
     "execution_count": 28,
     "metadata": {},
     "output_type": "execute_result"
    }
   ],
   "source": [
    "toys_grouped_by_month_year[(2015,12)][1][1]"
   ]
  },
  {
   "cell_type": "code",
   "execution_count": 29,
   "metadata": {},
   "outputs": [
    {
     "data": {
      "text/plain": [
       "(2015, 12)"
      ]
     },
     "execution_count": 29,
     "metadata": {},
     "output_type": "execute_result"
    }
   ],
   "source": [
    "l = list(toys_grouped_by_month_year.keys())\n",
    "l[1]"
   ]
  },
  {
   "cell_type": "code",
   "execution_count": 30,
   "metadata": {},
   "outputs": [
    {
     "data": {
      "text/plain": [
       "[[datetime.datetime(2015, 12, 4, 0, 0), 0.066],\n",
       " [datetime.datetime(2015, 12, 4, 0, 0), 0.016],\n",
       " [datetime.datetime(2015, 12, 10, 0, 0), 0.016],\n",
       " [datetime.datetime(2015, 12, 17, 0, 0), 0.016],\n",
       " [datetime.datetime(2015, 12, 30, 0, 0), 0.049],\n",
       " [datetime.datetime(2015, 12, 16, 0, 0), 0.014]]"
      ]
     },
     "execution_count": 30,
     "metadata": {},
     "output_type": "execute_result"
    }
   ],
   "source": [
    "toys_grouped_by_month_year[l[1]]"
   ]
  },
  {
   "cell_type": "code",
   "execution_count": 31,
   "metadata": {},
   "outputs": [
    {
     "data": {
      "text/plain": [
       "array([0.066, 0.016, 0.016, 0.016, 0.049, 0.014], dtype=object)"
      ]
     },
     "execution_count": 31,
     "metadata": {},
     "output_type": "execute_result"
    }
   ],
   "source": [
    "# working with numpy\n",
    "np.array(toys_grouped_by_month_year[l[1]])[:,1]"
   ]
  },
  {
   "cell_type": "code",
   "execution_count": 32,
   "metadata": {},
   "outputs": [
    {
     "data": {
      "text/plain": [
       "0.029500000000000002"
      ]
     },
     "execution_count": 32,
     "metadata": {},
     "output_type": "execute_result"
    }
   ],
   "source": [
    "np.mean(np.array(toys_grouped_by_month_year[l[1]])[:,1])"
   ]
  },
  {
   "cell_type": "code",
   "execution_count": 33,
   "metadata": {},
   "outputs": [
    {
     "data": {
      "text/plain": [
       "array([0.066, 0.03 , 0.107, 0.043, 0.112, 0.046, 0.033, 0.643, 0.323,\n",
       "       0.237, 0.078, 0.1  , 0.125, 0.086, 0.142, 0.075, 0.072, 0.081,\n",
       "       0.124, 0.162, 0.123, 0.129, 0.067, 0.045, 0.077, 0.012, 0.012,\n",
       "       0.037, 2.222, 0.056, 0.1  ])"
      ]
     },
     "execution_count": 33,
     "metadata": {},
     "output_type": "execute_result"
    }
   ],
   "source": [
    "# monthly average\n",
    "monthly_average=np.zeros(len(toys_grouped_by_month_year.keys()))\n",
    "j = 0\n",
    "for i in l:\n",
    "    monthly_average[j] = np.mean(np.array(toys_grouped_by_month_year[i])[:,1])\n",
    "    j = j+1\n",
    "monthly_average"
   ]
  },
  {
   "cell_type": "code",
   "execution_count": 34,
   "metadata": {},
   "outputs": [
    {
     "data": {
      "text/plain": [
       "[(2015, 11),\n",
       " (2015, 12),\n",
       " (2016, 1),\n",
       " (2016, 2),\n",
       " (2016, 5),\n",
       " (2016, 6),\n",
       " (2016, 7),\n",
       " (2016, 9),\n",
       " (2016, 12),\n",
       " (2016, 3),\n",
       " (2016, 4),\n",
       " (2016, 8),\n",
       " (2016, 10),\n",
       " (2016, 11),\n",
       " (2017, 1),\n",
       " (2017, 3),\n",
       " (2017, 4),\n",
       " (2017, 6),\n",
       " (2017, 5),\n",
       " (2017, 9),\n",
       " (2017, 10),\n",
       " (2018, 4),\n",
       " (2018, 5),\n",
       " (2018, 7),\n",
       " (2017, 12),\n",
       " (2017, 7),\n",
       " (2017, 11),\n",
       " (2018, 1),\n",
       " (2018, 10),\n",
       " (2018, 11),\n",
       " (2019, 10)]"
      ]
     },
     "execution_count": 34,
     "metadata": {},
     "output_type": "execute_result"
    }
   ],
   "source": [
    "# index dates corresponding to each average\n",
    "list(toys_grouped_by_month_year.keys())"
   ]
  },
  {
   "cell_type": "code",
   "execution_count": 35,
   "metadata": {},
   "outputs": [],
   "source": [
    "dates = np.array(list(toys_grouped_by_month_year.keys()))\n",
    "#dates"
   ]
  },
  {
   "cell_type": "code",
   "execution_count": 36,
   "metadata": {},
   "outputs": [],
   "source": [
    "# A is a numpy array containing the average, the year, the month and an incremental value\n",
    "A = np.zeros((len(monthly_average),4))\n",
    "A[:,0] = monthly_average\n",
    "A[:,[1,2]] = dates\n",
    "#A"
   ]
  },
  {
   "cell_type": "code",
   "execution_count": 37,
   "metadata": {},
   "outputs": [
    {
     "data": {
      "text/html": [
       "<div>\n",
       "<style scoped>\n",
       "    .dataframe tbody tr th:only-of-type {\n",
       "        vertical-align: middle;\n",
       "    }\n",
       "\n",
       "    .dataframe tbody tr th {\n",
       "        vertical-align: top;\n",
       "    }\n",
       "\n",
       "    .dataframe thead th {\n",
       "        text-align: right;\n",
       "    }\n",
       "</style>\n",
       "<table border=\"1\" class=\"dataframe\">\n",
       "  <thead>\n",
       "    <tr style=\"text-align: right;\">\n",
       "      <th></th>\n",
       "      <th>pcs_m</th>\n",
       "      <th>year</th>\n",
       "      <th>month</th>\n",
       "      <th>t</th>\n",
       "    </tr>\n",
       "  </thead>\n",
       "  <tbody>\n",
       "    <tr>\n",
       "      <td>0</td>\n",
       "      <td>0.066000</td>\n",
       "      <td>2015.0</td>\n",
       "      <td>11.0</td>\n",
       "      <td>0.0</td>\n",
       "    </tr>\n",
       "    <tr>\n",
       "      <td>1</td>\n",
       "      <td>0.029500</td>\n",
       "      <td>2015.0</td>\n",
       "      <td>12.0</td>\n",
       "      <td>0.0</td>\n",
       "    </tr>\n",
       "    <tr>\n",
       "      <td>2</td>\n",
       "      <td>0.106600</td>\n",
       "      <td>2016.0</td>\n",
       "      <td>1.0</td>\n",
       "      <td>0.0</td>\n",
       "    </tr>\n",
       "    <tr>\n",
       "      <td>3</td>\n",
       "      <td>0.043333</td>\n",
       "      <td>2016.0</td>\n",
       "      <td>2.0</td>\n",
       "      <td>0.0</td>\n",
       "    </tr>\n",
       "    <tr>\n",
       "      <td>9</td>\n",
       "      <td>0.236667</td>\n",
       "      <td>2016.0</td>\n",
       "      <td>3.0</td>\n",
       "      <td>0.0</td>\n",
       "    </tr>\n",
       "    <tr>\n",
       "      <td>10</td>\n",
       "      <td>0.078143</td>\n",
       "      <td>2016.0</td>\n",
       "      <td>4.0</td>\n",
       "      <td>0.0</td>\n",
       "    </tr>\n",
       "    <tr>\n",
       "      <td>4</td>\n",
       "      <td>0.112143</td>\n",
       "      <td>2016.0</td>\n",
       "      <td>5.0</td>\n",
       "      <td>0.0</td>\n",
       "    </tr>\n",
       "    <tr>\n",
       "      <td>5</td>\n",
       "      <td>0.045667</td>\n",
       "      <td>2016.0</td>\n",
       "      <td>6.0</td>\n",
       "      <td>0.0</td>\n",
       "    </tr>\n",
       "    <tr>\n",
       "      <td>6</td>\n",
       "      <td>0.032667</td>\n",
       "      <td>2016.0</td>\n",
       "      <td>7.0</td>\n",
       "      <td>0.0</td>\n",
       "    </tr>\n",
       "    <tr>\n",
       "      <td>11</td>\n",
       "      <td>0.100000</td>\n",
       "      <td>2016.0</td>\n",
       "      <td>8.0</td>\n",
       "      <td>0.0</td>\n",
       "    </tr>\n",
       "    <tr>\n",
       "      <td>7</td>\n",
       "      <td>0.643000</td>\n",
       "      <td>2016.0</td>\n",
       "      <td>9.0</td>\n",
       "      <td>0.0</td>\n",
       "    </tr>\n",
       "    <tr>\n",
       "      <td>12</td>\n",
       "      <td>0.125000</td>\n",
       "      <td>2016.0</td>\n",
       "      <td>10.0</td>\n",
       "      <td>0.0</td>\n",
       "    </tr>\n",
       "    <tr>\n",
       "      <td>13</td>\n",
       "      <td>0.086000</td>\n",
       "      <td>2016.0</td>\n",
       "      <td>11.0</td>\n",
       "      <td>0.0</td>\n",
       "    </tr>\n",
       "    <tr>\n",
       "      <td>8</td>\n",
       "      <td>0.323000</td>\n",
       "      <td>2016.0</td>\n",
       "      <td>12.0</td>\n",
       "      <td>0.0</td>\n",
       "    </tr>\n",
       "    <tr>\n",
       "      <td>14</td>\n",
       "      <td>0.141500</td>\n",
       "      <td>2017.0</td>\n",
       "      <td>1.0</td>\n",
       "      <td>0.0</td>\n",
       "    </tr>\n",
       "    <tr>\n",
       "      <td>15</td>\n",
       "      <td>0.075000</td>\n",
       "      <td>2017.0</td>\n",
       "      <td>3.0</td>\n",
       "      <td>0.0</td>\n",
       "    </tr>\n",
       "    <tr>\n",
       "      <td>16</td>\n",
       "      <td>0.072000</td>\n",
       "      <td>2017.0</td>\n",
       "      <td>4.0</td>\n",
       "      <td>0.0</td>\n",
       "    </tr>\n",
       "    <tr>\n",
       "      <td>18</td>\n",
       "      <td>0.123667</td>\n",
       "      <td>2017.0</td>\n",
       "      <td>5.0</td>\n",
       "      <td>0.0</td>\n",
       "    </tr>\n",
       "    <tr>\n",
       "      <td>17</td>\n",
       "      <td>0.081000</td>\n",
       "      <td>2017.0</td>\n",
       "      <td>6.0</td>\n",
       "      <td>0.0</td>\n",
       "    </tr>\n",
       "    <tr>\n",
       "      <td>25</td>\n",
       "      <td>0.012000</td>\n",
       "      <td>2017.0</td>\n",
       "      <td>7.0</td>\n",
       "      <td>0.0</td>\n",
       "    </tr>\n",
       "    <tr>\n",
       "      <td>19</td>\n",
       "      <td>0.162000</td>\n",
       "      <td>2017.0</td>\n",
       "      <td>9.0</td>\n",
       "      <td>0.0</td>\n",
       "    </tr>\n",
       "    <tr>\n",
       "      <td>20</td>\n",
       "      <td>0.123000</td>\n",
       "      <td>2017.0</td>\n",
       "      <td>10.0</td>\n",
       "      <td>0.0</td>\n",
       "    </tr>\n",
       "    <tr>\n",
       "      <td>26</td>\n",
       "      <td>0.012000</td>\n",
       "      <td>2017.0</td>\n",
       "      <td>11.0</td>\n",
       "      <td>0.0</td>\n",
       "    </tr>\n",
       "    <tr>\n",
       "      <td>24</td>\n",
       "      <td>0.077500</td>\n",
       "      <td>2017.0</td>\n",
       "      <td>12.0</td>\n",
       "      <td>0.0</td>\n",
       "    </tr>\n",
       "    <tr>\n",
       "      <td>27</td>\n",
       "      <td>0.037000</td>\n",
       "      <td>2018.0</td>\n",
       "      <td>1.0</td>\n",
       "      <td>0.0</td>\n",
       "    </tr>\n",
       "    <tr>\n",
       "      <td>21</td>\n",
       "      <td>0.129000</td>\n",
       "      <td>2018.0</td>\n",
       "      <td>4.0</td>\n",
       "      <td>0.0</td>\n",
       "    </tr>\n",
       "    <tr>\n",
       "      <td>22</td>\n",
       "      <td>0.067000</td>\n",
       "      <td>2018.0</td>\n",
       "      <td>5.0</td>\n",
       "      <td>0.0</td>\n",
       "    </tr>\n",
       "    <tr>\n",
       "      <td>23</td>\n",
       "      <td>0.045000</td>\n",
       "      <td>2018.0</td>\n",
       "      <td>7.0</td>\n",
       "      <td>0.0</td>\n",
       "    </tr>\n",
       "    <tr>\n",
       "      <td>28</td>\n",
       "      <td>2.222000</td>\n",
       "      <td>2018.0</td>\n",
       "      <td>10.0</td>\n",
       "      <td>0.0</td>\n",
       "    </tr>\n",
       "    <tr>\n",
       "      <td>29</td>\n",
       "      <td>0.056000</td>\n",
       "      <td>2018.0</td>\n",
       "      <td>11.0</td>\n",
       "      <td>0.0</td>\n",
       "    </tr>\n",
       "    <tr>\n",
       "      <td>30</td>\n",
       "      <td>0.100000</td>\n",
       "      <td>2019.0</td>\n",
       "      <td>10.0</td>\n",
       "      <td>0.0</td>\n",
       "    </tr>\n",
       "  </tbody>\n",
       "</table>\n",
       "</div>"
      ],
      "text/plain": [
       "       pcs_m    year  month    t\n",
       "0   0.066000  2015.0   11.0  0.0\n",
       "1   0.029500  2015.0   12.0  0.0\n",
       "2   0.106600  2016.0    1.0  0.0\n",
       "3   0.043333  2016.0    2.0  0.0\n",
       "9   0.236667  2016.0    3.0  0.0\n",
       "10  0.078143  2016.0    4.0  0.0\n",
       "4   0.112143  2016.0    5.0  0.0\n",
       "5   0.045667  2016.0    6.0  0.0\n",
       "6   0.032667  2016.0    7.0  0.0\n",
       "11  0.100000  2016.0    8.0  0.0\n",
       "7   0.643000  2016.0    9.0  0.0\n",
       "12  0.125000  2016.0   10.0  0.0\n",
       "13  0.086000  2016.0   11.0  0.0\n",
       "8   0.323000  2016.0   12.0  0.0\n",
       "14  0.141500  2017.0    1.0  0.0\n",
       "15  0.075000  2017.0    3.0  0.0\n",
       "16  0.072000  2017.0    4.0  0.0\n",
       "18  0.123667  2017.0    5.0  0.0\n",
       "17  0.081000  2017.0    6.0  0.0\n",
       "25  0.012000  2017.0    7.0  0.0\n",
       "19  0.162000  2017.0    9.0  0.0\n",
       "20  0.123000  2017.0   10.0  0.0\n",
       "26  0.012000  2017.0   11.0  0.0\n",
       "24  0.077500  2017.0   12.0  0.0\n",
       "27  0.037000  2018.0    1.0  0.0\n",
       "21  0.129000  2018.0    4.0  0.0\n",
       "22  0.067000  2018.0    5.0  0.0\n",
       "23  0.045000  2018.0    7.0  0.0\n",
       "28  2.222000  2018.0   10.0  0.0\n",
       "29  0.056000  2018.0   11.0  0.0\n",
       "30  0.100000  2019.0   10.0  0.0"
      ]
     },
     "execution_count": 37,
     "metadata": {},
     "output_type": "execute_result"
    }
   ],
   "source": [
    "# order the array first by year then by month\n",
    "A_df = pd.DataFrame(A, columns=['pcs_m', 'year', 'month', 't'])\n",
    "A_df = A_df.sort_values(['year', 'month'])\n",
    "A_df"
   ]
  },
  {
   "cell_type": "code",
   "execution_count": 38,
   "metadata": {},
   "outputs": [],
   "source": [
    "A = np.array(A_df)\n",
    "#A"
   ]
  },
  {
   "cell_type": "code",
   "execution_count": 39,
   "metadata": {},
   "outputs": [
    {
     "data": {
      "text/plain": [
       "(array([ 0,  1,  2,  3,  4,  5,  6,  7,  8,  9, 10, 11, 12, 13, 14, 15, 16,\n",
       "        17, 18, 19, 20, 21, 22, 23, 24, 25, 26, 27, 28, 29, 30, 31, 32, 33,\n",
       "        34, 35, 36, 37, 38, 39, 40, 41, 42, 43, 44, 45, 46, 47]), 4)"
      ]
     },
     "execution_count": 39,
     "metadata": {},
     "output_type": "execute_result"
    }
   ],
   "source": [
    "# time elapsed from the first to last measurment\n",
    "n_year = int(A[-1,1] - A[0,1])\n",
    "time = np.arange(n_year*12)\n",
    "time, int(n_year)"
   ]
  },
  {
   "cell_type": "code",
   "execution_count": 40,
   "metadata": {},
   "outputs": [],
   "source": [
    "# months elapsed from the first to last measurment counting from the first month and cycling\n",
    "t = (np.arange(n_year*12) + A[0,2] - 1)%12 + 1\n",
    "#t"
   ]
  },
  {
   "cell_type": "code",
   "execution_count": 41,
   "metadata": {},
   "outputs": [],
   "source": [
    "T = np.column_stack((t,time))\n",
    "#T"
   ]
  },
  {
   "cell_type": "code",
   "execution_count": 42,
   "metadata": {},
   "outputs": [],
   "source": [
    "# add empty months to array A\n",
    "j = 0\n",
    "i = 0\n",
    "while i < len(toys_grouped_by_month_year) and j < len(T):\n",
    "    if A[i,2] == T[j,0]:\n",
    "        A[i,3] = T[j, 1]\n",
    "        i = i + 1\n",
    "        j = j + 1\n",
    "    else:\n",
    "        j = j + 1\n",
    "#A"
   ]
  },
  {
   "cell_type": "code",
   "execution_count": 43,
   "metadata": {},
   "outputs": [],
   "source": [
    "dates = [' ']*len(A)\n",
    "for i in range(0,len(A)):\n",
    "    dates[i] = '{year}-{month}'.format(year = int(A[i,1]), month = int(A[i,2]))\n",
    "#dates"
   ]
  },
  {
   "cell_type": "code",
   "execution_count": 44,
   "metadata": {},
   "outputs": [],
   "source": [
    "# set a default figure size for all figures\n",
    "plt.rcParams['figure.figsize'] = [15, 5]"
   ]
  },
  {
   "cell_type": "code",
   "execution_count": 45,
   "metadata": {},
   "outputs": [
    {
     "data": {
      "image/png": "[encoded data removed]",
      "text/plain": [
       "<Figure size 1080x360 with 1 Axes>"
      ]
     },
     "metadata": {
      "needs_background": "light"
     },
     "output_type": "display_data"
    }
   ],
   "source": [
    "plt.scatter(A[:,3], A[:,0])\n",
    "plt.xticks(A[:,3], dates, rotation = 'vertical')\n",
    "plt.show()"
   ]
  },
  {
   "cell_type": "markdown",
   "metadata": {},
   "source": [
    "### additional code"
   ]
  },
  {
   "cell_type": "code",
   "execution_count": 46,
   "metadata": {},
   "outputs": [
    {
     "data": {
      "text/plain": [
       "-0.26009389671361505"
      ]
     },
     "execution_count": 46,
     "metadata": {},
     "output_type": "execute_result"
    }
   ],
   "source": [
    "# probability of finding this mean compared to the entire lac\n",
    "sigma = 10.65 # standard deviation lake all time\n",
    "mean = 9.14 # average for the lake  all time\n",
    "x  = 6.37 # average obtained at pierretes 2019.10.10\n",
    "n = 191 # samples\n",
    "\n",
    "#(1/(2*np.pi*sigma**2)**0.5)*np.e**(-(x-mean)**2/(2*sigma**2))\n",
    "Z1 = (x - mean)/(sigma/n**0.5)\n",
    "Z2 = (x - mean)/(sigma)\n",
    "Z2"
   ]
  },
  {
   "cell_type": "code",
   "execution_count": null,
   "metadata": {},
   "outputs": [],
   "source": []
  }
 ],
 "metadata": {
  "hide_input": false,
  "kernelspec": {
   "display_name": "Python 3",
   "language": "python",
   "name": "python3"
  },
  "language_info": {
   "codemirror_mode": {
    "name": "ipython",
    "version": 3
   },
   "file_extension": ".py",
   "mimetype": "text/x-python",
   "name": "python",
   "nbconvert_exporter": "python",
   "pygments_lexer": "ipython3",
   "version": "3.7.3"
  }
 },
 "nbformat": 4,
 "nbformat_minor": 4
}
