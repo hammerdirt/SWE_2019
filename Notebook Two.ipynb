{
 "cells": [
  {
   "cell_type": "markdown",
   "metadata": {},
   "source": [
    "### Note book Two\n",
    "\n",
    "Compare the survey results for specific items indentified during shoreline surveillance of Lake Geneva. Group survey results in time by Winter, Spring, Summer or Fall, by body of water and municipality.\n",
    "\n",
    "__Research question:__\n",
    "\n",
    "_Does the data indicate that shoreline litter densities are seasonal? If so describe the relationship._\n",
    "\n",
    "#### Contents\n",
    "\n",
    "1. Automating some things\n",
    "2. Making a MlwCode class  \n",
    "3. Dealing with time\n",
    "4. Grouping by season\n",
    "5. Plot grouped by season and code\n"
   ]
  },
  {
   "cell_type": "markdown",
   "metadata": {},
   "source": [
    "### Setting up\n",
    "\n",
    "Make sure you are running the same packages as this notebook. There is a requirements.txt file for the virutal environment in the [repo](https://github.com/hammerdirt/SWE_2019.git). "
   ]
  },
  {
   "cell_type": "markdown",
   "metadata": {},
   "source": [
    "#### Imports\n",
    "\n",
    "No changes form note book one"
   ]
  },
  {
   "cell_type": "code",
   "execution_count": 1,
   "metadata": {},
   "outputs": [],
   "source": [
    "import numpy as np\n",
    "import json\n",
    "import csv\n",
    "import datetime\n",
    "import pandas as pd\n",
    "import matplotlib as mpl\n",
    "import matplotlib.pyplot as plt\n",
    "import requests\n",
    "import os\n",
    "import matplotlib.dates as mdates\n",
    "from matplotlib import colors as mcolors\n",
    "from matplotlib.ticker import MultipleLocator\n",
    "from matplotlib.patches import Patch\n",
    "from matplotlib.lines import Line2D"
   ]
  },
  {
   "cell_type": "code",
   "execution_count": 2,
   "metadata": {},
   "outputs": [],
   "source": [
    "# making the file structure\n",
    "# if you changed the file structure then this function will be problematic\n",
    "\n",
    "\n",
    "folders = [\"Data\", \"Charts\", \"Utilities\"]\n",
    "here = os.getcwd()\n",
    "# never comment this out -- it is used to save output\n",
    "def make_folders():\n",
    "    my_folders = {}\n",
    "    for folder in folders:\n",
    "        place = here +\"/\"+ folder\n",
    "        my_folders[folder] = place\n",
    "    return my_folders\n",
    "my_folders = make_folders()"
   ]
  },
  {
   "cell_type": "markdown",
   "metadata": {},
   "source": [
    "### Making the code class\n",
    "\n",
    "Gather and compute details for the MLW Codes in a class. "
   ]
  },
  {
   "cell_type": "markdown",
   "metadata": {},
   "source": [
    "#### Utility functions"
   ]
  },
  {
   "cell_type": "code",
   "execution_count": 62,
   "metadata": {},
   "outputs": [],
   "source": [
    "# nothign fancy, jsut storing the data we used in Notebook one in a class object.\n",
    "\n",
    "# variables\n",
    "variable_names=[\"beach_info\", \"get_toys\", \"get_sheeting\"]\n",
    "end_points = [\n",
    "    \"http://mwshovel.pythonanywhere.com/dirt/beaches/Lac-L%C3%A9man/\",\n",
    "    \"http://mwshovel.pythonanywhere.com/dirt/codes/Lac-L%C3%A9man/G32\",\n",
    "    \"http://mwshovel.pythonanywhere.com/dirt/codes/Lac-L%C3%A9man/G67\",    \n",
    "]\n",
    "\n",
    "def get_the_data(variable_names,end_points):\n",
    "    data = {}\n",
    "    for i, name in enumerate(variable_names):\n",
    "        data[name] = requests.get(end_points[i]).json()\n",
    "    return data\n",
    "# make a pieces per meter value for each observation\n",
    "def get_pieces_per_meter(a_list_of_objects):\n",
    "    new_list_of_objects = []\n",
    "    the_keys = list(a_list_of_objects.keys())    \n",
    "    for this_key in the_keys:\n",
    "        new_list = a_list_of_objects[this_key]\n",
    "        for the_object in new_list:\n",
    "            new_object = the_object\n",
    "            new_object[\"pcs_m\"] = np.round(new_object[\"quantity\"]/new_object[\"length\"], 3)\n",
    "            new_list_of_objects.append(new_object)\n",
    "    return new_list_of_objects\n",
    "# make a summary of the data \n",
    "def make_summary(data):\n",
    "    results = {}\n",
    "    pcs_m = []\n",
    "    for result in data:\n",
    "        pcs_m.append(result[\"pcs_m\"])\n",
    "    results[\"the_min\"] = np.min(pcs_m)\n",
    "    results[\"the_max\"] = np.max(pcs_m)\n",
    "    results[\"the_median\"] = np.median(pcs_m)\n",
    "    results[\"the_average\"] = np.mean(pcs_m)\n",
    "    results[\"twenty_fifth\"] = np.percentile(pcs_m, 25)\n",
    "    results[\"seventy_fifth\"] =  np.percentile(pcs_m, 75)\n",
    "    results[\"no_samples\"] = len(pcs_m)\n",
    "    results[\"last_sample\"] = max([x[\"date\"] for x in data])\n",
    "    results[\"first_sample\"] = min([x[\"date\"] for x in data])\n",
    "    return results\n",
    "# make time value pairts\n",
    "def time_value_pairs(aList):\n",
    "    myPairs = [[result['date'], result['pcs_m']] for result in aList]\n",
    "    return myPairs  \n",
    "    "
   ]
  },
  {
   "cell_type": "markdown",
   "metadata": {},
   "source": [
    "#### Wrting the class"
   ]
  },
  {
   "cell_type": "code",
   "execution_count": 75,
   "metadata": {},
   "outputs": [],
   "source": [
    "code = \"G32\"\n",
    "common_name = [\"toys_data\"]\n",
    "end_point = [\"http://mwshovel.pythonanywhere.com/dirt/codes/Lac-L%C3%A9man/\" + code]\n",
    "\n",
    "class MlWCodes():\n",
    "    def __init__(self, code, common_names, end_points):\n",
    "        self.code = code\n",
    "        self.data = get_pieces_per_meter(get_the_data(common_names,end_points))\n",
    "        self.time_value = time_value_pairs(self.data)\n",
    "        self.summary = make_summary(self.data)\n",
    "        \n",
    "    \n",
    "toys = MlWCodes(code=code, common_names=common_name, end_points=end_point)     "
   ]
  },
  {
   "cell_type": "markdown",
   "metadata": {},
   "source": [
    "#### Using the class"
   ]
  },
  {
   "cell_type": "code",
   "execution_count": 79,
   "metadata": {},
   "outputs": [
    {
     "data": {
      "text/plain": [
       "{'the_min': 0.012,\n",
       " 'the_max': 2.222,\n",
       " 'the_median': 0.062,\n",
       " 'the_average': 0.12794666666666665,\n",
       " 'twenty_fifth': 0.026500000000000003,\n",
       " 'seventy_fifth': 0.125,\n",
       " 'no_samples': 75,\n",
       " 'last_sample': '2018-11-06',\n",
       " 'first_sample': '2015-11-23'}"
      ]
     },
     "execution_count": 79,
     "metadata": {},
     "output_type": "execute_result"
    }
   ],
   "source": [
    "# get the summary of data for toys\n",
    "toys.summary"
   ]
  }
 ],
 "metadata": {
  "hide_input": false,
  "kernelspec": {
   "display_name": "Python 3",
   "language": "python",
   "name": "python3"
  },
  "language_info": {
   "codemirror_mode": {
    "name": "ipython",
    "version": 3
   },
   "file_extension": ".py",
   "mimetype": "text/x-python",
   "name": "python",
   "nbconvert_exporter": "python",
   "pygments_lexer": "ipython3",
   "version": "3.7.2"
  }
 },
 "nbformat": 4,
 "nbformat_minor": 2
}
