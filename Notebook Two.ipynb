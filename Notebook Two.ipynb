{
 "cells": [
  {
   "cell_type": "markdown",
   "metadata": {},
   "source": [
    "### Note book Two\n",
    "\n",
    "Compare the survey results for specific items indentified during shoreline surveillance of Lake Geneva. Group survey results in time by Winter, Spring, Summer or Fall, by body of water and municipality.\n",
    "\n",
    "__Research question:__\n",
    "\n",
    "_Does the data indicate that shoreline litter densities are seasonal? If so describe the relationship._\n",
    "\n",
    "#### Contents\n",
    "\n",
    "1. Automating some things\n",
    "2. Making a MlwCode class  \n",
    "3. Dealing with time\n",
    "4. Grouping by season\n",
    "5. Plot grouped by season and code\n"
   ]
  },
  {
   "cell_type": "markdown",
   "metadata": {},
   "source": [
    "### Setting up\n",
    "\n",
    "Make sure you are running the same packages as this notebook. There is a requirements.txt file for the virutal environment in the [repo](https://github.com/hammerdirt/SWE_2019.git). "
   ]
  },
  {
   "cell_type": "markdown",
   "metadata": {},
   "source": [
    "#### Imports\n",
    "\n",
    "No changes form note book one"
   ]
  },
  {
   "cell_type": "code",
   "execution_count": 1,
   "metadata": {},
   "outputs": [],
   "source": [
    "import numpy as np\n",
    "import json\n",
    "import csv\n",
    "import datetime\n",
    "import pandas as pd\n",
    "import matplotlib as mpl\n",
    "import matplotlib.pyplot as plt\n",
    "import requests\n",
    "import os\n",
    "import matplotlib.dates as mdates\n",
    "from matplotlib import colors as mcolors\n",
    "from matplotlib.ticker import MultipleLocator\n",
    "from matplotlib.patches import Patch\n",
    "from matplotlib.lines import Line2D"
   ]
  },
  {
   "cell_type": "code",
   "execution_count": 2,
   "metadata": {},
   "outputs": [],
   "source": [
    "# making the file structure\n",
    "# if you changed the file structure then this function will be problematic\n",
    "\n",
    "\n",
    "folders = [\"Data\", \"Charts\", \"Utilities\"]\n",
    "here = os.getcwd()\n",
    "# never comment this out -- it is used to save output\n",
    "def make_folders():\n",
    "    my_folders = {}\n",
    "    for folder in folders:\n",
    "        place = here +\"/\"+ folder\n",
    "        my_folders[folder] = place\n",
    "    return my_folders\n",
    "my_folders = make_folders()"
   ]
  },
  {
   "cell_type": "markdown",
   "metadata": {},
   "source": [
    "### Making the code class\n",
    "\n",
    "Gather and compute details for the MLW Codes in a class. "
   ]
  },
  {
   "cell_type": "markdown",
   "metadata": {},
   "source": [
    "#### Utility functions"
   ]
  },
  {
   "cell_type": "code",
   "execution_count": 3,
   "metadata": {},
   "outputs": [],
   "source": [
    "# nothing fancy, jsut storing the data we used in Notebook one in a class object.\n",
    "\n",
    "# variables\n",
    "variable_names=[\"beach_info\", \"get_toys\", \"get_sheeting\"]\n",
    "end_points = [\n",
    "    \"http://mwshovel.pythonanywhere.com/dirt/beaches/Lac-L%C3%A9man/\",\n",
    "    \"http://mwshovel.pythonanywhere.com/dirt/codes/Lac-L%C3%A9man/G32\",\n",
    "    \"http://mwshovel.pythonanywhere.com/dirt/codes/Lac-L%C3%A9man/G67\",    \n",
    "]\n",
    "\n",
    "def get_the_data(variable_names,end_points):\n",
    "    data = {}\n",
    "    for i, name in enumerate(variable_names):\n",
    "        data[name] = requests.get(end_points[i]).json()\n",
    "    return data\n",
    "# make a pieces per meter value for each observation\n",
    "def get_pieces_per_meter(a_list_of_objects):\n",
    "    new_list_of_objects = []\n",
    "    the_keys = list(a_list_of_objects.keys())    \n",
    "    for this_key in the_keys:\n",
    "        new_list = a_list_of_objects[this_key]\n",
    "        for the_object in new_list:\n",
    "            new_object = the_object\n",
    "            new_object[\"pcs_m\"] = np.round(new_object[\"quantity\"]/new_object[\"length\"], 3)\n",
    "            new_list_of_objects.append(new_object)\n",
    "    return new_list_of_objects\n",
    "# make a summary of the data \n",
    "def make_summary(data):\n",
    "    results = {}\n",
    "    pcs_m = []\n",
    "    for result in data:\n",
    "        pcs_m.append(result[\"pcs_m\"])\n",
    "    results[\"the_min\"] = np.min(pcs_m)\n",
    "    results[\"the_max\"] = np.max(pcs_m)\n",
    "    results[\"the_median\"] = np.median(pcs_m)\n",
    "    results[\"the_average\"] = np.mean(pcs_m)\n",
    "    results[\"twenty_fifth\"] = np.percentile(pcs_m, 25)\n",
    "    results[\"seventy_fifth\"] =  np.percentile(pcs_m, 75)\n",
    "    results[\"no_samples\"] = len(pcs_m)\n",
    "    results[\"last_sample\"] = max([x[\"date\"] for x in data])\n",
    "    results[\"first_sample\"] = min([x[\"date\"] for x in data])\n",
    "    return results\n",
    "# make time value pairts\n",
    "def time_value_pairs(aList):\n",
    "    myPairs = [[result['date'], result['pcs_m']] for result in aList]\n",
    "    return myPairs  \n",
    "    "
   ]
  },
  {
   "cell_type": "markdown",
   "metadata": {},
   "source": [
    "#### Wrting the class"
   ]
  },
  {
   "cell_type": "code",
   "execution_count": 4,
   "metadata": {},
   "outputs": [],
   "source": [
    "code = \"G32\"\n",
    "common_name = [\"toys_data\"]\n",
    "end_point = [\"http://mwshovel.pythonanywhere.com/dirt/codes/Lac-L%C3%A9man/\" + code]\n",
    "\n",
    "class MlWCodes():\n",
    "    def __init__(self, code, common_names, end_points):\n",
    "        self.code = code\n",
    "        self.data = get_pieces_per_meter(get_the_data(common_names,end_points))\n",
    "        self.time_value = time_value_pairs(self.data)\n",
    "        self.summary = make_summary(self.data)\n",
    "        \n",
    "    \n",
    "toys = MlWCodes(code=code, common_names=common_name, end_points=end_point)     "
   ]
  },
  {
   "cell_type": "markdown",
   "metadata": {},
   "source": [
    "#### Using the class"
   ]
  },
  {
   "cell_type": "code",
   "execution_count": 5,
   "metadata": {},
   "outputs": [
    {
     "data": {
      "text/plain": [
       "{'the_min': 0.012,\n",
       " 'the_max': 2.222,\n",
       " 'the_median': 0.063,\n",
       " 'the_average': 0.12757894736842101,\n",
       " 'twenty_fifth': 0.027750000000000004,\n",
       " 'seventy_fifth': 0.125,\n",
       " 'no_samples': 76,\n",
       " 'last_sample': '2019-10-10',\n",
       " 'first_sample': '2015-11-23'}"
      ]
     },
     "execution_count": 5,
     "metadata": {},
     "output_type": "execute_result"
    }
   ],
   "source": [
    "# get the summary of data for toys\n",
    "toys.summary"
   ]
  },
  {
   "cell_type": "markdown",
   "metadata": {},
   "source": [
    "### Searching, grouping and sorting by date or date range\n",
    "\n",
    "1. Get the results for one survey day at a location\n",
    "2. Group survey results by date range\n",
    "\n",
    "The MLWCodes class includes an array of results in pcs/m per survey __MLWCodes.time_value__ or the pieces per survey is in __MLWCodes.data__.\n",
    "\n",
    "First thing is to get the latest sample by the SWE group and take a look at those results."
   ]
  },
  {
   "cell_type": "markdown",
   "metadata": {},
   "source": [
    "####  Get the results for one survey from the data\n",
    "\n",
    "1. Specify date and location\n",
    "2. Compare the results of that sample to the sample population"
   ]
  },
  {
   "cell_type": "code",
   "execution_count": 6,
   "metadata": {},
   "outputs": [],
   "source": [
    "# call the function to get data \n",
    "all_the_data = get_the_data([\"pierrettes\"], [\"http://mwshovel.pythonanywhere.com/dirt/codes/Parc-des-Pierrettes\"])\n",
    "\n",
    "# define a method that accpets the data, a key and and the required date in integer form\n",
    "def get_the_latest(all_the_data, key, year, month, day):\n",
    "    the_results = all_the_data[key]\n",
    "    my_date_string = '{year}-{month}-{day}'.format(year=year, month=month, day=day)\n",
    "    i_want_these = [item for item in the_results if item['date'] == my_date_string]\n",
    "    return i_want_these\n",
    "    \n",
    "the_latest_inventory = get_the_latest(all_the_data, \"pierrettes\", 2019,10,10)"
   ]
  },
  {
   "cell_type": "markdown",
   "metadata": {},
   "source": [
    "##### get the total number found, the pieces per meter and the number of categories"
   ]
  },
  {
   "cell_type": "code",
   "execution_count": 7,
   "metadata": {},
   "outputs": [
    {
     "data": {
      "text/plain": [
       "{'pcs-m': 6.366666666666665,\n",
       " 'the_total': 191,\n",
       " 'categories': 28,\n",
       " 'the_max': 70,\n",
       " 'the_max_object': 'G82'}"
      ]
     },
     "execution_count": 7,
     "metadata": {},
     "output_type": "execute_result"
    }
   ],
   "source": [
    "def get_some_stats(aList):\n",
    "    the_total = 0\n",
    "    pcs_m = 0\n",
    "    the_most = 0\n",
    "    the_most_object = ''\n",
    "    number_of_categories = len(aList)\n",
    "    for result in aList:\n",
    "        the_total += result[\"quantity\"]\n",
    "        pcs_m += result['quantity']/result['length']\n",
    "        if result[\"quantity\"] > the_most:\n",
    "            the_most = result['quantity']\n",
    "            the_most_object = result['code_id']\n",
    "    return {'pcs-m':pcs_m, 'the_total': the_total, 'categories':number_of_categories, 'the_max':the_most, 'the_max_object':the_most_object}\n",
    "get_some_stats(the_latest_inventory)"
   ]
  },
  {
   "cell_type": "markdown",
   "metadata": {},
   "source": [
    "##### Research questions:\n",
    "\n",
    "1. How does the pcs_m value found on that day compare to the results for the whole lake?\n",
    "2. What was the probability of finding that value? (given past results)\n",
    "3. Does the_max_object fall in the top ten of the whole lake?\n",
    "4. How does the value for pcs-m toys compare to the previous results?\n",
    "\n",
    "##### __Given the previous results, do you feel the latest survey results were predictable? How would you go about predicting values in the future?__\n"
   ]
  },
  {
   "cell_type": "markdown",
   "metadata": {},
   "source": [
    "#### Group the results by month\n",
    "\n",
    "1. Get the median, average, 50th percentile, 75th percentile and number of samples per month\n",
    "2. Identify which, if any, may have a seasonal variation\n",
    "3. Determine the method to verify seasonal variation"
   ]
  },
  {
   "cell_type": "code",
   "execution_count": 8,
   "metadata": {},
   "outputs": [
    {
     "name": "stdout",
     "output_type": "stream",
     "text": [
      "['2015-11-23', 0.066]\n"
     ]
    }
   ],
   "source": [
    "# check the first entries in toys.value\n",
    "# it gives a date and a value in pcs/m\n",
    "print(toys.time_value[0])"
   ]
  },
  {
   "cell_type": "code",
   "execution_count": 9,
   "metadata": {},
   "outputs": [
    {
     "data": {
      "text/plain": [
       "[datetime.datetime(2015, 11, 23, 0, 0), 0.066]"
      ]
     },
     "execution_count": 9,
     "metadata": {},
     "output_type": "execute_result"
    }
   ],
   "source": [
    "# convert all string values to datetime objects\n",
    "toys_dates_datetime = [[datetime.datetime.strptime(x[0], \"%Y-%m-%d\"), x[1]] for x in toys.time_value]\n",
    "toys_dates_datetime[0]"
   ]
  },
  {
   "cell_type": "code",
   "execution_count": 10,
   "metadata": {},
   "outputs": [],
   "source": [
    "#  group by month\n",
    "def group_values_by_month(aList):\n",
    "    grouped_by_month = {}\n",
    "    for x in aList:\n",
    "        month = x[0].month\n",
    "        months = grouped_by_month.keys()\n",
    "        if month in months:\n",
    "            grouped_by_month[month].append(x)\n",
    "        else:\n",
    "            grouped_by_month[month] = [x]\n",
    "    return grouped_by_month\n",
    "toys_grouped_by_month = group_values_by_month(toys_dates_datetime)"
   ]
  },
  {
   "cell_type": "code",
   "execution_count": 11,
   "metadata": {},
   "outputs": [],
   "source": [
    "# group by month and year\n",
    "\n",
    "def group_values_by_month_year(aList):\n",
    "    grouped_by_month_year = {}\n",
    "    for x in aList:\n",
    "        month_year = (x[0].year, x[0].month)\n",
    "        months_years = grouped_by_month_year.keys()\n",
    "        if month_year in months_years:\n",
    "            grouped_by_month_year[month_year].append(x)\n",
    "        else:\n",
    "            grouped_by_month_year[month_year] = [x]\n",
    "    return grouped_by_month_year\n",
    "toys_grouped_by_month_year = group_values_by_month_year(toys_dates_datetime)"
   ]
  },
  {
   "cell_type": "code",
   "execution_count": null,
   "metadata": {},
   "outputs": [],
   "source": []
  }
 ],
 "metadata": {
  "hide_input": false,
  "kernelspec": {
   "display_name": "Python 3",
   "language": "python",
   "name": "python3"
  },
  "language_info": {
   "codemirror_mode": {
    "name": "ipython",
    "version": 3
   },
   "file_extension": ".py",
   "mimetype": "text/x-python",
   "name": "python",
   "nbconvert_exporter": "python",
   "pygments_lexer": "ipython3",
   "version": "3.7.2"
  }
 },
 "nbformat": 4,
 "nbformat_minor": 2
}
