{
 "cells": [
  {
   "cell_type": "markdown",
   "metadata": {},
   "source": [
    "### Note book one\n",
    "\n",
    "Compare the survey results for specific items indentified during shoreline surveillance of Lake Geneva. Group survey results in time by Winter, Spring, Summer or Fall, by body of water and municipality.\n",
    "\n",
    "__Research question:__\n",
    "\n",
    "_Does the data indicate that shoreline litter densities are seasonal? If so describe the relationship._\n",
    "\n",
    "#### Contents\n",
    "\n",
    "1. Setting up the environment with annaconda\n",
    "2. Getting data   \n",
    "3. Descriptives\n"
   ]
  },
  {
   "cell_type": "markdown",
   "metadata": {},
   "source": [
    "### Setting up\n",
    "\n",
    "Make sure you are running the same packages as this notebook. There is a requirements.txt file for the virutal environment in the [repo](https://github.com/hammerdirt/SWE_2019.git). \n",
    "\n",
    "If you spend more time managing the virtual environment than doing data stuff then try using Annaconda. It works good on all machines. [Anaconda](https://conda.io/projects/conda/en/latest/user-guide/index.html)"
   ]
  },
  {
   "cell_type": "markdown",
   "metadata": {},
   "source": [
    "### Getting data"
   ]
  },
  {
   "cell_type": "markdown",
   "metadata": {},
   "source": [
    "##### Imports"
   ]
  },
  {
   "cell_type": "code",
   "execution_count": 1,
   "metadata": {},
   "outputs": [],
   "source": [
    "import numpy as np\n",
    "import json\n",
    "import csv\n",
    "import datetime\n",
    "import pandas as pd\n",
    "import matplotlib as mpl\n",
    "import matplotlib.pyplot as plt\n",
    "import requests\n",
    "import os\n",
    "import matplotlib.dates as mdates\n",
    "from matplotlib import colors as mcolors\n",
    "from matplotlib.ticker import MultipleLocator\n",
    "from matplotlib.patches import Patch\n",
    "from matplotlib.lines import Line2D"
   ]
  },
  {
   "cell_type": "code",
   "execution_count": 2,
   "metadata": {},
   "outputs": [],
   "source": [
    "# The data is off of the API at https://mwshovel.pythonanywhere.com/dirt/api_home.html \n",
    "# You will have the opportunity to save the data locally\n",
    "# get some file structures in place \n",
    "\n",
    "folders = [\"Data\", \"Charts\", \"Utilities\"]\n",
    "here = os.getcwd()\n",
    "# This will make the directory structure for you\n",
    "# !! Comment this out once you have ran it !!\n",
    "# def makeDirectory():\n",
    "#     for folder in folders:\n",
    "#         place = here +\"/\"+ folder\n",
    "#         os.mkdir(place)\n",
    "# makeDirectory()      \n",
    "\n",
    "# never comment this out -- it is used to save output\n",
    "def make_folders():\n",
    "    my_folders = {}\n",
    "    for folder in folders:\n",
    "        place = here +\"/\"+ folder\n",
    "        my_folders[folder] = place\n",
    "    return my_folders\n",
    "my_folders = make_folders()"
   ]
  },
  {
   "cell_type": "markdown",
   "metadata": {},
   "source": [
    "##### Requesting data\n",
    "\n",
    "un familiar with python requests ? go to [Requests for humans](https://requests.kennethreitz.org//en/v1.1.0/)"
   ]
  },
  {
   "cell_type": "code",
   "execution_count": 3,
   "metadata": {},
   "outputs": [
    {
     "data": {
      "text/plain": [
       "{'location': 'Anarchy-Beach',\n",
       " 'latitude': '46.44721600',\n",
       " 'longitude': '6.85961200',\n",
       " 'city': 'La-Tour-de-Peilz',\n",
       " 'post': '1814',\n",
       " 'water': 'l',\n",
       " 'water_name': 'Lac-Léman',\n",
       " 'project_id': 'MCBP',\n",
       " 'owner': 'mwshovel'}"
      ]
     },
     "execution_count": 3,
     "metadata": {},
     "output_type": "execute_result"
    }
   ],
   "source": [
    "# use requests.py to fetch the data from the API\n",
    "# these are the endpoints to get all the data for the lake concerning Toys, Plastic Sheeting and the locations where \n",
    "# they were identified:\n",
    "end_points = [\n",
    "    \"http://mwshovel.pythonanywhere.com/dirt/beaches/Lac-L%C3%A9man/\",\n",
    "    \"http://mwshovel.pythonanywhere.com/dirt/codes/Lac-L%C3%A9man/G32\",\n",
    "    \"http://mwshovel.pythonanywhere.com/dirt/codes/Lac-L%C3%A9man/G67\",    \n",
    "]\n",
    "variable_names=[\"beach_info\", \"get_toys\", \"get_sheeting\"]\n",
    "\n",
    "def getTheData():\n",
    "    data = {}\n",
    "    for i, name in enumerate(variable_names):\n",
    "        data[name] = requests.get(end_points[i])\n",
    "    return data\n",
    "\n",
    "# store all that in a dictionary\n",
    "data = getTheData()\n",
    "# to get that data in an array of dictionaries call .json() on the dictionary object you want\n",
    "my_beach_info = data['beach_info'].json()\n",
    "# take a look at the first entry\n",
    "my_beach_info[0]"
   ]
  },
  {
   "cell_type": "code",
   "execution_count": 4,
   "metadata": {},
   "outputs": [
    {
     "data": {
      "text/html": [
       "<div>\n",
       "<style scoped>\n",
       "    .dataframe tbody tr th:only-of-type {\n",
       "        vertical-align: middle;\n",
       "    }\n",
       "\n",
       "    .dataframe tbody tr th {\n",
       "        vertical-align: top;\n",
       "    }\n",
       "\n",
       "    .dataframe thead th {\n",
       "        text-align: right;\n",
       "    }\n",
       "</style>\n",
       "<table border=\"1\" class=\"dataframe\">\n",
       "  <thead>\n",
       "    <tr style=\"text-align: right;\">\n",
       "      <th></th>\n",
       "      <th>code</th>\n",
       "      <th>material</th>\n",
       "      <th>description</th>\n",
       "      <th>source</th>\n",
       "    </tr>\n",
       "  </thead>\n",
       "  <tbody>\n",
       "    <tr>\n",
       "      <th>66</th>\n",
       "      <td>G67</td>\n",
       "      <td>Plastic</td>\n",
       "      <td>Industrial sheeting</td>\n",
       "      <td>Industry</td>\n",
       "    </tr>\n",
       "  </tbody>\n",
       "</table>\n",
       "</div>"
      ],
      "text/plain": [
       "   code material          description    source\n",
       "66  G67  Plastic  Industrial sheeting  Industry"
      ]
     },
     "execution_count": 4,
     "metadata": {},
     "output_type": "execute_result"
    }
   ],
   "source": [
    "# need to get the code data\n",
    "# the mlw codes are located here https://mwshovel.pythonanywhere.com/dirt/beach_litter.html\n",
    "# there is a button that says get data in CSV format\n",
    "code_data = here +\"/\"+ \"Data/mlw_code_defs.csv\"\n",
    "code_defs = pd.read_csv(code_data)\n",
    "\n",
    "# this will output the code for Toys:\n",
    "code_defs.loc[code_defs.code==\"G67\"]"
   ]
  },
  {
   "cell_type": "markdown",
   "metadata": {},
   "source": [
    "##### Data type and structure"
   ]
  },
  {
   "cell_type": "code",
   "execution_count": 5,
   "metadata": {},
   "outputs": [
    {
     "data": {
      "text/plain": [
       "{'location_id': 'Baye-de-Montreux-G',\n",
       " 'date': '2015-11-23',\n",
       " 'code_id': 'G32',\n",
       " 'length': 61,\n",
       " 'quantity': 4,\n",
       " 'project_id': 'MCBP',\n",
       " 'owner': 'mwshovel'}"
      ]
     },
     "execution_count": 5,
     "metadata": {},
     "output_type": "execute_result"
    }
   ],
   "source": [
    "# This is the data that describes one entry for the toys category\n",
    "my_sheets = data[\"get_sheeting\"].json()\n",
    "my_toys = data[\"get_toys\"].json()\n",
    "my_toys[0]"
   ]
  },
  {
   "cell_type": "markdown",
   "metadata": {},
   "source": [
    "### Descriptive statistics"
   ]
  },
  {
   "cell_type": "code",
   "execution_count": 6,
   "metadata": {},
   "outputs": [],
   "source": [
    "# this can be done with or without pandas\n",
    "# the end result is always sets of ordered pairs or clusters of sets of ordered pairs\n",
    "# get the median, min, max, mean of pieces per meter\n",
    "# get the total pieces number per location or grouping level\n",
    "# get of # of samples, # of locations, intersection of locations\n",
    "# compare those to the whole lake"
   ]
  },
  {
   "cell_type": "code",
   "execution_count": 7,
   "metadata": {},
   "outputs": [],
   "source": [
    "# make a pieces per meter value for each observation\n",
    "def get_pieces_per_meter(a_list_of_objects):\n",
    "    new_list_of_objects = []\n",
    "    for this_object in a_list_of_objects:\n",
    "        new_object = this_object\n",
    "        new_object[\"pcs_m\"] = np.round(new_object[\"quantity\"]/new_object[\"length\"], 3)\n",
    "        new_list_of_objects.append(new_object)\n",
    "    return new_list_of_objects\n",
    "sheetting_pcs_m = get_pieces_per_meter(my_sheets)\n",
    "toys_pcs_m = get_pieces_per_meter(my_toys)"
   ]
  },
  {
   "cell_type": "markdown",
   "metadata": {},
   "source": [
    "#### Decide wether or not to use pandas\n",
    "\n",
    "\n",
    "##### depends on what you are doing\n",
    "\n",
    "This data set is small enough that you d'ont need to anticipate any real heavy lifting. Getting descriptive statisitics and results over time is pretty simple with the data in dictionary format.\n",
    "\n",
    "What we really want is a method that provides us with the responses to our questions and provides those responses in a way that can be passed on easily to other platforms for analysis and visualisation. \n"
   ]
  },
  {
   "cell_type": "code",
   "execution_count": 8,
   "metadata": {},
   "outputs": [
    {
     "data": {
      "text/plain": [
       "{'location_id': 'Baye-de-Montreux-D',\n",
       " 'date': '2015-12-04',\n",
       " 'code_id': 'G67',\n",
       " 'length': 61,\n",
       " 'quantity': 4,\n",
       " 'project_id': 'MCBP',\n",
       " 'owner': 'mwshovel',\n",
       " 'pcs_m': 0.066}"
      ]
     },
     "execution_count": 8,
     "metadata": {},
     "output_type": "execute_result"
    }
   ],
   "source": [
    "# reminder of the basic unit and grouping levels:\n",
    "sheetting_pcs_m[0]"
   ]
  },
  {
   "cell_type": "code",
   "execution_count": 9,
   "metadata": {},
   "outputs": [],
   "source": [
    "# get results as time value pairs:\n",
    "def timeValuePairs(aList):\n",
    "    myPairs = [[result['date'], result['pcs_m']] for result in aList]\n",
    "    return myPairs\n",
    "sheetting_time_value = timeValuePairs(sheetting_pcs_m)\n",
    "toys_time_value = timeValuePairs(toys_pcs_m)"
   ]
  },
  {
   "cell_type": "code",
   "execution_count": 10,
   "metadata": {},
   "outputs": [],
   "source": [
    "# get descriptives:\n",
    "# get the median, max, min, average, 25th, 75th and no of samples\n",
    "def describe_this(aList):\n",
    "    results = {}\n",
    "    pcs_m = []\n",
    "    for result in aList:\n",
    "        pcs_m.append(result[\"pcs_m\"])\n",
    "    results[\"the_min\"], results[\"the_max\"] = np.min(pcs_m), np.max(pcs_m)\n",
    "    results[\"the_median\"],results[\"the_average\"] = np.median(pcs_m), np.mean(pcs_m)\n",
    "    results[\"twenty_fifth\"],results[\"seventy_fifth\"] = np.percentile(pcs_m, 25), np.percentile(pcs_m, 75)\n",
    "    results[\"no_samples\"] = len(pcs_m)\n",
    "    return results      "
   ]
  },
  {
   "cell_type": "code",
   "execution_count": 11,
   "metadata": {},
   "outputs": [
    {
     "name": "stdout",
     "output_type": "stream",
     "text": [
      "Stats for toys\n",
      "{'the_min': 0.012, 'the_max': 2.222, 'the_median': 0.063, 'the_average': 0.12757894736842101, 'twenty_fifth': 0.027750000000000004, 'seventy_fifth': 0.125, 'no_samples': 76}\n",
      "Stats for sheetting\n",
      "{'the_min': 0.014, 'the_max': 6.1, 'the_median': 0.2355, 'the_average': 0.5669181818181819, 'twenty_fifth': 0.095, 'seventy_fifth': 0.54925, 'no_samples': 110}\n"
     ]
    }
   ],
   "source": [
    "# print the stats so far:\n",
    "print(\"Stats for toys\")\n",
    "print(describe_this(toys_pcs_m))\n",
    "print(\"Stats for sheetting\")\n",
    "print(describe_this(sheetting_pcs_m))"
   ]
  },
  {
   "cell_type": "code",
   "execution_count": 12,
   "metadata": {},
   "outputs": [
    {
     "data": {
      "image/png": "[encoded data removed]",
      "text/plain": [
       "<Figure size 576x432 with 1 Axes>"
      ]
     },
     "metadata": {
      "needs_background": "light"
     },
     "output_type": "display_data"
    }
   ],
   "source": [
    "compare_these = [sheetting_time_value, toys_time_value]\n",
    "color = [\"indigo\", \"teal\"]\n",
    "labels = [\"Plastic Sheeting\", \"Toys and recreation\"]\n",
    "save_to = my_folders[\"Charts\"] +\"/\"+ \"initialScatter.svg\"\n",
    "\n",
    "fig, ax = plt.subplots(figsize=(8, 6))\n",
    "ax.set_ymargin(0.01)\n",
    "ax.set_axisbelow(True)\n",
    "years = mdates.YearLocator()   # every year\n",
    "months = mdates.MonthLocator()  # every month\n",
    "yearsFmt = mdates.DateFormatter('%Y')\n",
    "monthsFmt = mdates.DateFormatter('%b')\n",
    "\n",
    "ax.xaxis.set_major_locator(years)\n",
    "ax.xaxis.set_major_formatter(yearsFmt)\n",
    "ax.xaxis.set_minor_locator(months)\n",
    "ax.xaxis.set_minor_formatter(monthsFmt)\n",
    "for text in ax.get_xminorticklabels()[::2]:\n",
    "    text.set_visible(False)\n",
    "ax.tick_params(axis='x', which=\"major\", pad=22, labelrotation=90)\n",
    "ax.tick_params(axis='x', which=\"minor\", labelsize=10, labelrotation=45)\n",
    "ml = MultipleLocator(.5)\n",
    "ax.yaxis.set_minor_locator(ml)\n",
    "num_samples = 0\n",
    "for i, theList in enumerate(compare_these):\n",
    "    num_samples += len(theList)\n",
    "    for n,aPair in enumerate(theList):\n",
    "        the_date = datetime.datetime.strptime(aPair[0], \"%Y-%m-%d\").date()\n",
    "        ax.scatter(the_date,aPair[1], color=color[i], edgecolor=\"white\",linewidth=1, s=130, alpha=0.6, label=labels[i] if n == 0 else \"\")\n",
    "        \n",
    "# lay down the gridlines\n",
    "ax.grid(b=True, which='major', axis='y', linewidth=1, color='slategray', alpha=0.5)\n",
    "ax.grid(b=True, which='minor', axis='y', linewidth=1, color='slategray', alpha=0.2)\n",
    "\n",
    "plt.suptitle(\"Lake Geneva all locations, n=\" + str(num_samples),\n",
    "          fontsize=14, family='sans',horizontalalignment='center',  y =0.93)\n",
    "ax.set_ylabel(\"Number of objects per meter of shoreline\", labelpad= 10, color='black', fontsize=12)\n",
    "plt.title(\"Toys and Plastic sheetting, sample results 2015-2018\" ,\n",
    "                 fontsize=16, family='sans', loc=\"center\",pad=30,  y=1 )\n",
    "plt.legend()\n",
    "plt.savefig(save_to)\n",
    "\n",
    "# ax.set_title('Volume and percent change')\n",
    "# fig.tight_layout()\n",
    "plt.show()\n"
   ]
  },
  {
   "cell_type": "code",
   "execution_count": null,
   "metadata": {},
   "outputs": [],
   "source": []
  }
 ],
 "metadata": {
  "hide_input": false,
  "kernelspec": {
   "display_name": "Python 3",
   "language": "python",
   "name": "python3"
  },
  "language_info": {
   "codemirror_mode": {
    "name": "ipython",
    "version": 3
   },
   "file_extension": ".py",
   "mimetype": "text/x-python",
   "name": "python",
   "nbconvert_exporter": "python",
   "pygments_lexer": "ipython3",
   "version": "3.7.3"
  }
 },
 "nbformat": 4,
 "nbformat_minor": 4
}
