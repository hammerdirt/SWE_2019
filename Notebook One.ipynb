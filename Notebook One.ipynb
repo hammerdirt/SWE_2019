{
 "cells": [
  {
   "cell_type": "markdown",
   "metadata": {},
   "source": [
    "### Note book one\n",
    "\n",
    "Compare the survey results for specific items indentified during shoreline surveillance of Lake Geneva. Group survey results in time by Winter, Spring, Summer or Fall, by body of water and municipality.\n",
    "\n",
    "__Research question:__\n",
    "\n",
    "_Does the data indicate that shoreline litter densities are seasonal? If so describe the relationship._\n",
    "\n",
    "#### Contents\n",
    "\n",
    "1. Setting up the environment with annaconda\n",
    "2. Getting data   \n",
    "3. Descriptives\n"
   ]
  },
  {
   "cell_type": "markdown",
   "metadata": {},
   "source": [
    "### Setting up\n",
    "\n",
    "Make sure you are running the same packages as this notebook. There is a requirements.txt file for the virutal environment in the [repo](https://github.com/hammerdirt/SWE_2019.git). \n",
    "\n",
    "If you spend more time managing the virtual environment than doing data stuff then try using Annaconda. It works good on all machines. [Anaconda](https://conda.io/projects/conda/en/latest/user-guide/index.html)"
   ]
  },
  {
   "cell_type": "markdown",
   "metadata": {},
   "source": [
    "### Getting data"
   ]
  },
  {
   "cell_type": "markdown",
   "metadata": {},
   "source": [
    "##### Imports"
   ]
  },
  {
   "cell_type": "code",
   "execution_count": 1,
   "metadata": {},
   "outputs": [],
   "source": [
    "import numpy as np\n",
    "import json\n",
    "import pandas as pd\n",
    "import matplotlib as mpl\n",
    "import requests\n",
    "import os"
   ]
  },
  {
   "cell_type": "code",
   "execution_count": 2,
   "metadata": {},
   "outputs": [],
   "source": [
    "# The data is off of the API at https://mwshovel.pythonanywhere.com/dirt/api_home.html \n",
    "# You will have the opportunity to save the data locally\n",
    "# get some file structures in place \n",
    "\n",
    "folders = [\"Data\", \"Charts\", \"Utilities\"]\n",
    "here = os.getcwd()\n",
    "# This will make the directory structure for you\n",
    "# !! Comment this out once you have ran it !!\n",
    "# def makeDirectory():\n",
    "#     for folder in folders:\n",
    "#         place = here +\"/\"+ folder\n",
    "#         os.mkdir(place)\n",
    "# makeDirectory()      \n",
    "\n",
    "# never comment this out -- it is used to save output\n",
    "def make_folders():\n",
    "    my_folders = {}\n",
    "    for folder in folders:\n",
    "        place = here +\"/\"+ folder\n",
    "        my_folders[folder] = place\n",
    "    return my_folders\n",
    "my_folders = make_folders()"
   ]
  },
  {
   "cell_type": "markdown",
   "metadata": {},
   "source": [
    "##### Requesting data\n",
    "\n",
    "un familiar with python requests ? go to [Requests for humans](https://requests.kennethreitz.org//en/v1.1.0/)"
   ]
  },
  {
   "cell_type": "code",
   "execution_count": 3,
   "metadata": {},
   "outputs": [
    {
     "data": {
      "text/plain": [
       "[{'location': 'Anarchy-Beach',\n",
       "  'latitude': '46.44721600',\n",
       "  'longitude': '6.85961200',\n",
       "  'city': 'La-Tour-de-Peilz',\n",
       "  'post': '1814',\n",
       "  'water': 'l',\n",
       "  'water_name': 'Lac-Léman',\n",
       "  'project_id': 'MCBP',\n",
       "  'owner': 'mwshovel'},\n",
       " {'location': 'Arabie',\n",
       "  'latitude': '46.46209900',\n",
       "  'longitude': '6.83497200',\n",
       "  'city': 'Vevey',\n",
       "  'post': '1800',\n",
       "  'water': 'l',\n",
       "  'water_name': 'Lac-Léman',\n",
       "  'project_id': 'MCBP',\n",
       "  'owner': 'mwshovel'}]"
      ]
     },
     "execution_count": 3,
     "metadata": {},
     "output_type": "execute_result"
    }
   ],
   "source": [
    "# use requests.py to fetch the data from the API\n",
    "# these are the endpoints to get all the data for the lake concerning Toys, Plastic Sheeting and the locations where \n",
    "# they were identified:\n",
    "end_points = [\n",
    "    \"http://mwshovel.pythonanywhere.com/dirt/beaches/Lac-L%C3%A9man/\",\n",
    "    \"http://mwshovel.pythonanywhere.com/dirt/codes/Lac-L%C3%A9man/G32\",\n",
    "    \"http://mwshovel.pythonanywhere.com/dirt/codes/Lac-L%C3%A9man/G67\",    \n",
    "]\n",
    "variable_names=[\"beach_info\", \"get_toys\", \"get_sheeting\"]\n",
    "\n",
    "def getTheData():\n",
    "    data = {}\n",
    "    for i, name in enumerate(variable_names):\n",
    "        data[name] = requests.get(end_points[i])\n",
    "    return data\n",
    "\n",
    "# store all that in a dictionary\n",
    "data = getTheData()\n",
    "# to get that data in an array of dictionaries call .json() on the dictionary object you want\n",
    "my_beach_info = data['beach_info'].json()\n",
    "# take a look at the first couple of entries\n",
    "my_beach_info[:2]"
   ]
  },
  {
   "cell_type": "markdown",
   "metadata": {},
   "source": [
    "##### Data type and structure"
   ]
  },
  {
   "cell_type": "code",
   "execution_count": 4,
   "metadata": {},
   "outputs": [
    {
     "data": {
      "text/plain": [
       "{'location_id': 'Baye-de-Montreux-G',\n",
       " 'date': '2015-11-23',\n",
       " 'code_id': 'G32',\n",
       " 'length': 61,\n",
       " 'quantity': 4,\n",
       " 'project_id': 'MCBP',\n",
       " 'owner': 'mwshovel'}"
      ]
     },
     "execution_count": 4,
     "metadata": {},
     "output_type": "execute_result"
    }
   ],
   "source": [
    "# This is the data that describes one entry for the toys category\n",
    "my_toys = data[\"get_toys\"].json()\n",
    "my_toys[0]"
   ]
  },
  {
   "cell_type": "code",
   "execution_count": null,
   "metadata": {},
   "outputs": [],
   "source": []
  }
 ],
 "metadata": {
  "hide_input": false,
  "kernelspec": {
   "display_name": "Python 3",
   "language": "python",
   "name": "python3"
  },
  "language_info": {
   "codemirror_mode": {
    "name": "ipython",
    "version": 3
   },
   "file_extension": ".py",
   "mimetype": "text/x-python",
   "name": "python",
   "nbconvert_exporter": "python",
   "pygments_lexer": "ipython3",
   "version": "3.7.2"
  }
 },
 "nbformat": 4,
 "nbformat_minor": 2
}
