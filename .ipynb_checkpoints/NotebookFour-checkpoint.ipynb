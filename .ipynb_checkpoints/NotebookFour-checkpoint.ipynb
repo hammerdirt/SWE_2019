{
 "cells": [
  {
   "cell_type": "markdown",
   "metadata": {},
   "source": [
    "### Note book Four\n",
    "\n",
    "#### Contents\n",
    "\n",
    "1. Comparing the thrash density distribution to normal, lognormal and gamma laws.\n",
    "2. Plotting the pcs_m as a function of time for plastic sheetings and toys, including samples without any toys or plastic sheetings (after some major data misshadeling)\n",
    "3. Plotting a linnear regression (not very usefull)\n",
    "\n",
    "\n",
    "n.b. The previous research questions where answered on our report.\n",
    "\n",
    "\n",
    "contributors: @hammerdirt, @terborch, @schnidrig @bösel\n"
   ]
  },
  {
   "cell_type": "code",
   "execution_count": 1,
   "metadata": {
    "hide_input": true
   },
   "outputs": [],
   "source": [
    "import numpy as np\n",
    "import datetime\n",
    "from collections import OrderedDict\n",
    "import pandas as pd\n",
    "import matplotlib as mpl\n",
    "import matplotlib.pyplot as plt\n",
    "import os\n",
    "import matplotlib.dates as mdates\n",
    "from matplotlib import colors as mcolors\n",
    "from matplotlib.ticker import MultipleLocator\n",
    "from matplotlib.patches import Patch\n",
    "from matplotlib.lines import Line2D\n",
    "import seaborn as sns\n",
    "import Utilities.MlwCode as mlw_code\n",
    "import Utilities.utilities as my_utilities\n",
    "import Utilities.SeasonalBoxPlots as seasonalBoxPlots\n",
    "import Utilities.MonthlyResultsBoxPlots as monthlyResults\n",
    "import matplotlib.gridspec as gridspec\n",
    "from scipy.stats import norm"
   ]
  },
  {
   "cell_type": "markdown",
   "metadata": {},
   "source": [
    "### Recycling previous notebooks\n",
    "\n",
    "Using the methods from the previous notebooks, choose the codes of interest and assign colors and parameters to variables."
   ]
  },
  {
   "cell_type": "code",
   "execution_count": 2,
   "metadata": {
    "hide_input": false
   },
   "outputs": [],
   "source": [
    "# Variables to constrict the MLW code data into classes\n",
    "codes_of_interest =[\"G32\",\"G67\",\"G82\",\"G79\"]\n",
    "# Day and location of interest:\n",
    "date_of_interest = \"2019-10-10\"\n",
    "# this needs to be exactly the way it is stored, check the webiste for correct spelling\n",
    "place_of_interest = \"Parc-des-Pierrettes\"\n",
    "# the lake or body of water you are comparing to:\n",
    "region_of_interest = \"Lake Geneva\"\n",
    "# used as place holders in the function, one for each code:\n",
    "variable_names=[\"beach_info\", \"get_toys\", \"get_sheeting\", \"get_plastics\"]\n",
    "# Give a common name to the MLW codes these appear in the charts:\n",
    "names=[\"Toys\", \"Plastic-sheeting\", \"Polystyrene\", \"Broken plastics\"]\n",
    "# A color for each code, use named matplotlib codes:\n",
    "colors = [\"darkmagenta\", \"darkslategray\", \"darkorange\", \"teal\"]\n",
    "# the api end point:\n",
    "end_point = \"http://mwshovel.pythonanywhere.com/dirt/codes/Lac-L%C3%A9man/\"\n",
    "# group the months into seasons:\n",
    "seasons = {\"winter\":[12,1,2],\"spring\":[3,4,5],\"summer\":[6,7,8],\"fall\":[9,10,11]}\n",
    "# the colors for each season of the year:\n",
    "seasons_colors = {\"winter\":\"cyan\",\"spring\":\"lime\",\"summer\":\"saddlebrown\",\"fall\":\"darkgoldenrod\",}\n",
    "# Link months integer value to string abbreviation:\n",
    "months = {\n",
    "    1:\"Jan\",\n",
    "    2:\"Feb\",\n",
    "    3:\"Mar\",\n",
    "    4:\"Apr\",\n",
    "    5:\"May\",\n",
    "    6:\"Jun\",\n",
    "    7:\"Jul\",\n",
    "    8:\"Aug\",\n",
    "    9:\"Sep\",\n",
    "    10:\"Oct\",\n",
    "    11:\"Nov\",\n",
    "    12:\"Dec\",\n",
    "}\n",
    "# making the file structure\n",
    "# if you changed the file structure then this function will be problematic\n",
    "folders = [\"Data\", \"Charts\", \"Utilities\"]\n",
    "here = os.getcwd()"
   ]
  },
  {
   "cell_type": "code",
   "execution_count": 3,
   "metadata": {
    "hide_input": true
   },
   "outputs": [],
   "source": [
    "# helper functions:\n",
    "def aBarPlot(ax,data, location, num_samps, dates):\n",
    "    my_cmap = plt.cm.get_cmap('plasma')\n",
    "    color=iter(my_cmap(np.linspace(0,1,10)))\n",
    "    labels, bloxs = zip(*data) \n",
    "    bottom = 0\n",
    "    width = 0.8\n",
    "    x = 1,\n",
    "    pad =6\n",
    "    loc='center'\n",
    "    title=\"Top ten {}, n={}\\n{}\".format(location, num_samps, dates)\n",
    "    y_limit = sum(bloxs)+.1\n",
    "    for i,blox in enumerate(bloxs):\n",
    "        ax.bar(x,blox, width, bottom=bottom, color=next(color), label=labels[i])\n",
    "        bottom += blox\n",
    "    ax.set_title(title, pad=pad, loc=loc, fontsize=12)\n",
    "    ax.set_ylim(-.1,y_limit)\n",
    "    ax.set_xticks([])\n",
    "    ax.set_ylabel(\"Pieces of trash identified\", labelpad=15)\n",
    "    handles, labels = ax.get_legend_handles_labels()\n",
    "    ax.legend(handles[::-1], labels[::-1], title='codes', loc='upper right')\n",
    "def makeSeasonalBoxPlots(code_index,data_of_interest, day_of_interest, names,seasons, my_folders):\n",
    "    obj_name = names[code_index]\n",
    "    this_data = data_of_interest[code_index][\"month\"]\n",
    "    my_seasons, my_summary = mlw_code.makeSeasons(this_data, seasons)\n",
    "    code_of_interest = codes_of_interest[code_index]\n",
    "    the_title = \"{}, all locations 2015-2018 Lake Geneva\\n\".format(obj_name, code_of_interest)\n",
    "    file_name = \"{}bySeaonBoxPlot\".format(code_of_interest)\n",
    "    myday_y , my_month = my_utilities.getValueOfInterestFromDayOfInterest(day_of_interest, code_of_interest)    \n",
    "    seasonalBoxPlots.seasonalBoxPlots(my_seasons, myday_y, my_month, months, obj_name, seasons, the_title, file_name, my_folders)\n",
    "    return my_summary\n",
    "def makeMonthlyBoxPlots(code_index, my_folders, day_of_interest, show):\n",
    "    rows = 3\n",
    "    columns = 4\n",
    "    data = data_of_interest[code_index]\n",
    "    width = 0.8\n",
    "    group_by = \"month\"\n",
    "    obj_name = names[code_index]\n",
    "    code_of_interest = codes_of_interest[code_index]\n",
    "    the_title = \"{}, code: {}, all locations 2015-2018 Lake Geneva\\n\".format(obj_name, code_of_interest)\n",
    "    file_name = \"{}byMonthBoxPlot\".format(code_of_interest)\n",
    "    myday_y , my_month = my_utilities.getValueOfInterestFromDayOfInterest(day_of_interest, code_of_interest) \n",
    "    monthlyResults.monthlyResults(rows, columns, myday_y , my_month, data, months, group_by, width, obj_name, colors, the_title, file_name, my_folders, show)\n",
    "def getCodeQuantity(aDf):\n",
    "    by_code = aDf[[\"code_id\", \"quantity\"]].groupby([\"code_id\"]).sum()\n",
    "    by_code.sum()\n",
    "    by_code_sorted = by_code.sort_values(\"quantity\",ascending=False)      \n",
    "    return  by_code.sum(), list(zip(by_code_sorted.index.values,by_code_sorted['quantity']))\n",
    "def getTopTen(aList):\n",
    "    return aList[:10]\n",
    "def getJustOne(aList, index):\n",
    "    if type(aList[0]) == list or type(aList[0]) == tuple:\n",
    "        what_i_want = [x[index] for x in aList]\n",
    "    else:\n",
    "        what_i_want = aList\n",
    "    return what_i_want\n",
    "def getTheSet(aList, bList):\n",
    "    return list(set(aList) & set(bList)) \n",
    "def doTheyInterSect(aList, bList, index):\n",
    "    a_list = getJustOne(aList, index)\n",
    "    b_list = getJustOne(bList, index)\n",
    "    what_i_want = getTheSet(a_list, b_list)\n",
    "    return what_i_want\n",
    "idx = pd.IndexSlice\n",
    "def summaryString(aSummary):\n",
    "    my_string = \"\"\n",
    "    for k,v in aSummary.items():\n",
    "        if k == \"count\":\n",
    "            my_string += \"{}: {:,.0f}\\n\".format(k,v)        \n",
    "        else:\n",
    "            my_string += \"{}: {:,.2f}\\n\".format(k,v)\n",
    "    return my_string\n",
    "def makeElipsis(string, char):\n",
    "    if len(string) > char:\n",
    "        new_string = string[:char] + \"...\"\n",
    "    else:\n",
    "        new_string = string\n",
    "    return new_string\n",
    "def makeSeasonsAllData(data, seasons):\n",
    "    what_i_want = {}\n",
    "    for k,v in seasons.items():\n",
    "        what_i_want[k] = data[data.month.isin(v)]['pcs_m'].values\n",
    "    return what_i_want\n"
   ]
  },
  {
   "cell_type": "code",
   "execution_count": 4,
   "metadata": {
    "code_folding": [],
    "hide_input": false
   },
   "outputs": [
    {
     "name": "stdout",
     "output_type": "stream",
     "text": [
      "['G32']\n",
      "http://mwshovel.pythonanywhere.com/dirt/codes/Lac-L%C3%A9man/G32\n",
      "['G67']\n",
      "http://mwshovel.pythonanywhere.com/dirt/codes/Lac-L%C3%A9man/G67\n",
      "['G82']\n",
      "http://mwshovel.pythonanywhere.com/dirt/codes/Lac-L%C3%A9man/G82\n",
      "['G79']\n",
      "http://mwshovel.pythonanywhere.com/dirt/codes/Lac-L%C3%A9man/G79\n",
      "['pierrettes']\n",
      "http://mwshovel.pythonanywhere.com/dirt/codes/Lac-L%C3%A9man/\n"
     ]
    }
   ],
   "source": [
    "# places to store output:\n",
    "my_folders = my_utilities.make_folders(here, folders)\n",
    "# get the basic information\n",
    "i_want_these = mlw_code.makeClasessFromCodes(codes_of_interest, end_point)\n",
    "# if you put more codes in the codes of interest you need to adjust the variables here\n",
    "# capture the results: ORDER IS IMPORTANT!\n",
    "toys, plastic_sheeting, polystyrene, frag_plastic = i_want_these[0], i_want_these[1], i_want_these[2], i_want_these[3]\n",
    "# store the results in an array\n",
    "results_of_interest=[toys,polystyrene,plastic_sheeting,frag_plastic]\n",
    "# this is a dataframe of the summary stats for the codes of interest\n",
    "df_toys_sheeting_styrene = my_utilities.joinDataFrames(results_of_interest, codes_of_interest)\n",
    "\n",
    "# make groups by month and season:\n",
    "# feed the results_of_interest to the makeGroupsFromClasses method\n",
    "these_too = mlw_code.makeGroupsFromClasses(results_of_interest)\n",
    "# capture the results: ORDER IS IMPORTANT!\n",
    "toys_all_grouped, plastic_sheeting_grouped, polystyrene_grouped, frag_platic_grouped = these_too[0], these_too[1], these_too[2], these_too[3]\n",
    "# store the results in an array\n",
    "data_of_interest =[toys_all_grouped, plastic_sheeting_grouped, polystyrene_grouped, frag_platic_grouped]\n",
    "\n",
    "\n",
    "# get all the data for the region and the data for the day of interest\n",
    "my_data = mlw_code.getTheDataINeed(a_name =\"pierrettes\", api_url = \"http://mwshovel.pythonanywhere.com/dirt/codes/Lac-L%C3%A9man/\", date=date_of_interest)\n",
    "the_day, all_the_days = my_data['the_day'], my_data[\"pierrettes\"]\n",
    "\n",
    "# store the regional data into a dataframe:\n",
    "regional_data = pd.DataFrame(all_the_days)\n",
    "regional_data= regional_data[regional_data.quantity != 0]\n",
    "# make columns to output month and year in integer form:\n",
    "regional_data[\"py_date\"] = pd.to_datetime(regional_data[\"date\"])\n",
    "regional_data[\"month\"] = regional_data[\"py_date\"].dt.month\n",
    "regional_data[\"year\"] = regional_data[\"py_date\"].dt.year\n",
    "regional_data[\"log_of_pcs\"] = np.log(regional_data['pcs_m'])\n",
    "\n",
    "\n",
    "# group regional values by daily totals per location and date of survey:\n",
    "all_pcs_day_totals = regional_data[[\"location_id\",\"month\", \"date\",\"py_date\",\"pcs_m\"]].groupby([\"location_id\",\"month\", \"date\", \"py_date\"]).sum()\n",
    "num_samps_region = len(all_pcs_day_totals)\n",
    "min_date_region = regional_data[\"py_date\"].min()\n",
    "max_date_region = regional_data[\"py_date\"].max()\n",
    "min_date_location = regional_data[regional_data['location_id']==place_of_interest][\"py_date\"].min()\n",
    "max_date_location = regional_data[regional_data['location_id']==place_of_interest][\"py_date\"].max()\n",
    "all_pcs_day_totals.reset_index(inplace=True)\n",
    "\n",
    "data_location_of_interest = regional_data[regional_data.location_id == place_of_interest].copy()\n",
    "data_day_of_interest = regional_data[(regional_data.location_id == place_of_interest)&(regional_data.date == date_of_interest)].copy()\n",
    "pcs_m_location = data_location_of_interest[[\"location_id\",\"month\", \"date\",\"py_date\",\"pcs_m\"]].groupby([\"location_id\",\"month\", \"date\",\"py_date\"]).sum()\n",
    "pcs_m_location.reset_index(inplace=True)\n",
    "num_samps_location = len(pcs_m_location)\n",
    "# get the values for the codes of interest from the place of interest on the day interest\n",
    "day_of_interest = regional_data.loc[\n",
    "    (regional_data['code_id'].isin(codes_of_interest)) & (regional_data['date'] == date_of_interest)&(regional_data['location_id']==place_of_interest)\n",
    "][[\"code_id\", \"pcs_m\", \"date\"]].to_dict(orient=\"records\")"
   ]
  },
  {
   "cell_type": "code",
   "execution_count": 5,
   "metadata": {
    "hide_input": true
   },
   "outputs": [],
   "source": [
    "all_dates_and_values = all_pcs_day_totals[all_pcs_day_totals.location_id != place_of_interest][['py_date', 'pcs_m']].copy()\n",
    "location_dates_values = pcs_m_location[['py_date', 'pcs_m']].copy()\n",
    "summary_all = all_dates_and_values['pcs_m'].describe().to_dict()\n",
    "summary_location = location_dates_values['pcs_m'].describe().to_dict()\n",
    "just_values_all = all_dates_and_values['pcs_m'].copy()\n",
    "just_values_location = location_dates_values['pcs_m'].copy()\n",
    "place_date, place_pcs = zip(*location_dates_values.values)\n",
    "date_all, pcs_all = zip(*all_dates_and_values.values)\n",
    "time_series_title = \"{} all locations, n={}, {} - {}\".format(\n",
    "    region_of_interest, num_samps_region, min_date_region.year, max_date_region.year\n",
    ")\n",
    "box_all_title = \"{} all\".format(region_of_interest)\n",
    "\n",
    "font_ax_labels = {\n",
    "    'family': 'sans-serif',\n",
    "    'color':  'black',\n",
    "    'weight': 'book',\n",
    "    'size': 12,\n",
    "}\n",
    "font_ax_titles = {\n",
    "    'family': 'sans-serif',\n",
    "    'color':  'black',\n",
    "    'weight': 'book',\n",
    "    'size': 14,\n",
    "}\n",
    "font_ax_ticks = {\n",
    "    'family': 'sans-serif',\n",
    "    'color':  'black',\n",
    "    'weight': 'normal',\n",
    "    'size': 10,\n",
    "}\n",
    "font_ax_text = {\n",
    "    'family': 'sans-serif',\n",
    "    'color':  'black',\n",
    "    'weight': 'normal',\n",
    "    'size': 12,\n",
    "}"
   ]
  },
  {
   "cell_type": "code",
   "execution_count": 6,
   "metadata": {},
   "outputs": [],
   "source": [
    "# nothing fancy, jsut storing the data we used in Notebook one in a class object.\n",
    "import requests\n",
    "# variables\n",
    "variable_names=[\"beach_info\", \"get_toys\", \"get_sheeting\"]\n",
    "end_points = [\n",
    "    \"http://mwshovel.pythonanywhere.com/dirt/beaches/Lac-L%C3%A9man/\",\n",
    "    \"http://mwshovel.pythonanywhere.com/dirt/codes/Lac-L%C3%A9man/G32\",\n",
    "    \"http://mwshovel.pythonanywhere.com/dirt/codes/Lac-L%C3%A9man/G67\",    \n",
    "]\n",
    "\n",
    "def get_the_data(variable_names,end_points):\n",
    "    data = {}\n",
    "    for i, name in enumerate(variable_names):\n",
    "        data[name] = requests.get(end_points[i]).json()\n",
    "    return data\n",
    "# make a pieces per meter value for each observation\n",
    "def get_pieces_per_meter(a_list_of_objects):\n",
    "    new_list_of_objects = []\n",
    "    the_keys = list(a_list_of_objects.keys())    \n",
    "    for this_key in the_keys:\n",
    "        new_list = a_list_of_objects[this_key]\n",
    "        for the_object in new_list:\n",
    "            new_object = the_object\n",
    "            new_object[\"pcs_m\"] = np.round(new_object[\"quantity\"]/new_object[\"length\"], 3)\n",
    "            new_list_of_objects.append(new_object)\n",
    "    return new_list_of_objects\n",
    "# make a summary of the data \n",
    "def make_summary(data):\n",
    "    results = {}\n",
    "    pcs_m = []\n",
    "    for result in data:\n",
    "        pcs_m.append(result[\"pcs_m\"])\n",
    "    results[\"the_min\"] = np.min(pcs_m)\n",
    "    results[\"the_max\"] = np.max(pcs_m)\n",
    "    results[\"the_median\"] = np.median(pcs_m)\n",
    "    results[\"the_average\"] = np.mean(pcs_m)\n",
    "    results[\"twenty_fifth\"] = np.percentile(pcs_m, 25)\n",
    "    results[\"seventy_fifth\"] =  np.percentile(pcs_m, 75)\n",
    "    results[\"no_samples\"] = len(pcs_m)\n",
    "    results[\"last_sample\"] = max([x[\"date\"] for x in data])\n",
    "    results[\"first_sample\"] = min([x[\"date\"] for x in data])\n",
    "    return results\n",
    "# make time value pairts\n",
    "def time_value_pairs(aList):\n",
    "    myPairs = [[result['date'], result['pcs_m']] for result in aList]\n",
    "    return myPairs  "
   ]
  },
  {
   "cell_type": "markdown",
   "metadata": {},
   "source": [
    "## Probability fuctions"
   ]
  },
  {
   "cell_type": "code",
   "execution_count": 7,
   "metadata": {},
   "outputs": [],
   "source": [
    "# set a default figure size for all figures\n",
    "plt.rcParams['figure.figsize'] = [5, 5]"
   ]
  },
  {
   "cell_type": "code",
   "execution_count": 8,
   "metadata": {},
   "outputs": [],
   "source": [
    "from scipy.stats import norm\n",
    "from scipy.stats import lognorm\n",
    "from scipy.stats import gamma"
   ]
  },
  {
   "cell_type": "code",
   "execution_count": 9,
   "metadata": {},
   "outputs": [],
   "source": [
    "all_samples_df = all_pcs_day_totals[['py_date', 'pcs_m']].copy()"
   ]
  },
  {
   "cell_type": "code",
   "execution_count": 10,
   "metadata": {
    "scrolled": true
   },
   "outputs": [
    {
     "data": {
      "text/html": [
       "<div>\n",
       "<style scoped>\n",
       "    .dataframe tbody tr th:only-of-type {\n",
       "        vertical-align: middle;\n",
       "    }\n",
       "\n",
       "    .dataframe tbody tr th {\n",
       "        vertical-align: top;\n",
       "    }\n",
       "\n",
       "    .dataframe thead th {\n",
       "        text-align: right;\n",
       "    }\n",
       "</style>\n",
       "<table border=\"1\" class=\"dataframe\">\n",
       "  <thead>\n",
       "    <tr style=\"text-align: right;\">\n",
       "      <th></th>\n",
       "      <th>date</th>\n",
       "      <th>pcs_m</th>\n",
       "    </tr>\n",
       "  </thead>\n",
       "  <tbody>\n",
       "    <tr>\n",
       "      <td>45</td>\n",
       "      <td>2015-11-23</td>\n",
       "      <td>5.7217</td>\n",
       "    </tr>\n",
       "    <tr>\n",
       "      <td>19</td>\n",
       "      <td>2015-11-24</td>\n",
       "      <td>1.6959</td>\n",
       "    </tr>\n",
       "    <tr>\n",
       "      <td>111</td>\n",
       "      <td>2015-11-27</td>\n",
       "      <td>4.0757</td>\n",
       "    </tr>\n",
       "    <tr>\n",
       "      <td>114</td>\n",
       "      <td>2015-12-01</td>\n",
       "      <td>0.9813</td>\n",
       "    </tr>\n",
       "    <tr>\n",
       "      <td>20</td>\n",
       "      <td>2015-12-02</td>\n",
       "      <td>0.6813</td>\n",
       "    </tr>\n",
       "    <tr>\n",
       "      <td>...</td>\n",
       "      <td>...</td>\n",
       "      <td>...</td>\n",
       "    </tr>\n",
       "    <tr>\n",
       "      <td>99</td>\n",
       "      <td>2018-10-16</td>\n",
       "      <td>77.0560</td>\n",
       "    </tr>\n",
       "    <tr>\n",
       "      <td>97</td>\n",
       "      <td>2018-11-06</td>\n",
       "      <td>8.1669</td>\n",
       "    </tr>\n",
       "    <tr>\n",
       "      <td>6</td>\n",
       "      <td>2019-01-16</td>\n",
       "      <td>9.2000</td>\n",
       "    </tr>\n",
       "    <tr>\n",
       "      <td>79</td>\n",
       "      <td>2019-10-10</td>\n",
       "      <td>6.3664</td>\n",
       "    </tr>\n",
       "    <tr>\n",
       "      <td>96</td>\n",
       "      <td>2019-10-24</td>\n",
       "      <td>9.7335</td>\n",
       "    </tr>\n",
       "  </tbody>\n",
       "</table>\n",
       "<p>151 rows × 2 columns</p>\n",
       "</div>"
      ],
      "text/plain": [
       "          date    pcs_m\n",
       "45  2015-11-23   5.7217\n",
       "19  2015-11-24   1.6959\n",
       "111 2015-11-27   4.0757\n",
       "114 2015-12-01   0.9813\n",
       "20  2015-12-02   0.6813\n",
       "..         ...      ...\n",
       "99  2018-10-16  77.0560\n",
       "97  2018-11-06   8.1669\n",
       "6   2019-01-16   9.2000\n",
       "79  2019-10-10   6.3664\n",
       "96  2019-10-24   9.7335\n",
       "\n",
       "[151 rows x 2 columns]"
      ]
     },
     "execution_count": 10,
     "metadata": {},
     "output_type": "execute_result"
    }
   ],
   "source": [
    "all_samples_df.rename(columns={\"py_date\": \"date\"}, inplace = True)\n",
    "all_samples_df.sort_values(by=['date'], inplace = True)\n",
    "all_samples_df"
   ]
  },
  {
   "cell_type": "code",
   "execution_count": 11,
   "metadata": {},
   "outputs": [
    {
     "data": {
      "text/html": [
       "<div>\n",
       "<style scoped>\n",
       "    .dataframe tbody tr th:only-of-type {\n",
       "        vertical-align: middle;\n",
       "    }\n",
       "\n",
       "    .dataframe tbody tr th {\n",
       "        vertical-align: top;\n",
       "    }\n",
       "\n",
       "    .dataframe thead th {\n",
       "        text-align: right;\n",
       "    }\n",
       "</style>\n",
       "<table border=\"1\" class=\"dataframe\">\n",
       "  <thead>\n",
       "    <tr style=\"text-align: right;\">\n",
       "      <th></th>\n",
       "      <th>location_id</th>\n",
       "      <th>date</th>\n",
       "      <th>code_id</th>\n",
       "      <th>length</th>\n",
       "      <th>quantity</th>\n",
       "      <th>project_id</th>\n",
       "      <th>owner</th>\n",
       "      <th>pcs_m</th>\n",
       "    </tr>\n",
       "  </thead>\n",
       "  <tbody>\n",
       "    <tr>\n",
       "      <td>0</td>\n",
       "      <td>Baye-de-Montreux-G</td>\n",
       "      <td>2015-11-23</td>\n",
       "      <td>G32</td>\n",
       "      <td>61</td>\n",
       "      <td>4</td>\n",
       "      <td>MCBP</td>\n",
       "      <td>mwshovel</td>\n",
       "      <td>0.066</td>\n",
       "    </tr>\n",
       "    <tr>\n",
       "      <td>1</td>\n",
       "      <td>Baye-de-Montreux-D</td>\n",
       "      <td>2015-12-04</td>\n",
       "      <td>G32</td>\n",
       "      <td>61</td>\n",
       "      <td>4</td>\n",
       "      <td>MCBP</td>\n",
       "      <td>mwshovel</td>\n",
       "      <td>0.066</td>\n",
       "    </tr>\n",
       "    <tr>\n",
       "      <td>2</td>\n",
       "      <td>Baye-de-Montreux-G</td>\n",
       "      <td>2015-12-04</td>\n",
       "      <td>G32</td>\n",
       "      <td>61</td>\n",
       "      <td>1</td>\n",
       "      <td>MCBP</td>\n",
       "      <td>mwshovel</td>\n",
       "      <td>0.016</td>\n",
       "    </tr>\n",
       "    <tr>\n",
       "      <td>3</td>\n",
       "      <td>Baye-de-Montreux-D</td>\n",
       "      <td>2015-12-10</td>\n",
       "      <td>G32</td>\n",
       "      <td>61</td>\n",
       "      <td>1</td>\n",
       "      <td>MCBP</td>\n",
       "      <td>mwshovel</td>\n",
       "      <td>0.016</td>\n",
       "    </tr>\n",
       "    <tr>\n",
       "      <td>4</td>\n",
       "      <td>Baye-de-Montreux-D</td>\n",
       "      <td>2015-12-17</td>\n",
       "      <td>G32</td>\n",
       "      <td>61</td>\n",
       "      <td>1</td>\n",
       "      <td>MCBP</td>\n",
       "      <td>mwshovel</td>\n",
       "      <td>0.016</td>\n",
       "    </tr>\n",
       "    <tr>\n",
       "      <td>...</td>\n",
       "      <td>...</td>\n",
       "      <td>...</td>\n",
       "      <td>...</td>\n",
       "      <td>...</td>\n",
       "      <td>...</td>\n",
       "      <td>...</td>\n",
       "      <td>...</td>\n",
       "      <td>...</td>\n",
       "    </tr>\n",
       "    <tr>\n",
       "      <td>72</td>\n",
       "      <td>lacléman_vidy_santie</td>\n",
       "      <td>2018-01-23</td>\n",
       "      <td>G32</td>\n",
       "      <td>27</td>\n",
       "      <td>1</td>\n",
       "      <td>SLR</td>\n",
       "      <td>mwshovel</td>\n",
       "      <td>0.037</td>\n",
       "    </tr>\n",
       "    <tr>\n",
       "      <td>73</td>\n",
       "      <td>Tiger-duck-beach</td>\n",
       "      <td>2018-10-16</td>\n",
       "      <td>G32</td>\n",
       "      <td>18</td>\n",
       "      <td>40</td>\n",
       "      <td>tiger-duck</td>\n",
       "      <td>mwshovel</td>\n",
       "      <td>2.222</td>\n",
       "    </tr>\n",
       "    <tr>\n",
       "      <td>74</td>\n",
       "      <td>Saint-Sulpice</td>\n",
       "      <td>2018-11-06</td>\n",
       "      <td>G32</td>\n",
       "      <td>18</td>\n",
       "      <td>1</td>\n",
       "      <td>tiger-duck</td>\n",
       "      <td>simon</td>\n",
       "      <td>0.056</td>\n",
       "    </tr>\n",
       "    <tr>\n",
       "      <td>75</td>\n",
       "      <td>Parc-des-Pierrettes</td>\n",
       "      <td>2019-10-10</td>\n",
       "      <td>G32</td>\n",
       "      <td>30</td>\n",
       "      <td>3</td>\n",
       "      <td>tiger-duck</td>\n",
       "      <td>mwshovel</td>\n",
       "      <td>0.100</td>\n",
       "    </tr>\n",
       "    <tr>\n",
       "      <td>76</td>\n",
       "      <td>Rolle-plage</td>\n",
       "      <td>2019-10-24</td>\n",
       "      <td>G32</td>\n",
       "      <td>15</td>\n",
       "      <td>7</td>\n",
       "      <td>tiger-duck</td>\n",
       "      <td>mwshovel</td>\n",
       "      <td>0.467</td>\n",
       "    </tr>\n",
       "  </tbody>\n",
       "</table>\n",
       "<p>77 rows × 8 columns</p>\n",
       "</div>"
      ],
      "text/plain": [
       "             location_id        date code_id  length  quantity  project_id  \\\n",
       "0     Baye-de-Montreux-G  2015-11-23     G32      61         4        MCBP   \n",
       "1     Baye-de-Montreux-D  2015-12-04     G32      61         4        MCBP   \n",
       "2     Baye-de-Montreux-G  2015-12-04     G32      61         1        MCBP   \n",
       "3     Baye-de-Montreux-D  2015-12-10     G32      61         1        MCBP   \n",
       "4     Baye-de-Montreux-D  2015-12-17     G32      61         1        MCBP   \n",
       "..                   ...         ...     ...     ...       ...         ...   \n",
       "72  lacléman_vidy_santie  2018-01-23     G32      27         1         SLR   \n",
       "73      Tiger-duck-beach  2018-10-16     G32      18        40  tiger-duck   \n",
       "74         Saint-Sulpice  2018-11-06     G32      18         1  tiger-duck   \n",
       "75   Parc-des-Pierrettes  2019-10-10     G32      30         3  tiger-duck   \n",
       "76           Rolle-plage  2019-10-24     G32      15         7  tiger-duck   \n",
       "\n",
       "       owner  pcs_m  \n",
       "0   mwshovel  0.066  \n",
       "1   mwshovel  0.066  \n",
       "2   mwshovel  0.016  \n",
       "3   mwshovel  0.016  \n",
       "4   mwshovel  0.016  \n",
       "..       ...    ...  \n",
       "72  mwshovel  0.037  \n",
       "73  mwshovel  2.222  \n",
       "74     simon  0.056  \n",
       "75  mwshovel  0.100  \n",
       "76  mwshovel  0.467  \n",
       "\n",
       "[77 rows x 8 columns]"
      ]
     },
     "execution_count": 11,
     "metadata": {},
     "output_type": "execute_result"
    }
   ],
   "source": [
    "code = \"G32\"\n",
    "common_name = [\"toys_data\"]\n",
    "end_point = \"http://mwshovel.pythonanywhere.com/dirt/codes/Lac-L%C3%A9man/\"\n",
    "\n",
    "class MlWCodes():\n",
    "    def __init__(self, code, common_names, end_points):\n",
    "        self.code = code\n",
    "        self.data = get_pieces_per_meter(get_the_data(common_names,end_points))\n",
    "        self.time_value = time_value_pairs(self.data)\n",
    "        self.summary = make_summary(self.data)\n",
    "        \n",
    "    \n",
    "toys = MlWCodes(code=code, common_names=['toys_data'], end_points=[end_point + 'G32'])\n",
    "toys_df = pd.DataFrame(toys.data)\n",
    "toys_df"
   ]
  },
  {
   "cell_type": "code",
   "execution_count": 12,
   "metadata": {},
   "outputs": [
    {
     "data": {
      "text/html": [
       "<div>\n",
       "<style scoped>\n",
       "    .dataframe tbody tr th:only-of-type {\n",
       "        vertical-align: middle;\n",
       "    }\n",
       "\n",
       "    .dataframe tbody tr th {\n",
       "        vertical-align: top;\n",
       "    }\n",
       "\n",
       "    .dataframe thead th {\n",
       "        text-align: right;\n",
       "    }\n",
       "</style>\n",
       "<table border=\"1\" class=\"dataframe\">\n",
       "  <thead>\n",
       "    <tr style=\"text-align: right;\">\n",
       "      <th></th>\n",
       "      <th>location_id</th>\n",
       "      <th>date</th>\n",
       "      <th>code_id</th>\n",
       "      <th>length</th>\n",
       "      <th>quantity</th>\n",
       "      <th>project_id</th>\n",
       "      <th>owner</th>\n",
       "      <th>pcs_m</th>\n",
       "    </tr>\n",
       "  </thead>\n",
       "  <tbody>\n",
       "    <tr>\n",
       "      <td>0</td>\n",
       "      <td>Baye-de-Montreux-D</td>\n",
       "      <td>2015-12-04</td>\n",
       "      <td>G67</td>\n",
       "      <td>61</td>\n",
       "      <td>4</td>\n",
       "      <td>MCBP</td>\n",
       "      <td>mwshovel</td>\n",
       "      <td>0.066</td>\n",
       "    </tr>\n",
       "    <tr>\n",
       "      <td>1</td>\n",
       "      <td>Baye-de-Montreux-D</td>\n",
       "      <td>2015-12-10</td>\n",
       "      <td>G67</td>\n",
       "      <td>61</td>\n",
       "      <td>38</td>\n",
       "      <td>MCBP</td>\n",
       "      <td>mwshovel</td>\n",
       "      <td>0.623</td>\n",
       "    </tr>\n",
       "    <tr>\n",
       "      <td>2</td>\n",
       "      <td>Baye-de-Montreux-G</td>\n",
       "      <td>2015-12-10</td>\n",
       "      <td>G67</td>\n",
       "      <td>61</td>\n",
       "      <td>14</td>\n",
       "      <td>MCBP</td>\n",
       "      <td>mwshovel</td>\n",
       "      <td>0.230</td>\n",
       "    </tr>\n",
       "    <tr>\n",
       "      <td>3</td>\n",
       "      <td>Baye-de-Montreux-D</td>\n",
       "      <td>2015-12-17</td>\n",
       "      <td>G67</td>\n",
       "      <td>61</td>\n",
       "      <td>3</td>\n",
       "      <td>MCBP</td>\n",
       "      <td>mwshovel</td>\n",
       "      <td>0.049</td>\n",
       "    </tr>\n",
       "    <tr>\n",
       "      <td>4</td>\n",
       "      <td>Baye-de-Montreux-G</td>\n",
       "      <td>2015-12-17</td>\n",
       "      <td>G67</td>\n",
       "      <td>61</td>\n",
       "      <td>8</td>\n",
       "      <td>MCBP</td>\n",
       "      <td>mwshovel</td>\n",
       "      <td>0.131</td>\n",
       "    </tr>\n",
       "    <tr>\n",
       "      <td>...</td>\n",
       "      <td>...</td>\n",
       "      <td>...</td>\n",
       "      <td>...</td>\n",
       "      <td>...</td>\n",
       "      <td>...</td>\n",
       "      <td>...</td>\n",
       "      <td>...</td>\n",
       "      <td>...</td>\n",
       "    </tr>\n",
       "    <tr>\n",
       "      <td>105</td>\n",
       "      <td>lacléman_vidy_santie</td>\n",
       "      <td>2017-12-26</td>\n",
       "      <td>G67</td>\n",
       "      <td>27</td>\n",
       "      <td>4</td>\n",
       "      <td>SLR</td>\n",
       "      <td>mwshovel</td>\n",
       "      <td>0.148</td>\n",
       "    </tr>\n",
       "    <tr>\n",
       "      <td>106</td>\n",
       "      <td>lacléman_vidy_santie</td>\n",
       "      <td>2018-02-26</td>\n",
       "      <td>G67</td>\n",
       "      <td>27</td>\n",
       "      <td>8</td>\n",
       "      <td>SLR</td>\n",
       "      <td>mwshovel</td>\n",
       "      <td>0.296</td>\n",
       "    </tr>\n",
       "    <tr>\n",
       "      <td>107</td>\n",
       "      <td>lacléman_vidy_santie</td>\n",
       "      <td>2018-03-26</td>\n",
       "      <td>G67</td>\n",
       "      <td>27</td>\n",
       "      <td>33</td>\n",
       "      <td>SLR</td>\n",
       "      <td>mwshovel</td>\n",
       "      <td>1.222</td>\n",
       "    </tr>\n",
       "    <tr>\n",
       "      <td>108</td>\n",
       "      <td>Tiger-duck-beach</td>\n",
       "      <td>2018-10-16</td>\n",
       "      <td>G67</td>\n",
       "      <td>18</td>\n",
       "      <td>46</td>\n",
       "      <td>tiger-duck</td>\n",
       "      <td>mwshovel</td>\n",
       "      <td>2.556</td>\n",
       "    </tr>\n",
       "    <tr>\n",
       "      <td>109</td>\n",
       "      <td>Parc-des-Pierrettes</td>\n",
       "      <td>2019-10-10</td>\n",
       "      <td>G67</td>\n",
       "      <td>30</td>\n",
       "      <td>14</td>\n",
       "      <td>tiger-duck</td>\n",
       "      <td>mwshovel</td>\n",
       "      <td>0.467</td>\n",
       "    </tr>\n",
       "  </tbody>\n",
       "</table>\n",
       "<p>110 rows × 8 columns</p>\n",
       "</div>"
      ],
      "text/plain": [
       "              location_id        date code_id  length  quantity  project_id  \\\n",
       "0      Baye-de-Montreux-D  2015-12-04     G67      61         4        MCBP   \n",
       "1      Baye-de-Montreux-D  2015-12-10     G67      61        38        MCBP   \n",
       "2      Baye-de-Montreux-G  2015-12-10     G67      61        14        MCBP   \n",
       "3      Baye-de-Montreux-D  2015-12-17     G67      61         3        MCBP   \n",
       "4      Baye-de-Montreux-G  2015-12-17     G67      61         8        MCBP   \n",
       "..                    ...         ...     ...     ...       ...         ...   \n",
       "105  lacléman_vidy_santie  2017-12-26     G67      27         4         SLR   \n",
       "106  lacléman_vidy_santie  2018-02-26     G67      27         8         SLR   \n",
       "107  lacléman_vidy_santie  2018-03-26     G67      27        33         SLR   \n",
       "108      Tiger-duck-beach  2018-10-16     G67      18        46  tiger-duck   \n",
       "109   Parc-des-Pierrettes  2019-10-10     G67      30        14  tiger-duck   \n",
       "\n",
       "        owner  pcs_m  \n",
       "0    mwshovel  0.066  \n",
       "1    mwshovel  0.623  \n",
       "2    mwshovel  0.230  \n",
       "3    mwshovel  0.049  \n",
       "4    mwshovel  0.131  \n",
       "..        ...    ...  \n",
       "105  mwshovel  0.148  \n",
       "106  mwshovel  0.296  \n",
       "107  mwshovel  1.222  \n",
       "108  mwshovel  2.556  \n",
       "109  mwshovel  0.467  \n",
       "\n",
       "[110 rows x 8 columns]"
      ]
     },
     "execution_count": 12,
     "metadata": {},
     "output_type": "execute_result"
    }
   ],
   "source": [
    "code = \"G67\"\n",
    "common_name = [\"plastic_sheeting_data\"]\n",
    "end_point = \"http://mwshovel.pythonanywhere.com/dirt/codes/Lac-L%C3%A9man/\"\n",
    "\n",
    "class MlWCodes():\n",
    "    def __init__(self, code, common_names, end_points):\n",
    "        self.code = code\n",
    "        self.data = get_pieces_per_meter(get_the_data(common_names,end_points))\n",
    "        self.time_value = time_value_pairs(self.data)\n",
    "        self.summary = make_summary(self.data)\n",
    "        \n",
    "    \n",
    "plastic_sheetings = MlWCodes(code=code, common_names=['plastic_sheeting_data'], end_points=[end_point + 'G67'])\n",
    "sheetings_df = pd.DataFrame(plastic_sheetings.data)\n",
    "sheetings_df"
   ]
  },
  {
   "cell_type": "code",
   "execution_count": 13,
   "metadata": {},
   "outputs": [
    {
     "data": {
      "text/html": [
       "<div>\n",
       "<style scoped>\n",
       "    .dataframe tbody tr th:only-of-type {\n",
       "        vertical-align: middle;\n",
       "    }\n",
       "\n",
       "    .dataframe tbody tr th {\n",
       "        vertical-align: top;\n",
       "    }\n",
       "\n",
       "    .dataframe thead th {\n",
       "        text-align: right;\n",
       "    }\n",
       "</style>\n",
       "<table border=\"1\" class=\"dataframe\">\n",
       "  <thead>\n",
       "    <tr style=\"text-align: right;\">\n",
       "      <th></th>\n",
       "      <th>location_id</th>\n",
       "      <th>date</th>\n",
       "      <th>code_id</th>\n",
       "      <th>length</th>\n",
       "      <th>quantity</th>\n",
       "      <th>project_id</th>\n",
       "      <th>owner</th>\n",
       "      <th>pcs_m</th>\n",
       "    </tr>\n",
       "  </thead>\n",
       "  <tbody>\n",
       "    <tr>\n",
       "      <td>0</td>\n",
       "      <td>Baye-de-Montreux-D</td>\n",
       "      <td>2015-12-04</td>\n",
       "      <td>G67</td>\n",
       "      <td>61</td>\n",
       "      <td>4</td>\n",
       "      <td>MCBP</td>\n",
       "      <td>mwshovel</td>\n",
       "      <td>0.066</td>\n",
       "    </tr>\n",
       "    <tr>\n",
       "      <td>1</td>\n",
       "      <td>Baye-de-Montreux-D</td>\n",
       "      <td>2015-12-10</td>\n",
       "      <td>G67</td>\n",
       "      <td>61</td>\n",
       "      <td>38</td>\n",
       "      <td>MCBP</td>\n",
       "      <td>mwshovel</td>\n",
       "      <td>0.623</td>\n",
       "    </tr>\n",
       "    <tr>\n",
       "      <td>2</td>\n",
       "      <td>Baye-de-Montreux-G</td>\n",
       "      <td>2015-12-10</td>\n",
       "      <td>G67</td>\n",
       "      <td>61</td>\n",
       "      <td>14</td>\n",
       "      <td>MCBP</td>\n",
       "      <td>mwshovel</td>\n",
       "      <td>0.230</td>\n",
       "    </tr>\n",
       "    <tr>\n",
       "      <td>3</td>\n",
       "      <td>Baye-de-Montreux-D</td>\n",
       "      <td>2015-12-17</td>\n",
       "      <td>G67</td>\n",
       "      <td>61</td>\n",
       "      <td>3</td>\n",
       "      <td>MCBP</td>\n",
       "      <td>mwshovel</td>\n",
       "      <td>0.049</td>\n",
       "    </tr>\n",
       "    <tr>\n",
       "      <td>4</td>\n",
       "      <td>Baye-de-Montreux-G</td>\n",
       "      <td>2015-12-17</td>\n",
       "      <td>G67</td>\n",
       "      <td>61</td>\n",
       "      <td>8</td>\n",
       "      <td>MCBP</td>\n",
       "      <td>mwshovel</td>\n",
       "      <td>0.131</td>\n",
       "    </tr>\n",
       "    <tr>\n",
       "      <td>...</td>\n",
       "      <td>...</td>\n",
       "      <td>...</td>\n",
       "      <td>...</td>\n",
       "      <td>...</td>\n",
       "      <td>...</td>\n",
       "      <td>...</td>\n",
       "      <td>...</td>\n",
       "      <td>...</td>\n",
       "    </tr>\n",
       "    <tr>\n",
       "      <td>105</td>\n",
       "      <td>lacléman_vidy_santie</td>\n",
       "      <td>2017-12-26</td>\n",
       "      <td>G67</td>\n",
       "      <td>27</td>\n",
       "      <td>4</td>\n",
       "      <td>SLR</td>\n",
       "      <td>mwshovel</td>\n",
       "      <td>0.148</td>\n",
       "    </tr>\n",
       "    <tr>\n",
       "      <td>106</td>\n",
       "      <td>lacléman_vidy_santie</td>\n",
       "      <td>2018-02-26</td>\n",
       "      <td>G67</td>\n",
       "      <td>27</td>\n",
       "      <td>8</td>\n",
       "      <td>SLR</td>\n",
       "      <td>mwshovel</td>\n",
       "      <td>0.296</td>\n",
       "    </tr>\n",
       "    <tr>\n",
       "      <td>107</td>\n",
       "      <td>lacléman_vidy_santie</td>\n",
       "      <td>2018-03-26</td>\n",
       "      <td>G67</td>\n",
       "      <td>27</td>\n",
       "      <td>33</td>\n",
       "      <td>SLR</td>\n",
       "      <td>mwshovel</td>\n",
       "      <td>1.222</td>\n",
       "    </tr>\n",
       "    <tr>\n",
       "      <td>108</td>\n",
       "      <td>Tiger-duck-beach</td>\n",
       "      <td>2018-10-16</td>\n",
       "      <td>G67</td>\n",
       "      <td>18</td>\n",
       "      <td>46</td>\n",
       "      <td>tiger-duck</td>\n",
       "      <td>mwshovel</td>\n",
       "      <td>2.556</td>\n",
       "    </tr>\n",
       "    <tr>\n",
       "      <td>109</td>\n",
       "      <td>Parc-des-Pierrettes</td>\n",
       "      <td>2019-10-10</td>\n",
       "      <td>G67</td>\n",
       "      <td>30</td>\n",
       "      <td>14</td>\n",
       "      <td>tiger-duck</td>\n",
       "      <td>mwshovel</td>\n",
       "      <td>0.467</td>\n",
       "    </tr>\n",
       "  </tbody>\n",
       "</table>\n",
       "<p>110 rows × 8 columns</p>\n",
       "</div>"
      ],
      "text/plain": [
       "              location_id        date code_id  length  quantity  project_id  \\\n",
       "0      Baye-de-Montreux-D  2015-12-04     G67      61         4        MCBP   \n",
       "1      Baye-de-Montreux-D  2015-12-10     G67      61        38        MCBP   \n",
       "2      Baye-de-Montreux-G  2015-12-10     G67      61        14        MCBP   \n",
       "3      Baye-de-Montreux-D  2015-12-17     G67      61         3        MCBP   \n",
       "4      Baye-de-Montreux-G  2015-12-17     G67      61         8        MCBP   \n",
       "..                    ...         ...     ...     ...       ...         ...   \n",
       "105  lacléman_vidy_santie  2017-12-26     G67      27         4         SLR   \n",
       "106  lacléman_vidy_santie  2018-02-26     G67      27         8         SLR   \n",
       "107  lacléman_vidy_santie  2018-03-26     G67      27        33         SLR   \n",
       "108      Tiger-duck-beach  2018-10-16     G67      18        46  tiger-duck   \n",
       "109   Parc-des-Pierrettes  2019-10-10     G67      30        14  tiger-duck   \n",
       "\n",
       "        owner  pcs_m  \n",
       "0    mwshovel  0.066  \n",
       "1    mwshovel  0.623  \n",
       "2    mwshovel  0.230  \n",
       "3    mwshovel  0.049  \n",
       "4    mwshovel  0.131  \n",
       "..        ...    ...  \n",
       "105  mwshovel  0.148  \n",
       "106  mwshovel  0.296  \n",
       "107  mwshovel  1.222  \n",
       "108  mwshovel  2.556  \n",
       "109  mwshovel  0.467  \n",
       "\n",
       "[110 rows x 8 columns]"
      ]
     },
     "execution_count": 13,
     "metadata": {},
     "output_type": "execute_result"
    }
   ],
   "source": [
    "code = \"G67\"\n",
    "common_name = [\"plastic_sheeting_data\"]\n",
    "end_point = \"http://mwshovel.pythonanywhere.com/dirt/codes/Lac-L%C3%A9man/\"\n",
    "\n",
    "class MlWCodes():\n",
    "    def __init__(self, code, common_names, end_points):\n",
    "        self.code = code\n",
    "        self.data = get_pieces_per_meter(get_the_data(common_names,end_points))\n",
    "        self.time_value = time_value_pairs(self.data)\n",
    "        self.summary = make_summary(self.data)\n",
    "        \n",
    "    \n",
    "plastic_sheetings = MlWCodes(code=code, common_names=['plastic_sheeting_data'], end_points=[end_point + 'G67'])\n",
    "sheetings_df = pd.DataFrame(plastic_sheetings.data)\n",
    "sheetings_df"
   ]
  },
  {
   "cell_type": "markdown",
   "metadata": {},
   "source": [
    "## Probability fuction for all trash collected on the beahces of Lac Léman"
   ]
  },
  {
   "cell_type": "code",
   "execution_count": 14,
   "metadata": {},
   "outputs": [
    {
     "data": {
      "text/plain": [
       "(150, 77.06, 0.12, 5.65)"
      ]
     },
     "execution_count": 14,
     "metadata": {},
     "output_type": "execute_result"
    }
   ],
   "source": [
    "Samples = all_samples_df[all_samples_df['date'] != '2019-10-10']['pcs_m'].values\n",
    "len(Samples), max(Samples).round(2), min(Samples).round(2), np.median(Samples).round(2)"
   ]
  },
  {
   "cell_type": "code",
   "execution_count": 15,
   "metadata": {},
   "outputs": [
    {
     "data": {
      "text/plain": [
       "array([6.3664])"
      ]
     },
     "execution_count": 15,
     "metadata": {},
     "output_type": "execute_result"
    }
   ],
   "source": [
    "all_samples_df[all_samples_df['date'] == '2019-10-10']['pcs_m'].values"
   ]
  },
  {
   "cell_type": "code",
   "execution_count": 16,
   "metadata": {},
   "outputs": [
    {
     "name": "stdout",
     "output_type": "stream",
     "text": [
      "Normal distribution fit results: mu = 9.16,  std = 10.64\n"
     ]
    },
    {
     "data": {
      "image/png": "[encoded data removed]",
      "text/plain": [
       "<Figure size 360x360 with 1 Axes>"
      ]
     },
     "metadata": {
      "needs_background": "light"
     },
     "output_type": "display_data"
    }
   ],
   "source": [
    "# Generate some data for this demonstration.\n",
    "data = Samples\n",
    "\n",
    "# Fit a normal distribution to the data:\n",
    "mu, std = norm.fit(data)\n",
    "\n",
    "# Plot the histogram.\n",
    "plt.hist(data, bins=25, density=True, alpha=0.6, color='g')\n",
    "\n",
    "# Plot the PDF.\n",
    "xmin, xmax = plt.xlim()\n",
    "x = np.linspace(xmin, xmax, 100)\n",
    "p = norm.pdf(x, mu, std)\n",
    "\n",
    "# our sample\n",
    "plt.scatter(all_samples_df[all_samples_df['date'] == '2019-10-10']['pcs_m'].values, 0 , c = 'r')\n",
    "\n",
    "# Plot the law\n",
    "plt.plot(x, p, 'k', linewidth=2)\n",
    "\n",
    "print(\"Normal distribution fit results: mu = %.2f,  std = %.2f\" % (mu, std))\n",
    "plt.title('normal distribution')\n",
    "plt.ylabel('frequency')\n",
    "plt.xlabel('pieces of trash per meter of shoreline')\n",
    "\n",
    "\n",
    "\n",
    "plt.show()\n"
   ]
  },
  {
   "cell_type": "code",
   "execution_count": 17,
   "metadata": {},
   "outputs": [
    {
     "name": "stdout",
     "output_type": "stream",
     "text": [
      "Log normal distribution fit results: sigma = 0.94,  teta = -0.38,  m = 6.14\n"
     ]
    },
    {
     "data": {
      "image/png": "[encoded data removed]",
      "text/plain": [
       "<Figure size 360x360 with 1 Axes>"
      ]
     },
     "metadata": {
      "needs_background": "light"
     },
     "output_type": "display_data"
    }
   ],
   "source": [
    "# Generate some data for this demonstration.\n",
    "data = Samples\n",
    "\n",
    "# Fit a normal distribution to the data:\n",
    "sigma, teta, m = lognorm.fit(data)\n",
    "\n",
    "# Plot the histogram.\n",
    "plt.hist(data, bins=25, density=True, alpha=0.6, color='g')\n",
    "\n",
    "# Plot the PDF.\n",
    "xmin, xmax = plt.xlim()\n",
    "x = np.linspace(xmin, xmax, 100)\n",
    "p = lognorm.pdf(x, sigma, teta, m)\n",
    "\n",
    "# our sample\n",
    "plt.scatter(all_samples_df[all_samples_df['date'] == '2019-10-10']['pcs_m'].values, 0 , c = 'r')\n",
    "\n",
    "# Plot the law\n",
    "plt.plot(x, p, 'k', linewidth=2)\n",
    "\n",
    "print(\"Log normal distribution fit results: sigma = %.2f,  teta = %.2f,  m = %.2f\" % (sigma, teta, m))\n",
    "plt.title('log normal distribution')\n",
    "plt.ylabel('frequency')\n",
    "plt.xlabel('pieces of trash per meter of shoreline')\n",
    "\n",
    "\n",
    "plt.show()"
   ]
  },
  {
   "cell_type": "code",
   "execution_count": 18,
   "metadata": {},
   "outputs": [
    {
     "name": "stdout",
     "output_type": "stream",
     "text": [
      "Gamma distribution fit results: alpha = 0.99,  loc = 0.12,  beta = 9.20\n"
     ]
    },
    {
     "data": {
      "image/png": "[encoded data removed]",
      "text/plain": [
       "<Figure size 360x360 with 1 Axes>"
      ]
     },
     "metadata": {
      "needs_background": "light"
     },
     "output_type": "display_data"
    }
   ],
   "source": [
    "# Generate some data for this demonstration.\n",
    "data = Samples\n",
    "\n",
    "# Fit a normal distribution to the data:\n",
    "alpha, loc, beta = gamma.fit(data)\n",
    "\n",
    "# Plot the histogram.\n",
    "plt.hist(data, bins=25, density=True, alpha=0.6, color='g')\n",
    "\n",
    "# Plot the PDF.\n",
    "xmin, xmax = plt.xlim()\n",
    "x = np.linspace(xmin, xmax, 100)\n",
    "p = gamma.pdf(x, alpha, loc, beta)\n",
    "\n",
    "# our sample\n",
    "plt.scatter(all_samples_df[all_samples_df['date'] == '2019-10-10']['pcs_m'].values, 0 , c = 'r')\n",
    "\n",
    "# Plot the law\n",
    "plt.plot(x, p, 'k', linewidth=2)\n",
    "\n",
    "print(\"Gamma distribution fit results: alpha = %.2f,  loc = %.2f,  beta = %.2f\" % (alpha, loc, beta))\n",
    "plt.title('gamma distribution')\n",
    "plt.ylabel('frequency')\n",
    "plt.xlabel('pieces of trash per meter of shoreline')\n",
    "\n",
    "plt.show()"
   ]
  },
  {
   "cell_type": "markdown",
   "metadata": {},
   "source": [
    "## Probability fuction for toys trash collected on the beahces of Lac Léman"
   ]
  },
  {
   "cell_type": "code",
   "execution_count": 19,
   "metadata": {},
   "outputs": [
    {
     "data": {
      "text/plain": [
       "(76, 2.222, 0.012)"
      ]
     },
     "execution_count": 19,
     "metadata": {},
     "output_type": "execute_result"
    }
   ],
   "source": [
    "Samples = toys_df[toys_df['date'] != '2019-10-10']['pcs_m'].values\n",
    "len(Samples), max(Samples), min(Samples)"
   ]
  },
  {
   "cell_type": "code",
   "execution_count": 20,
   "metadata": {},
   "outputs": [
    {
     "name": "stdout",
     "output_type": "stream",
     "text": [
      "Normal distribution fit results: mu = 0.13,  std = 0.28\n"
     ]
    },
    {
     "data": {
      "image/png": "[encoded data removed]",
      "text/plain": [
       "<Figure size 360x360 with 1 Axes>"
      ]
     },
     "metadata": {
      "needs_background": "light"
     },
     "output_type": "display_data"
    }
   ],
   "source": [
    "# Generate some data for this demonstration.\n",
    "data = Samples\n",
    "\n",
    "# Fit a normal distribution to the data:\n",
    "mu, std = norm.fit(data)\n",
    "\n",
    "# Plot the histogram.\n",
    "plt.hist(data, bins=25, density=True, alpha=0.6, color='g')\n",
    "\n",
    "# Plot the PDF.\n",
    "xmin, xmax = plt.xlim()\n",
    "x = np.linspace(xmin, xmax, 100)\n",
    "p = norm.pdf(x, mu, std)\n",
    "\n",
    "# our sample\n",
    "plt.scatter(toys_df[toys_df['date'] == '2019-10-10']['pcs_m'].values, 0 , c = 'r')\n",
    "\n",
    "# Plot the law\n",
    "plt.plot(x, p, 'k', linewidth=2)\n",
    "\n",
    "print(\"Normal distribution fit results: mu = %.2f,  std = %.2f\" % (mu, std))\n",
    "plt.title('normal distribution')\n",
    "plt.ylabel('frequency')\n",
    "plt.xlabel('toys per meter of shoreline')\n",
    "\n",
    "plt.show()\n"
   ]
  },
  {
   "cell_type": "code",
   "execution_count": 21,
   "metadata": {},
   "outputs": [
    {
     "name": "stdout",
     "output_type": "stream",
     "text": [
      "Log normal distribution fit results: sigma = 1.61,  teta = 0.01,  m = 0.04\n"
     ]
    },
    {
     "data": {
      "image/png": "[encoded data removed]",
      "text/plain": [
       "<Figure size 360x360 with 1 Axes>"
      ]
     },
     "metadata": {
      "needs_background": "light"
     },
     "output_type": "display_data"
    }
   ],
   "source": [
    "# Generate some data for this demonstration.\n",
    "data = Samples\n",
    "\n",
    "# Fit a normal distribution to the data:\n",
    "sigma, teta, m = lognorm.fit(data)\n",
    "\n",
    "# Plot the histogram.\n",
    "plt.hist(data, bins=25, density=True, alpha=0.6, color='g')\n",
    "\n",
    "# Plot the PDF.\n",
    "xmin, xmax = plt.xlim()\n",
    "x = np.linspace(xmin, xmax, 100)\n",
    "p = lognorm.pdf(x, sigma, teta, m)\n",
    "\n",
    "# our sample\n",
    "plt.scatter(toys_df[toys_df['date'] == '2019-10-10']['pcs_m'].values, 0 , c = 'r')\n",
    "\n",
    "# Plot the law\n",
    "plt.plot(x, p, 'k', linewidth=2)\n",
    "\n",
    "print(\"Log normal distribution fit results: sigma = %.2f,  teta = %.2f,  m = %.2f\" % (sigma, teta, m))\n",
    "plt.title('log normal distribution')\n",
    "plt.ylabel('frequency')\n",
    "plt.xlabel('toys per meter of shoreline')\n",
    "\n",
    "\n",
    "plt.show()"
   ]
  },
  {
   "cell_type": "code",
   "execution_count": 22,
   "metadata": {},
   "outputs": [
    {
     "name": "stdout",
     "output_type": "stream",
     "text": [
      "Gamma distribution fit results: alpha = 0.19,  loc = 0.01,  beta = 1.20\n"
     ]
    },
    {
     "data": {
      "image/png": "[encoded data removed]",
      "text/plain": [
       "<Figure size 360x360 with 1 Axes>"
      ]
     },
     "metadata": {
      "needs_background": "light"
     },
     "output_type": "display_data"
    }
   ],
   "source": [
    "# Generate some data for this demonstration.\n",
    "data = Samples\n",
    "\n",
    "# Fit a normal distribution to the data:\n",
    "alpha, loc, beta = gamma.fit(data)\n",
    "\n",
    "# Plot the histogram.\n",
    "plt.hist(data, bins=25, density=True, alpha=0.6, color='g')\n",
    "\n",
    "# Plot the PDF.\n",
    "xmin, xmax = plt.xlim()\n",
    "x = np.linspace(xmin, xmax, 100)\n",
    "p = gamma.pdf(x, alpha, loc, beta)\n",
    "\n",
    "# our sample\n",
    "plt.scatter(toys_df[toys_df['date'] == '2019-10-10']['pcs_m'].values, 0 , c = 'r')\n",
    "\n",
    "# Plot the law\n",
    "plt.plot(x, p, 'k', linewidth=2)\n",
    "\n",
    "print(\"Gamma distribution fit results: alpha = %.2f,  loc = %.2f,  beta = %.2f\" % (alpha, loc, beta))\n",
    "plt.title('gamma distribution')\n",
    "plt.ylabel('frequency')\n",
    "plt.xlabel('toys per meter of shoreline')\n",
    "\n",
    "plt.show()"
   ]
  },
  {
   "cell_type": "markdown",
   "metadata": {},
   "source": [
    "## Probability fuction for plastic sheetings trash collected on the beahces of Lac Léman"
   ]
  },
  {
   "cell_type": "code",
   "execution_count": 23,
   "metadata": {},
   "outputs": [
    {
     "data": {
      "text/plain": [
       "(109, 6.1, 0.014)"
      ]
     },
     "execution_count": 23,
     "metadata": {},
     "output_type": "execute_result"
    }
   ],
   "source": [
    "Samples = sheetings_df[sheetings_df['date'] != '2019-10-10']['pcs_m'].values\n",
    "len(Samples), max(Samples), min(Samples)"
   ]
  },
  {
   "cell_type": "code",
   "execution_count": 24,
   "metadata": {},
   "outputs": [
    {
     "name": "stdout",
     "output_type": "stream",
     "text": [
      "Normal distribution fit results: mu = 0.57,  std = 0.91\n"
     ]
    },
    {
     "data": {
      "image/png": "[encoded data removed]",
      "text/plain": [
       "<Figure size 360x360 with 1 Axes>"
      ]
     },
     "metadata": {
      "needs_background": "light"
     },
     "output_type": "display_data"
    }
   ],
   "source": [
    "# Generate some data for this demonstration.\n",
    "data = Samples\n",
    "\n",
    "# Fit a normal distribution to the data:\n",
    "mu, std = norm.fit(data)\n",
    "\n",
    "# Plot the histogram.\n",
    "plt.hist(data, bins=25, density=True, alpha=0.6, color='g')\n",
    "\n",
    "# Plot the PDF.\n",
    "xmin, xmax = plt.xlim()\n",
    "x = np.linspace(xmin, xmax, 100)\n",
    "p = norm.pdf(x, mu, std)\n",
    "\n",
    "# our sample\n",
    "plt.scatter(sheetings_df[sheetings_df['date'] == '2019-10-10']['pcs_m'].values, 0 , c = 'r')\n",
    "\n",
    "# Plot the law\n",
    "plt.plot(x, p, 'k', linewidth=2)\n",
    "\n",
    "print(\"Normal distribution fit results: mu = %.2f,  std = %.2f\" % (mu, std))\n",
    "plt.title('normal distribution')\n",
    "plt.ylabel('frequency')\n",
    "plt.xlabel('plastic sheetings per meter of shoreline')\n",
    "\n",
    "plt.show()\n"
   ]
  },
  {
   "cell_type": "code",
   "execution_count": 25,
   "metadata": {},
   "outputs": [
    {
     "name": "stdout",
     "output_type": "stream",
     "text": [
      "Log normal distribution fit results: sigma = 1.40,  teta = 0.01,  m = 0.23\n"
     ]
    },
    {
     "data": {
      "image/png": "[encoded data removed]",
      "text/plain": [
       "<Figure size 360x360 with 1 Axes>"
      ]
     },
     "metadata": {
      "needs_background": "light"
     },
     "output_type": "display_data"
    }
   ],
   "source": [
    "# Generate some data for this demonstration.\n",
    "data = Samples\n",
    "\n",
    "# Fit a normal distribution to the data:\n",
    "sigma, teta, m = lognorm.fit(data)\n",
    "\n",
    "# Plot the histogram.\n",
    "plt.hist(data, bins=25, density=True, alpha=0.6, color='g')\n",
    "\n",
    "# Plot the PDF.\n",
    "xmin, xmax = plt.xlim()\n",
    "x = np.linspace(xmin, xmax, 100)\n",
    "p = lognorm.pdf(x, sigma, teta, m)\n",
    "\n",
    "# our sample\n",
    "plt.scatter(sheetings_df[sheetings_df['date'] == '2019-10-10']['pcs_m'].values, 0 , c = 'r')\n",
    "\n",
    "# Plot the law\n",
    "plt.plot(x, p, 'k', linewidth=2)\n",
    "\n",
    "print(\"Log normal distribution fit results: sigma = %.2f,  teta = %.2f,  m = %.2f\" % (sigma, teta, m))\n",
    "plt.title('log normal distribution')\n",
    "plt.ylabel('frequency')\n",
    "plt.xlabel('plastic sheetings per meter of shoreline')\n",
    "\n",
    "\n",
    "plt.show()"
   ]
  },
  {
   "cell_type": "code",
   "execution_count": 26,
   "metadata": {
    "scrolled": true
   },
   "outputs": [
    {
     "name": "stdout",
     "output_type": "stream",
     "text": [
      "Gamma distribution fit results: alpha = 0.55,  loc = 0.01,  beta = 1.32\n"
     ]
    },
    {
     "data": {
      "image/png": "[encoded data removed]",
      "text/plain": [
       "<Figure size 360x360 with 1 Axes>"
      ]
     },
     "metadata": {
      "needs_background": "light"
     },
     "output_type": "display_data"
    }
   ],
   "source": [
    "# Generate some data for this demonstration.\n",
    "data = Samples\n",
    "\n",
    "# Fit a normal distribution to the data:\n",
    "alpha, loc, beta = gamma.fit(data)\n",
    "\n",
    "# Plot the histogram.\n",
    "plt.hist(data, bins=25, density=True, alpha=0.6, color='g')\n",
    "\n",
    "# Plot the PDF.\n",
    "xmin, xmax = plt.xlim()\n",
    "x = np.linspace(xmin, xmax, 100)\n",
    "p = gamma.pdf(x, alpha, loc, beta)\n",
    "\n",
    "# our sample\n",
    "plt.scatter(sheetings_df[sheetings_df['date'] == '2019-10-10']['pcs_m'].values, 0 , c = 'r')\n",
    "\n",
    "# Plot the law\n",
    "plt.plot(x, p, 'k', linewidth=2)\n",
    "\n",
    "print(\"Gamma distribution fit results: alpha = %.2f,  loc = %.2f,  beta = %.2f\" % (alpha, loc, beta))\n",
    "plt.title('gamma distribution')\n",
    "plt.ylabel('frequency')\n",
    "plt.xlabel('plastic sheetings per meter of shoreline')\n",
    "\n",
    "plt.show()"
   ]
  },
  {
   "cell_type": "markdown",
   "metadata": {},
   "source": [
    "## Probability fuction for toys trash collected on the beahces of Lac Léman\n",
    "### With zeros"
   ]
  },
  {
   "cell_type": "code",
   "execution_count": 27,
   "metadata": {},
   "outputs": [
    {
     "data": {
      "text/plain": [
       "(76, 2.222, 0.012)"
      ]
     },
     "execution_count": 27,
     "metadata": {},
     "output_type": "execute_result"
    }
   ],
   "source": [
    "Samples = toys_df[toys_df['date'] != '2019-10-10']['pcs_m'].values\n",
    "len(Samples), max(Samples), min(Samples)"
   ]
  },
  {
   "cell_type": "code",
   "execution_count": 28,
   "metadata": {},
   "outputs": [
    {
     "data": {
      "text/plain": [
       "(151, 2.222, 0.0)"
      ]
     },
     "execution_count": 28,
     "metadata": {},
     "output_type": "execute_result"
    }
   ],
   "source": [
    "diff = len(np.array(all_samples_df['pcs_m'])) - len(Samples)\n",
    "Samples = np.append(Samples, np.zeros(diff))\n",
    "len(Samples), max(Samples), min(Samples)"
   ]
  },
  {
   "cell_type": "code",
   "execution_count": 29,
   "metadata": {},
   "outputs": [
    {
     "name": "stdout",
     "output_type": "stream",
     "text": [
      "Normal distribution fit results: mu = 0.07,  std = 0.21\n"
     ]
    },
    {
     "data": {
      "image/png": "[encoded data removed]",
      "text/plain": [
       "<Figure size 360x360 with 1 Axes>"
      ]
     },
     "metadata": {
      "needs_background": "light"
     },
     "output_type": "display_data"
    }
   ],
   "source": [
    "# Generate some data for this demonstration.\n",
    "data = Samples\n",
    "\n",
    "# Fit a normal distribution to the data:\n",
    "mu, std = norm.fit(data)\n",
    "\n",
    "# Plot the histogram.\n",
    "plt.hist(data, bins=25, density=True, alpha=0.6, color='g')\n",
    "\n",
    "# Plot the PDF.\n",
    "xmin, xmax = plt.xlim()\n",
    "x = np.linspace(xmin, xmax, 100)\n",
    "p = norm.pdf(x, mu, std)\n",
    "\n",
    "# our sample\n",
    "plt.scatter(toys_df[toys_df['date'] == '2019-10-10']['pcs_m'].values, 0 , c = 'r')\n",
    "\n",
    "# Plot the law\n",
    "plt.plot(x, p, 'k', linewidth=2)\n",
    "\n",
    "print(\"Normal distribution fit results: mu = %.2f,  std = %.2f\" % (mu, std))\n",
    "plt.title('normal distribution')\n",
    "plt.ylabel('frequency')\n",
    "plt.xlabel('toys per meter of shoreline')\n",
    "\n",
    "plt.show()\n"
   ]
  },
  {
   "cell_type": "code",
   "execution_count": 30,
   "metadata": {},
   "outputs": [
    {
     "name": "stdout",
     "output_type": "stream",
     "text": [
      "Log normal distribution fit results: sigma = 9.92,  teta = -0.00,  m = 0.00\n"
     ]
    },
    {
     "data": {
      "image/png": "[encoded data removed]",
      "text/plain": [
       "<Figure size 360x360 with 1 Axes>"
      ]
     },
     "metadata": {
      "needs_background": "light"
     },
     "output_type": "display_data"
    }
   ],
   "source": [
    "# Generate some data for this demonstration.\n",
    "data = Samples\n",
    "\n",
    "# Fit a normal distribution to the data:\n",
    "sigma, teta, m = lognorm.fit(data)\n",
    "\n",
    "# Plot the histogram.\n",
    "plt.hist(data, bins=25, density=True, alpha=0.6, color='g')\n",
    "\n",
    "# Plot the PDF.\n",
    "xmin, xmax = plt.xlim()\n",
    "x = np.linspace(xmin, xmax, 100)\n",
    "p = lognorm.pdf(x, sigma, teta, m)\n",
    "\n",
    "# our sample\n",
    "plt.scatter(toys_df[toys_df['date'] == '2019-10-10']['pcs_m'].values, 0 , c = 'r')\n",
    "\n",
    "# Plot the law\n",
    "plt.plot(x, p, 'k', linewidth=2)\n",
    "\n",
    "print(\"Log normal distribution fit results: sigma = %.2f,  teta = %.2f,  m = %.2f\" % (sigma, teta, m))\n",
    "plt.title('log normal distribution')\n",
    "plt.ylabel('frequency')\n",
    "plt.xlabel('toys per meter of shoreline')\n",
    "\n",
    "\n",
    "plt.show()"
   ]
  },
  {
   "cell_type": "code",
   "execution_count": 31,
   "metadata": {},
   "outputs": [
    {
     "name": "stdout",
     "output_type": "stream",
     "text": [
      "Gamma distribution fit results: alpha = 0.10,  loc = -0.00,  beta = 1.26\n"
     ]
    },
    {
     "data": {
      "image/png": "[encoded data removed]",
      "text/plain": [
       "<Figure size 360x360 with 1 Axes>"
      ]
     },
     "metadata": {
      "needs_background": "light"
     },
     "output_type": "display_data"
    }
   ],
   "source": [
    "# Generate some data for this demonstration.\n",
    "data = Samples\n",
    "\n",
    "# Fit a normal distribution to the data:\n",
    "alpha, loc, beta = gamma.fit(data)\n",
    "\n",
    "# Plot the histogram.\n",
    "plt.hist(data, bins=25, density=True, alpha=0.6, color='g')\n",
    "\n",
    "# Plot the PDF.\n",
    "xmin, xmax = plt.xlim()\n",
    "x = np.linspace(xmin, xmax, 100)\n",
    "p = gamma.pdf(x, alpha, loc, beta)\n",
    "\n",
    "# our sample\n",
    "plt.scatter(toys_df[toys_df['date'] == '2019-10-10']['pcs_m'].values, 0 , c = 'r')\n",
    "\n",
    "# Plot the law\n",
    "plt.plot(x, p, 'k', linewidth=2)\n",
    "\n",
    "print(\"Gamma distribution fit results: alpha = %.2f,  loc = %.2f,  beta = %.2f\" % (alpha, loc, beta))\n",
    "plt.title('gamma distribution')\n",
    "plt.ylabel('frequency')\n",
    "plt.xlabel('toys per meter of shoreline')\n",
    "\n",
    "plt.show()"
   ]
  },
  {
   "cell_type": "markdown",
   "metadata": {},
   "source": [
    "## Probability fuction for plastic sheetings trash collected on the beahces of Lac Léman\n",
    "### With zeros"
   ]
  },
  {
   "cell_type": "code",
   "execution_count": 32,
   "metadata": {},
   "outputs": [
    {
     "data": {
      "text/plain": [
       "(109, 6.1, 0.014)"
      ]
     },
     "execution_count": 32,
     "metadata": {},
     "output_type": "execute_result"
    }
   ],
   "source": [
    "Samples = sheetings_df[sheetings_df['date'] != '2019-10-10']['pcs_m'].values\n",
    "len(Samples), max(Samples), min(Samples)"
   ]
  },
  {
   "cell_type": "code",
   "execution_count": 33,
   "metadata": {},
   "outputs": [
    {
     "data": {
      "text/plain": [
       "(151, 6.1, 0.0)"
      ]
     },
     "execution_count": 33,
     "metadata": {},
     "output_type": "execute_result"
    }
   ],
   "source": [
    "diff = len(np.array(all_samples_df['pcs_m'])) - len(Samples)\n",
    "Samples = np.append(Samples, np.zeros(diff))\n",
    "len(Samples), max(Samples), min(Samples)"
   ]
  },
  {
   "cell_type": "code",
   "execution_count": 34,
   "metadata": {},
   "outputs": [
    {
     "name": "stdout",
     "output_type": "stream",
     "text": [
      "Normal distribution fit results: mu = 0.41,  std = 0.81\n"
     ]
    },
    {
     "data": {
      "image/png": "[encoded data removed]",
      "text/plain": [
       "<Figure size 360x360 with 1 Axes>"
      ]
     },
     "metadata": {
      "needs_background": "light"
     },
     "output_type": "display_data"
    }
   ],
   "source": [
    "# Generate some data for this demonstration.\n",
    "data = Samples\n",
    "\n",
    "# Fit a normal distribution to the data:\n",
    "mu, std = norm.fit(data)\n",
    "\n",
    "# Plot the histogram.\n",
    "plt.hist(data, bins=25, density=True, alpha=0.6, color='g')\n",
    "\n",
    "# Plot the PDF.\n",
    "xmin, xmax = plt.xlim()\n",
    "x = np.linspace(xmin, xmax, 100)\n",
    "p = norm.pdf(x, mu, std)\n",
    "\n",
    "# our sample\n",
    "plt.scatter(sheetings_df[sheetings_df['date'] == '2019-10-10']['pcs_m'].values, 0 , c = 'r')\n",
    "\n",
    "# Plot the law\n",
    "plt.plot(x, p, 'k', linewidth=2)\n",
    "\n",
    "print(\"Normal distribution fit results: mu = %.2f,  std = %.2f\" % (mu, std))\n",
    "plt.title('normal distribution')\n",
    "plt.ylabel('frequency')\n",
    "plt.xlabel('plastic sheetings per meter of shoreline')\n",
    "\n",
    "plt.show()\n"
   ]
  },
  {
   "cell_type": "code",
   "execution_count": 35,
   "metadata": {
    "scrolled": true
   },
   "outputs": [
    {
     "name": "stdout",
     "output_type": "stream",
     "text": [
      "Log normal distribution fit results: sigma = 16.42,  teta = -0.00,  m = 0.58\n"
     ]
    },
    {
     "data": {
      "image/png": "[encoded data removed]",
      "text/plain": [
       "<Figure size 360x360 with 1 Axes>"
      ]
     },
     "metadata": {
      "needs_background": "light"
     },
     "output_type": "display_data"
    }
   ],
   "source": [
    "# Generate some data for this demonstration.\n",
    "data = Samples\n",
    "\n",
    "# Fit a normal distribution to the data:\n",
    "sigma, teta, m = lognorm.fit(data)\n",
    "\n",
    "# Plot the histogram.\n",
    "plt.hist(data, bins=25, density=True, alpha=0.6, color='g')\n",
    "\n",
    "# Plot the PDF.\n",
    "xmin, xmax = plt.xlim()\n",
    "x = np.linspace(xmin, xmax, 100)\n",
    "p = lognorm.pdf(x, sigma, teta, m)\n",
    "\n",
    "# our sample\n",
    "plt.scatter(sheetings_df[sheetings_df['date'] == '2019-10-10']['pcs_m'].values, 0 , c = 'r')\n",
    "\n",
    "# Plot the law\n",
    "plt.plot(x, p, 'k', linewidth=2)\n",
    "\n",
    "print(\"Log normal distribution fit results: sigma = %.2f,  teta = %.2f,  m = %.2f\" % (sigma, teta, m))\n",
    "plt.title('log normal distribution')\n",
    "plt.ylabel('frequency')\n",
    "plt.xlabel('plastic sheetings per meter of shoreline')\n",
    "\n",
    "\n",
    "plt.show()"
   ]
  },
  {
   "cell_type": "code",
   "execution_count": 36,
   "metadata": {
    "scrolled": true
   },
   "outputs": [
    {
     "name": "stdout",
     "output_type": "stream",
     "text": [
      "Gamma distribution fit results: alpha = 0.41,  loc = -0.00,  beta = 1.90\n"
     ]
    },
    {
     "data": {
      "image/png": "[encoded data removed]",
      "text/plain": [
       "<Figure size 360x360 with 1 Axes>"
      ]
     },
     "metadata": {
      "needs_background": "light"
     },
     "output_type": "display_data"
    }
   ],
   "source": [
    "# Generate some data for this demonstration.\n",
    "data = Samples\n",
    "\n",
    "# Fit a normal distribution to the data:\n",
    "alpha, loc, beta = gamma.fit(data)\n",
    "\n",
    "# Plot the histogram.\n",
    "plt.hist(data, bins=25, density=True, alpha=0.6, color='g')\n",
    "\n",
    "# Plot the PDF.\n",
    "xmin, xmax = plt.xlim()\n",
    "x = np.linspace(xmin, xmax, 100)\n",
    "p = gamma.pdf(x, alpha, loc, beta)\n",
    "\n",
    "# our sample\n",
    "plt.scatter(sheetings_df[sheetings_df['date'] == '2019-10-10']['pcs_m'].values, 0 , c = 'r')\n",
    "\n",
    "# Plot the law\n",
    "plt.plot(x, p, 'k', linewidth=2)\n",
    "\n",
    "print(\"Gamma distribution fit results: alpha = %.2f,  loc = %.2f,  beta = %.2f\" % (alpha, loc, beta))\n",
    "plt.title('gamma distribution')\n",
    "plt.ylabel('frequency')\n",
    "plt.xlabel('plastic sheetings per meter of shoreline')\n",
    "\n",
    "plt.show()"
   ]
  },
  {
   "cell_type": "markdown",
   "metadata": {},
   "source": [
    "## pieces per meter history for Lac Léman"
   ]
  },
  {
   "cell_type": "code",
   "execution_count": 37,
   "metadata": {},
   "outputs": [],
   "source": [
    "# set a default figure size for all figures\n",
    "plt.rcParams['figure.figsize'] = [15, 5]"
   ]
  },
  {
   "cell_type": "code",
   "execution_count": 38,
   "metadata": {},
   "outputs": [
    {
     "data": {
      "text/html": [
       "<div>\n",
       "<style scoped>\n",
       "    .dataframe tbody tr th:only-of-type {\n",
       "        vertical-align: middle;\n",
       "    }\n",
       "\n",
       "    .dataframe tbody tr th {\n",
       "        vertical-align: top;\n",
       "    }\n",
       "\n",
       "    .dataframe thead th {\n",
       "        text-align: right;\n",
       "    }\n",
       "</style>\n",
       "<table border=\"1\" class=\"dataframe\">\n",
       "  <thead>\n",
       "    <tr style=\"text-align: right;\">\n",
       "      <th></th>\n",
       "      <th>location_id</th>\n",
       "      <th>month</th>\n",
       "      <th>date</th>\n",
       "      <th>py_date</th>\n",
       "      <th>pcs_m</th>\n",
       "    </tr>\n",
       "  </thead>\n",
       "  <tbody>\n",
       "    <tr>\n",
       "      <td>77</td>\n",
       "      <td>Parc-des-Pierrettes</td>\n",
       "      <td>10</td>\n",
       "      <td>2016-10-13</td>\n",
       "      <td>2016-10-13</td>\n",
       "      <td>14.4376</td>\n",
       "    </tr>\n",
       "    <tr>\n",
       "      <td>78</td>\n",
       "      <td>Parc-des-Pierrettes</td>\n",
       "      <td>10</td>\n",
       "      <td>2017-10-05</td>\n",
       "      <td>2017-10-05</td>\n",
       "      <td>6.1426</td>\n",
       "    </tr>\n",
       "    <tr>\n",
       "      <td>79</td>\n",
       "      <td>Parc-des-Pierrettes</td>\n",
       "      <td>10</td>\n",
       "      <td>2019-10-10</td>\n",
       "      <td>2019-10-10</td>\n",
       "      <td>6.3664</td>\n",
       "    </tr>\n",
       "  </tbody>\n",
       "</table>\n",
       "</div>"
      ],
      "text/plain": [
       "            location_id  month        date    py_date    pcs_m\n",
       "77  Parc-des-Pierrettes     10  2016-10-13 2016-10-13  14.4376\n",
       "78  Parc-des-Pierrettes     10  2017-10-05 2017-10-05   6.1426\n",
       "79  Parc-des-Pierrettes     10  2019-10-10 2019-10-10   6.3664"
      ]
     },
     "execution_count": 38,
     "metadata": {},
     "output_type": "execute_result"
    }
   ],
   "source": [
    "# samples at pierretes\n",
    "pierretes_df = all_pcs_day_totals[all_pcs_day_totals['location_id'] == 'Parc-des-Pierrettes']\n",
    "pierretes_df"
   ]
  },
  {
   "cell_type": "code",
   "execution_count": 39,
   "metadata": {},
   "outputs": [
    {
     "data": {
      "text/html": [
       "<div>\n",
       "<style scoped>\n",
       "    .dataframe tbody tr th:only-of-type {\n",
       "        vertical-align: middle;\n",
       "    }\n",
       "\n",
       "    .dataframe tbody tr th {\n",
       "        vertical-align: top;\n",
       "    }\n",
       "\n",
       "    .dataframe thead th {\n",
       "        text-align: right;\n",
       "    }\n",
       "</style>\n",
       "<table border=\"1\" class=\"dataframe\">\n",
       "  <thead>\n",
       "    <tr style=\"text-align: right;\">\n",
       "      <th></th>\n",
       "      <th>date</th>\n",
       "      <th>pcs_m</th>\n",
       "    </tr>\n",
       "  </thead>\n",
       "  <tbody>\n",
       "    <tr>\n",
       "      <td>0</td>\n",
       "      <td>2015-11-23</td>\n",
       "      <td>5.7217</td>\n",
       "    </tr>\n",
       "    <tr>\n",
       "      <td>1</td>\n",
       "      <td>2015-11-24</td>\n",
       "      <td>1.6959</td>\n",
       "    </tr>\n",
       "    <tr>\n",
       "      <td>2</td>\n",
       "      <td>2015-11-27</td>\n",
       "      <td>4.0757</td>\n",
       "    </tr>\n",
       "    <tr>\n",
       "      <td>3</td>\n",
       "      <td>2015-12-01</td>\n",
       "      <td>0.9813</td>\n",
       "    </tr>\n",
       "    <tr>\n",
       "      <td>4</td>\n",
       "      <td>2015-12-02</td>\n",
       "      <td>0.6813</td>\n",
       "    </tr>\n",
       "    <tr>\n",
       "      <td>...</td>\n",
       "      <td>...</td>\n",
       "      <td>...</td>\n",
       "    </tr>\n",
       "    <tr>\n",
       "      <td>146</td>\n",
       "      <td>2018-10-16</td>\n",
       "      <td>77.0560</td>\n",
       "    </tr>\n",
       "    <tr>\n",
       "      <td>147</td>\n",
       "      <td>2018-11-06</td>\n",
       "      <td>8.1669</td>\n",
       "    </tr>\n",
       "    <tr>\n",
       "      <td>148</td>\n",
       "      <td>2019-01-16</td>\n",
       "      <td>9.2000</td>\n",
       "    </tr>\n",
       "    <tr>\n",
       "      <td>149</td>\n",
       "      <td>2019-10-10</td>\n",
       "      <td>6.3664</td>\n",
       "    </tr>\n",
       "    <tr>\n",
       "      <td>150</td>\n",
       "      <td>2019-10-24</td>\n",
       "      <td>9.7335</td>\n",
       "    </tr>\n",
       "  </tbody>\n",
       "</table>\n",
       "<p>151 rows × 2 columns</p>\n",
       "</div>"
      ],
      "text/plain": [
       "           date    pcs_m\n",
       "0    2015-11-23   5.7217\n",
       "1    2015-11-24   1.6959\n",
       "2    2015-11-27   4.0757\n",
       "3    2015-12-01   0.9813\n",
       "4    2015-12-02   0.6813\n",
       "..          ...      ...\n",
       "146  2018-10-16  77.0560\n",
       "147  2018-11-06   8.1669\n",
       "148  2019-01-16   9.2000\n",
       "149  2019-10-10   6.3664\n",
       "150  2019-10-24   9.7335\n",
       "\n",
       "[151 rows x 2 columns]"
      ]
     },
     "execution_count": 39,
     "metadata": {},
     "output_type": "execute_result"
    }
   ],
   "source": [
    "all_samples_df = all_pcs_day_totals[['date', 'pcs_m']].sort_values(by=['date']).reset_index(drop=True)\n",
    "all_samples_df"
   ]
  },
  {
   "cell_type": "code",
   "execution_count": 40,
   "metadata": {},
   "outputs": [
    {
     "data": {
      "text/plain": [
       "'2015-11-23'"
      ]
     },
     "execution_count": 40,
     "metadata": {},
     "output_type": "execute_result"
    }
   ],
   "source": [
    "all_samples_df['date'][0]"
   ]
  },
  {
   "cell_type": "code",
   "execution_count": 41,
   "metadata": {},
   "outputs": [
    {
     "data": {
      "text/plain": [
       "str"
      ]
     },
     "execution_count": 41,
     "metadata": {},
     "output_type": "execute_result"
    }
   ],
   "source": [
    "type(all_samples_df['date'][0])"
   ]
  },
  {
   "cell_type": "code",
   "execution_count": 42,
   "metadata": {},
   "outputs": [],
   "source": [
    "all_samples_df.loc[:,'date'] = pd.to_datetime(all_samples_df['date'])"
   ]
  },
  {
   "cell_type": "code",
   "execution_count": 43,
   "metadata": {
    "scrolled": false
   },
   "outputs": [
    {
     "name": "stderr",
     "output_type": "stream",
     "text": [
      "C:\\ProgramData\\Miniconda3\\envs\\SWE_2020\\lib\\site-packages\\pandas\\plotting\\_matplotlib\\converter.py:103: FutureWarning: Using an implicitly registered datetime converter for a matplotlib plotting method. The converter was registered by pandas on import. Future versions of pandas will require you to explicitly register matplotlib converters.\n",
      "\n",
      "To register the converters:\n",
      "\t>>> from pandas.plotting import register_matplotlib_converters\n",
      "\t>>> register_matplotlib_converters()\n",
      "  warnings.warn(msg, FutureWarning)\n"
     ]
    },
    {
     "data": {
      "text/plain": [
       "[(735903.0, 737364.0)]"
      ]
     },
     "execution_count": 43,
     "metadata": {},
     "output_type": "execute_result"
    },
    {
     "data": {
      "image/png": "[encoded data removed]",
      "text/plain": [
       "<Figure size 1080x360 with 1 Axes>"
      ]
     },
     "metadata": {
      "needs_background": "light"
     },
     "output_type": "display_data"
    }
   ],
   "source": [
    "ax = sns.scatterplot(x=\"date\", y=\"pcs_m\", data=all_samples_df)\n",
    "ax = sns.scatterplot(x=\"date\", y=\"pcs_m\", data=pierretes_df[['date', 'pcs_m']], color ='red')\n",
    "ax.set(xlim = ( '2015-11-01' , '2019-11-01' ))"
   ]
  },
  {
   "cell_type": "code",
   "execution_count": 44,
   "metadata": {},
   "outputs": [
    {
     "data": {
      "image/png": "[encoded data removed]",
      "text/plain": [
       "<Figure size 1080x360 with 1 Axes>"
      ]
     },
     "metadata": {
      "needs_background": "light"
     },
     "output_type": "display_data"
    }
   ],
   "source": [
    "all_samples_df = all_samples_df.assign(days = (all_samples_df['date'] - all_samples_df['date'][0]).dt.days)\n",
    "ax = sns.regplot(x=\"days\", y=\"pcs_m\", data=all_samples_df)"
   ]
  },
  {
   "cell_type": "markdown",
   "metadata": {},
   "source": [
    "## pieces per meter history for Lac Léman for toys (with zero samples)"
   ]
  },
  {
   "cell_type": "code",
   "execution_count": 45,
   "metadata": {},
   "outputs": [],
   "source": [
    "toys_df.sort_values('date' ,inplace=True)"
   ]
  },
  {
   "cell_type": "code",
   "execution_count": 46,
   "metadata": {},
   "outputs": [
    {
     "name": "stderr",
     "output_type": "stream",
     "text": [
      "C:\\ProgramData\\Miniconda3\\envs\\SWE_2020\\lib\\site-packages\\pandas\\core\\indexing.py:576: SettingWithCopyWarning: \n",
      "A value is trying to be set on a copy of a slice from a DataFrame.\n",
      "Try using .loc[row_indexer,col_indexer] = value instead\n",
      "\n",
      "See the caveats in the documentation: http://pandas.pydata.org/pandas-docs/stable/user_guide/indexing.html#returning-a-view-versus-a-copy\n",
      "  self.obj[item_labels[indexer[info_axis]]] = value\n",
      "C:\\ProgramData\\Miniconda3\\envs\\SWE_2020\\lib\\site-packages\\ipykernel_launcher.py:3: SettingWithCopyWarning: \n",
      "A value is trying to be set on a copy of a slice from a DataFrame\n",
      "\n",
      "See the caveats in the documentation: http://pandas.pydata.org/pandas-docs/stable/user_guide/indexing.html#returning-a-view-versus-a-copy\n",
      "  This is separate from the ipykernel package so we can avoid doing imports until\n"
     ]
    },
    {
     "data": {
      "text/html": [
       "<div>\n",
       "<style scoped>\n",
       "    .dataframe tbody tr th:only-of-type {\n",
       "        vertical-align: middle;\n",
       "    }\n",
       "\n",
       "    .dataframe tbody tr th {\n",
       "        vertical-align: top;\n",
       "    }\n",
       "\n",
       "    .dataframe thead th {\n",
       "        text-align: right;\n",
       "    }\n",
       "</style>\n",
       "<table border=\"1\" class=\"dataframe\">\n",
       "  <thead>\n",
       "    <tr style=\"text-align: right;\">\n",
       "      <th></th>\n",
       "      <th>location_id</th>\n",
       "      <th>date</th>\n",
       "    </tr>\n",
       "  </thead>\n",
       "  <tbody>\n",
       "    <tr>\n",
       "      <td>45</td>\n",
       "      <td>Baye-de-Montreux-G</td>\n",
       "      <td>2015-11-23</td>\n",
       "    </tr>\n",
       "    <tr>\n",
       "      <td>19</td>\n",
       "      <td>Baye-de-Clarens</td>\n",
       "      <td>2015-11-24</td>\n",
       "    </tr>\n",
       "    <tr>\n",
       "      <td>111</td>\n",
       "      <td>Veveyse</td>\n",
       "      <td>2015-11-27</td>\n",
       "    </tr>\n",
       "    <tr>\n",
       "      <td>114</td>\n",
       "      <td>Veveyse</td>\n",
       "      <td>2015-12-01</td>\n",
       "    </tr>\n",
       "    <tr>\n",
       "      <td>20</td>\n",
       "      <td>Baye-de-Clarens</td>\n",
       "      <td>2015-12-02</td>\n",
       "    </tr>\n",
       "    <tr>\n",
       "      <td>...</td>\n",
       "      <td>...</td>\n",
       "      <td>...</td>\n",
       "    </tr>\n",
       "    <tr>\n",
       "      <td>99</td>\n",
       "      <td>Tiger-duck-beach</td>\n",
       "      <td>2018-10-16</td>\n",
       "    </tr>\n",
       "    <tr>\n",
       "      <td>97</td>\n",
       "      <td>Saint-Sulpice</td>\n",
       "      <td>2018-11-06</td>\n",
       "    </tr>\n",
       "    <tr>\n",
       "      <td>6</td>\n",
       "      <td>Baby-Plage-Geneva</td>\n",
       "      <td>2019-01-16</td>\n",
       "    </tr>\n",
       "    <tr>\n",
       "      <td>79</td>\n",
       "      <td>Parc-des-Pierrettes</td>\n",
       "      <td>2019-10-10</td>\n",
       "    </tr>\n",
       "    <tr>\n",
       "      <td>96</td>\n",
       "      <td>Rolle-plage</td>\n",
       "      <td>2019-10-24</td>\n",
       "    </tr>\n",
       "  </tbody>\n",
       "</table>\n",
       "<p>151 rows × 2 columns</p>\n",
       "</div>"
      ],
      "text/plain": [
       "             location_id       date\n",
       "45    Baye-de-Montreux-G 2015-11-23\n",
       "19       Baye-de-Clarens 2015-11-24\n",
       "111              Veveyse 2015-11-27\n",
       "114              Veveyse 2015-12-01\n",
       "20       Baye-de-Clarens 2015-12-02\n",
       "..                   ...        ...\n",
       "99      Tiger-duck-beach 2018-10-16\n",
       "97         Saint-Sulpice 2018-11-06\n",
       "6      Baby-Plage-Geneva 2019-01-16\n",
       "79   Parc-des-Pierrettes 2019-10-10\n",
       "96           Rolle-plage 2019-10-24\n",
       "\n",
       "[151 rows x 2 columns]"
      ]
     },
     "execution_count": 46,
     "metadata": {},
     "output_type": "execute_result"
    }
   ],
   "source": [
    "all_df = all_pcs_day_totals[['location_id', 'date']]\n",
    "all_df.loc[:,'date'] = pd.to_datetime(all_df['date'])\n",
    "all_df.sort_values('date' ,inplace=True)\n",
    "all_df"
   ]
  },
  {
   "cell_type": "code",
   "execution_count": 47,
   "metadata": {
    "scrolled": true
   },
   "outputs": [
    {
     "data": {
      "text/html": [
       "<div>\n",
       "<style scoped>\n",
       "    .dataframe tbody tr th:only-of-type {\n",
       "        vertical-align: middle;\n",
       "    }\n",
       "\n",
       "    .dataframe tbody tr th {\n",
       "        vertical-align: top;\n",
       "    }\n",
       "\n",
       "    .dataframe thead th {\n",
       "        text-align: right;\n",
       "    }\n",
       "</style>\n",
       "<table border=\"1\" class=\"dataframe\">\n",
       "  <thead>\n",
       "    <tr style=\"text-align: right;\">\n",
       "      <th></th>\n",
       "      <th>location_id</th>\n",
       "      <th>date</th>\n",
       "    </tr>\n",
       "  </thead>\n",
       "  <tbody>\n",
       "    <tr>\n",
       "      <td>0</td>\n",
       "      <td>Baye-de-Montreux-G</td>\n",
       "      <td>2015-11-23</td>\n",
       "    </tr>\n",
       "    <tr>\n",
       "      <td>1</td>\n",
       "      <td>Baye-de-Montreux-D</td>\n",
       "      <td>2015-12-04</td>\n",
       "    </tr>\n",
       "    <tr>\n",
       "      <td>2</td>\n",
       "      <td>Baye-de-Montreux-G</td>\n",
       "      <td>2015-12-04</td>\n",
       "    </tr>\n",
       "    <tr>\n",
       "      <td>3</td>\n",
       "      <td>Baye-de-Montreux-D</td>\n",
       "      <td>2015-12-10</td>\n",
       "    </tr>\n",
       "    <tr>\n",
       "      <td>19</td>\n",
       "      <td>Baye-de-Clarens</td>\n",
       "      <td>2015-12-16</td>\n",
       "    </tr>\n",
       "    <tr>\n",
       "      <td>...</td>\n",
       "      <td>...</td>\n",
       "      <td>...</td>\n",
       "    </tr>\n",
       "    <tr>\n",
       "      <td>65</td>\n",
       "      <td>Bain-des-Dames</td>\n",
       "      <td>2018-07-22</td>\n",
       "    </tr>\n",
       "    <tr>\n",
       "      <td>73</td>\n",
       "      <td>Tiger-duck-beach</td>\n",
       "      <td>2018-10-16</td>\n",
       "    </tr>\n",
       "    <tr>\n",
       "      <td>74</td>\n",
       "      <td>Saint-Sulpice</td>\n",
       "      <td>2018-11-06</td>\n",
       "    </tr>\n",
       "    <tr>\n",
       "      <td>75</td>\n",
       "      <td>Parc-des-Pierrettes</td>\n",
       "      <td>2019-10-10</td>\n",
       "    </tr>\n",
       "    <tr>\n",
       "      <td>76</td>\n",
       "      <td>Rolle-plage</td>\n",
       "      <td>2019-10-24</td>\n",
       "    </tr>\n",
       "  </tbody>\n",
       "</table>\n",
       "<p>77 rows × 2 columns</p>\n",
       "</div>"
      ],
      "text/plain": [
       "            location_id       date\n",
       "0    Baye-de-Montreux-G 2015-11-23\n",
       "1    Baye-de-Montreux-D 2015-12-04\n",
       "2    Baye-de-Montreux-G 2015-12-04\n",
       "3    Baye-de-Montreux-D 2015-12-10\n",
       "19      Baye-de-Clarens 2015-12-16\n",
       "..                  ...        ...\n",
       "65       Bain-des-Dames 2018-07-22\n",
       "73     Tiger-duck-beach 2018-10-16\n",
       "74        Saint-Sulpice 2018-11-06\n",
       "75  Parc-des-Pierrettes 2019-10-10\n",
       "76          Rolle-plage 2019-10-24\n",
       "\n",
       "[77 rows x 2 columns]"
      ]
     },
     "execution_count": 47,
     "metadata": {},
     "output_type": "execute_result"
    }
   ],
   "source": [
    "sample_df = toys_df[['location_id', 'date']]\n",
    "sample_df.loc[:,'date'] = pd.to_datetime(sample_df['date'])\n",
    "sample_df"
   ]
  },
  {
   "cell_type": "code",
   "execution_count": 48,
   "metadata": {
    "scrolled": true
   },
   "outputs": [],
   "source": [
    "a_df = all_df[\"date\"].map(str) + ' | ' + all_df[\"location_id\"]\n",
    "b_df = sample_df[\"date\"].map(str) + ' | ' + sample_df[\"location_id\"]"
   ]
  },
  {
   "cell_type": "code",
   "execution_count": 49,
   "metadata": {},
   "outputs": [
    {
     "data": {
      "text/plain": [
       "77"
      ]
     },
     "execution_count": 49,
     "metadata": {},
     "output_type": "execute_result"
    }
   ],
   "source": [
    "a = a_df.values\n",
    "b = b_df.values\n",
    "c = np.in1d(a,b)\n",
    "len(a[c])"
   ]
  },
  {
   "cell_type": "code",
   "execution_count": 50,
   "metadata": {},
   "outputs": [],
   "source": [
    "null_samples = np.zeros(len(all_df.values[~c]))"
   ]
  },
  {
   "cell_type": "code",
   "execution_count": 51,
   "metadata": {},
   "outputs": [],
   "source": [
    "c_df = pd.DataFrame(all_df.values[~c])"
   ]
  },
  {
   "cell_type": "code",
   "execution_count": 52,
   "metadata": {
    "scrolled": true
   },
   "outputs": [
    {
     "data": {
      "text/html": [
       "<div>\n",
       "<style scoped>\n",
       "    .dataframe tbody tr th:only-of-type {\n",
       "        vertical-align: middle;\n",
       "    }\n",
       "\n",
       "    .dataframe tbody tr th {\n",
       "        vertical-align: top;\n",
       "    }\n",
       "\n",
       "    .dataframe thead th {\n",
       "        text-align: right;\n",
       "    }\n",
       "</style>\n",
       "<table border=\"1\" class=\"dataframe\">\n",
       "  <thead>\n",
       "    <tr style=\"text-align: right;\">\n",
       "      <th></th>\n",
       "      <th>location_id</th>\n",
       "      <th>date</th>\n",
       "      <th>pcs_m</th>\n",
       "    </tr>\n",
       "  </thead>\n",
       "  <tbody>\n",
       "    <tr>\n",
       "      <td>0</td>\n",
       "      <td>Baye-de-Clarens</td>\n",
       "      <td>2015-11-24</td>\n",
       "      <td>0.0</td>\n",
       "    </tr>\n",
       "    <tr>\n",
       "      <td>1</td>\n",
       "      <td>Veveyse</td>\n",
       "      <td>2015-11-27</td>\n",
       "      <td>0.0</td>\n",
       "    </tr>\n",
       "    <tr>\n",
       "      <td>2</td>\n",
       "      <td>Veveyse</td>\n",
       "      <td>2015-12-01</td>\n",
       "      <td>0.0</td>\n",
       "    </tr>\n",
       "    <tr>\n",
       "      <td>3</td>\n",
       "      <td>Baye-de-Clarens</td>\n",
       "      <td>2015-12-02</td>\n",
       "      <td>0.0</td>\n",
       "    </tr>\n",
       "    <tr>\n",
       "      <td>4</td>\n",
       "      <td>Veveyse</td>\n",
       "      <td>2015-12-07</td>\n",
       "      <td>0.0</td>\n",
       "    </tr>\n",
       "    <tr>\n",
       "      <td>...</td>\n",
       "      <td>...</td>\n",
       "      <td>...</td>\n",
       "      <td>...</td>\n",
       "    </tr>\n",
       "    <tr>\n",
       "      <td>69</td>\n",
       "      <td>Quai-Maria-Belgia</td>\n",
       "      <td>2018-03-25</td>\n",
       "      <td>0.0</td>\n",
       "    </tr>\n",
       "    <tr>\n",
       "      <td>70</td>\n",
       "      <td>lacléman_vidy_santie</td>\n",
       "      <td>2018-03-26</td>\n",
       "      <td>0.0</td>\n",
       "    </tr>\n",
       "    <tr>\n",
       "      <td>71</td>\n",
       "      <td>Préverenges</td>\n",
       "      <td>2018-05-04</td>\n",
       "      <td>0.0</td>\n",
       "    </tr>\n",
       "    <tr>\n",
       "      <td>72</td>\n",
       "      <td>Préverenges</td>\n",
       "      <td>2018-07-11</td>\n",
       "      <td>0.0</td>\n",
       "    </tr>\n",
       "    <tr>\n",
       "      <td>73</td>\n",
       "      <td>Baby-Plage-Geneva</td>\n",
       "      <td>2019-01-16</td>\n",
       "      <td>0.0</td>\n",
       "    </tr>\n",
       "  </tbody>\n",
       "</table>\n",
       "<p>74 rows × 3 columns</p>\n",
       "</div>"
      ],
      "text/plain": [
       "             location_id       date  pcs_m\n",
       "0        Baye-de-Clarens 2015-11-24    0.0\n",
       "1                Veveyse 2015-11-27    0.0\n",
       "2                Veveyse 2015-12-01    0.0\n",
       "3        Baye-de-Clarens 2015-12-02    0.0\n",
       "4                Veveyse 2015-12-07    0.0\n",
       "..                   ...        ...    ...\n",
       "69     Quai-Maria-Belgia 2018-03-25    0.0\n",
       "70  lacléman_vidy_santie 2018-03-26    0.0\n",
       "71           Préverenges 2018-05-04    0.0\n",
       "72           Préverenges 2018-07-11    0.0\n",
       "73     Baby-Plage-Geneva 2019-01-16    0.0\n",
       "\n",
       "[74 rows x 3 columns]"
      ]
     },
     "execution_count": 52,
     "metadata": {},
     "output_type": "execute_result"
    }
   ],
   "source": [
    "c_df.rename(columns={0:'location_id', 1:'date'}, inplace=True)\n",
    "c_df = c_df.assign(pcs_m = null_samples)\n",
    "c_df"
   ]
  },
  {
   "cell_type": "code",
   "execution_count": 53,
   "metadata": {},
   "outputs": [
    {
     "data": {
      "text/html": [
       "<div>\n",
       "<style scoped>\n",
       "    .dataframe tbody tr th:only-of-type {\n",
       "        vertical-align: middle;\n",
       "    }\n",
       "\n",
       "    .dataframe tbody tr th {\n",
       "        vertical-align: top;\n",
       "    }\n",
       "\n",
       "    .dataframe thead th {\n",
       "        text-align: right;\n",
       "    }\n",
       "</style>\n",
       "<table border=\"1\" class=\"dataframe\">\n",
       "  <thead>\n",
       "    <tr style=\"text-align: right;\">\n",
       "      <th></th>\n",
       "      <th>location_id</th>\n",
       "      <th>date</th>\n",
       "      <th>pcs_m</th>\n",
       "    </tr>\n",
       "  </thead>\n",
       "  <tbody>\n",
       "    <tr>\n",
       "      <td>0</td>\n",
       "      <td>Baye-de-Clarens</td>\n",
       "      <td>2015-11-24 00:00:00</td>\n",
       "      <td>0.000</td>\n",
       "    </tr>\n",
       "    <tr>\n",
       "      <td>1</td>\n",
       "      <td>Veveyse</td>\n",
       "      <td>2015-11-27 00:00:00</td>\n",
       "      <td>0.000</td>\n",
       "    </tr>\n",
       "    <tr>\n",
       "      <td>2</td>\n",
       "      <td>Veveyse</td>\n",
       "      <td>2015-12-01 00:00:00</td>\n",
       "      <td>0.000</td>\n",
       "    </tr>\n",
       "    <tr>\n",
       "      <td>3</td>\n",
       "      <td>Baye-de-Clarens</td>\n",
       "      <td>2015-12-02 00:00:00</td>\n",
       "      <td>0.000</td>\n",
       "    </tr>\n",
       "    <tr>\n",
       "      <td>4</td>\n",
       "      <td>Veveyse</td>\n",
       "      <td>2015-12-07 00:00:00</td>\n",
       "      <td>0.000</td>\n",
       "    </tr>\n",
       "    <tr>\n",
       "      <td>...</td>\n",
       "      <td>...</td>\n",
       "      <td>...</td>\n",
       "      <td>...</td>\n",
       "    </tr>\n",
       "    <tr>\n",
       "      <td>65</td>\n",
       "      <td>Bain-des-Dames</td>\n",
       "      <td>2018-07-22</td>\n",
       "      <td>0.045</td>\n",
       "    </tr>\n",
       "    <tr>\n",
       "      <td>73</td>\n",
       "      <td>Tiger-duck-beach</td>\n",
       "      <td>2018-10-16</td>\n",
       "      <td>2.222</td>\n",
       "    </tr>\n",
       "    <tr>\n",
       "      <td>74</td>\n",
       "      <td>Saint-Sulpice</td>\n",
       "      <td>2018-11-06</td>\n",
       "      <td>0.056</td>\n",
       "    </tr>\n",
       "    <tr>\n",
       "      <td>75</td>\n",
       "      <td>Parc-des-Pierrettes</td>\n",
       "      <td>2019-10-10</td>\n",
       "      <td>0.100</td>\n",
       "    </tr>\n",
       "    <tr>\n",
       "      <td>76</td>\n",
       "      <td>Rolle-plage</td>\n",
       "      <td>2019-10-24</td>\n",
       "      <td>0.467</td>\n",
       "    </tr>\n",
       "  </tbody>\n",
       "</table>\n",
       "<p>151 rows × 3 columns</p>\n",
       "</div>"
      ],
      "text/plain": [
       "            location_id                 date  pcs_m\n",
       "0       Baye-de-Clarens  2015-11-24 00:00:00  0.000\n",
       "1               Veveyse  2015-11-27 00:00:00  0.000\n",
       "2               Veveyse  2015-12-01 00:00:00  0.000\n",
       "3       Baye-de-Clarens  2015-12-02 00:00:00  0.000\n",
       "4               Veveyse  2015-12-07 00:00:00  0.000\n",
       "..                  ...                  ...    ...\n",
       "65       Bain-des-Dames           2018-07-22  0.045\n",
       "73     Tiger-duck-beach           2018-10-16  2.222\n",
       "74        Saint-Sulpice           2018-11-06  0.056\n",
       "75  Parc-des-Pierrettes           2019-10-10  0.100\n",
       "76          Rolle-plage           2019-10-24  0.467\n",
       "\n",
       "[151 rows x 3 columns]"
      ]
     },
     "execution_count": 53,
     "metadata": {},
     "output_type": "execute_result"
    }
   ],
   "source": [
    "c_df = c_df.append(toys_df[['location_id', 'date', 'pcs_m']])\n",
    "c_df"
   ]
  },
  {
   "cell_type": "code",
   "execution_count": 54,
   "metadata": {},
   "outputs": [
    {
     "data": {
      "text/html": [
       "<div>\n",
       "<style scoped>\n",
       "    .dataframe tbody tr th:only-of-type {\n",
       "        vertical-align: middle;\n",
       "    }\n",
       "\n",
       "    .dataframe tbody tr th {\n",
       "        vertical-align: top;\n",
       "    }\n",
       "\n",
       "    .dataframe thead th {\n",
       "        text-align: right;\n",
       "    }\n",
       "</style>\n",
       "<table border=\"1\" class=\"dataframe\">\n",
       "  <thead>\n",
       "    <tr style=\"text-align: right;\">\n",
       "      <th></th>\n",
       "      <th>location_id</th>\n",
       "      <th>date</th>\n",
       "      <th>code_id</th>\n",
       "      <th>length</th>\n",
       "      <th>quantity</th>\n",
       "      <th>project_id</th>\n",
       "      <th>owner</th>\n",
       "      <th>pcs_m</th>\n",
       "    </tr>\n",
       "  </thead>\n",
       "  <tbody>\n",
       "    <tr>\n",
       "      <td>47</td>\n",
       "      <td>Parc-des-Pierrettes</td>\n",
       "      <td>2016-10-13</td>\n",
       "      <td>G32</td>\n",
       "      <td>48</td>\n",
       "      <td>6</td>\n",
       "      <td>MCBP</td>\n",
       "      <td>mwshovel</td>\n",
       "      <td>0.125</td>\n",
       "    </tr>\n",
       "    <tr>\n",
       "      <td>61</td>\n",
       "      <td>Parc-des-Pierrettes</td>\n",
       "      <td>2017-10-05</td>\n",
       "      <td>G32</td>\n",
       "      <td>42</td>\n",
       "      <td>2</td>\n",
       "      <td>MCBP</td>\n",
       "      <td>mwshovel</td>\n",
       "      <td>0.048</td>\n",
       "    </tr>\n",
       "    <tr>\n",
       "      <td>75</td>\n",
       "      <td>Parc-des-Pierrettes</td>\n",
       "      <td>2019-10-10</td>\n",
       "      <td>G32</td>\n",
       "      <td>30</td>\n",
       "      <td>3</td>\n",
       "      <td>tiger-duck</td>\n",
       "      <td>mwshovel</td>\n",
       "      <td>0.100</td>\n",
       "    </tr>\n",
       "  </tbody>\n",
       "</table>\n",
       "</div>"
      ],
      "text/plain": [
       "            location_id        date code_id  length  quantity  project_id  \\\n",
       "47  Parc-des-Pierrettes  2016-10-13     G32      48         6        MCBP   \n",
       "61  Parc-des-Pierrettes  2017-10-05     G32      42         2        MCBP   \n",
       "75  Parc-des-Pierrettes  2019-10-10     G32      30         3  tiger-duck   \n",
       "\n",
       "       owner  pcs_m  \n",
       "47  mwshovel  0.125  \n",
       "61  mwshovel  0.048  \n",
       "75  mwshovel  0.100  "
      ]
     },
     "execution_count": 54,
     "metadata": {},
     "output_type": "execute_result"
    }
   ],
   "source": [
    "pierretes_df = toys_df[toys_df['location_id'] == 'Parc-des-Pierrettes']\n",
    "pierretes_df"
   ]
  },
  {
   "cell_type": "code",
   "execution_count": 55,
   "metadata": {
    "scrolled": true
   },
   "outputs": [
    {
     "data": {
      "text/plain": [
       "[(735903.0, 737364.0)]"
      ]
     },
     "execution_count": 55,
     "metadata": {},
     "output_type": "execute_result"
    },
    {
     "data": {
      "image/png": "[encoded data removed]",
      "text/plain": [
       "<Figure size 1080x360 with 1 Axes>"
      ]
     },
     "metadata": {
      "needs_background": "light"
     },
     "output_type": "display_data"
    }
   ],
   "source": [
    "c_df.loc[:,'date'] = pd.to_datetime(c_df['date'])\n",
    "\n",
    "ax = sns.scatterplot(x=\"date\", y=\"pcs_m\", data=c_df)\n",
    "ax = sns.scatterplot(x=\"date\", y=\"pcs_m\", data=pierretes_df[['date', 'pcs_m']], color ='red')\n",
    "ax.set(xlim = ( '2015-11-01' , '2019-11-01' ))"
   ]
  },
  {
   "cell_type": "code",
   "execution_count": 56,
   "metadata": {},
   "outputs": [
    {
     "data": {
      "image/png": "[encoded data removed]",
      "text/plain": [
       "<Figure size 1080x360 with 1 Axes>"
      ]
     },
     "metadata": {
      "needs_background": "light"
     },
     "output_type": "display_data"
    }
   ],
   "source": [
    "c_df.sort_values(by=['date']).reset_index(drop=True)\n",
    "c_df = c_df.assign(days = (c_df['date'] - all_samples_df['date'][0]).dt.days)\n",
    "ax = sns.regplot(x=\"days\", y=\"pcs_m\", data=c_df)"
   ]
  },
  {
   "cell_type": "markdown",
   "metadata": {},
   "source": [
    "## pieces per meter history for Lac Léman for plastic sheetings (with zero samples)"
   ]
  },
  {
   "cell_type": "code",
   "execution_count": 57,
   "metadata": {},
   "outputs": [],
   "source": [
    "sheetings_df.sort_values('date' ,inplace=True)"
   ]
  },
  {
   "cell_type": "code",
   "execution_count": 58,
   "metadata": {},
   "outputs": [
    {
     "name": "stderr",
     "output_type": "stream",
     "text": [
      "C:\\ProgramData\\Miniconda3\\envs\\SWE_2020\\lib\\site-packages\\ipykernel_launcher.py:3: SettingWithCopyWarning: \n",
      "A value is trying to be set on a copy of a slice from a DataFrame\n",
      "\n",
      "See the caveats in the documentation: http://pandas.pydata.org/pandas-docs/stable/user_guide/indexing.html#returning-a-view-versus-a-copy\n",
      "  This is separate from the ipykernel package so we can avoid doing imports until\n"
     ]
    },
    {
     "data": {
      "text/html": [
       "<div>\n",
       "<style scoped>\n",
       "    .dataframe tbody tr th:only-of-type {\n",
       "        vertical-align: middle;\n",
       "    }\n",
       "\n",
       "    .dataframe tbody tr th {\n",
       "        vertical-align: top;\n",
       "    }\n",
       "\n",
       "    .dataframe thead th {\n",
       "        text-align: right;\n",
       "    }\n",
       "</style>\n",
       "<table border=\"1\" class=\"dataframe\">\n",
       "  <thead>\n",
       "    <tr style=\"text-align: right;\">\n",
       "      <th></th>\n",
       "      <th>location_id</th>\n",
       "      <th>date</th>\n",
       "    </tr>\n",
       "  </thead>\n",
       "  <tbody>\n",
       "    <tr>\n",
       "      <td>45</td>\n",
       "      <td>Baye-de-Montreux-G</td>\n",
       "      <td>2015-11-23</td>\n",
       "    </tr>\n",
       "    <tr>\n",
       "      <td>19</td>\n",
       "      <td>Baye-de-Clarens</td>\n",
       "      <td>2015-11-24</td>\n",
       "    </tr>\n",
       "    <tr>\n",
       "      <td>111</td>\n",
       "      <td>Veveyse</td>\n",
       "      <td>2015-11-27</td>\n",
       "    </tr>\n",
       "    <tr>\n",
       "      <td>114</td>\n",
       "      <td>Veveyse</td>\n",
       "      <td>2015-12-01</td>\n",
       "    </tr>\n",
       "    <tr>\n",
       "      <td>20</td>\n",
       "      <td>Baye-de-Clarens</td>\n",
       "      <td>2015-12-02</td>\n",
       "    </tr>\n",
       "    <tr>\n",
       "      <td>...</td>\n",
       "      <td>...</td>\n",
       "      <td>...</td>\n",
       "    </tr>\n",
       "    <tr>\n",
       "      <td>99</td>\n",
       "      <td>Tiger-duck-beach</td>\n",
       "      <td>2018-10-16</td>\n",
       "    </tr>\n",
       "    <tr>\n",
       "      <td>97</td>\n",
       "      <td>Saint-Sulpice</td>\n",
       "      <td>2018-11-06</td>\n",
       "    </tr>\n",
       "    <tr>\n",
       "      <td>6</td>\n",
       "      <td>Baby-Plage-Geneva</td>\n",
       "      <td>2019-01-16</td>\n",
       "    </tr>\n",
       "    <tr>\n",
       "      <td>79</td>\n",
       "      <td>Parc-des-Pierrettes</td>\n",
       "      <td>2019-10-10</td>\n",
       "    </tr>\n",
       "    <tr>\n",
       "      <td>96</td>\n",
       "      <td>Rolle-plage</td>\n",
       "      <td>2019-10-24</td>\n",
       "    </tr>\n",
       "  </tbody>\n",
       "</table>\n",
       "<p>151 rows × 2 columns</p>\n",
       "</div>"
      ],
      "text/plain": [
       "             location_id       date\n",
       "45    Baye-de-Montreux-G 2015-11-23\n",
       "19       Baye-de-Clarens 2015-11-24\n",
       "111              Veveyse 2015-11-27\n",
       "114              Veveyse 2015-12-01\n",
       "20       Baye-de-Clarens 2015-12-02\n",
       "..                   ...        ...\n",
       "99      Tiger-duck-beach 2018-10-16\n",
       "97         Saint-Sulpice 2018-11-06\n",
       "6      Baby-Plage-Geneva 2019-01-16\n",
       "79   Parc-des-Pierrettes 2019-10-10\n",
       "96           Rolle-plage 2019-10-24\n",
       "\n",
       "[151 rows x 2 columns]"
      ]
     },
     "execution_count": 58,
     "metadata": {},
     "output_type": "execute_result"
    }
   ],
   "source": [
    "all_df = all_pcs_day_totals[['location_id', 'date']]\n",
    "all_df.loc[:,'date'] = pd.to_datetime(all_df['date'])\n",
    "all_df.sort_values('date' ,inplace=True)\n",
    "all_df"
   ]
  },
  {
   "cell_type": "code",
   "execution_count": 59,
   "metadata": {
    "scrolled": true
   },
   "outputs": [
    {
     "data": {
      "text/html": [
       "<div>\n",
       "<style scoped>\n",
       "    .dataframe tbody tr th:only-of-type {\n",
       "        vertical-align: middle;\n",
       "    }\n",
       "\n",
       "    .dataframe tbody tr th {\n",
       "        vertical-align: top;\n",
       "    }\n",
       "\n",
       "    .dataframe thead th {\n",
       "        text-align: right;\n",
       "    }\n",
       "</style>\n",
       "<table border=\"1\" class=\"dataframe\">\n",
       "  <thead>\n",
       "    <tr style=\"text-align: right;\">\n",
       "      <th></th>\n",
       "      <th>location_id</th>\n",
       "      <th>date</th>\n",
       "    </tr>\n",
       "  </thead>\n",
       "  <tbody>\n",
       "    <tr>\n",
       "      <td>21</td>\n",
       "      <td>Baye-de-Clarens</td>\n",
       "      <td>2015-11-24</td>\n",
       "    </tr>\n",
       "    <tr>\n",
       "      <td>38</td>\n",
       "      <td>Veveyse</td>\n",
       "      <td>2015-11-27</td>\n",
       "    </tr>\n",
       "    <tr>\n",
       "      <td>0</td>\n",
       "      <td>Baye-de-Montreux-D</td>\n",
       "      <td>2015-12-04</td>\n",
       "    </tr>\n",
       "    <tr>\n",
       "      <td>39</td>\n",
       "      <td>Veveyse</td>\n",
       "      <td>2015-12-07</td>\n",
       "    </tr>\n",
       "    <tr>\n",
       "      <td>22</td>\n",
       "      <td>Baye-de-Clarens</td>\n",
       "      <td>2015-12-08</td>\n",
       "    </tr>\n",
       "    <tr>\n",
       "      <td>...</td>\n",
       "      <td>...</td>\n",
       "      <td>...</td>\n",
       "    </tr>\n",
       "    <tr>\n",
       "      <td>89</td>\n",
       "      <td>Anarchy-Beach</td>\n",
       "      <td>2018-04-02</td>\n",
       "    </tr>\n",
       "    <tr>\n",
       "      <td>92</td>\n",
       "      <td>Arabie</td>\n",
       "      <td>2018-05-08</td>\n",
       "    </tr>\n",
       "    <tr>\n",
       "      <td>93</td>\n",
       "      <td>Bain-des-Dames</td>\n",
       "      <td>2018-07-22</td>\n",
       "    </tr>\n",
       "    <tr>\n",
       "      <td>108</td>\n",
       "      <td>Tiger-duck-beach</td>\n",
       "      <td>2018-10-16</td>\n",
       "    </tr>\n",
       "    <tr>\n",
       "      <td>109</td>\n",
       "      <td>Parc-des-Pierrettes</td>\n",
       "      <td>2019-10-10</td>\n",
       "    </tr>\n",
       "  </tbody>\n",
       "</table>\n",
       "<p>110 rows × 2 columns</p>\n",
       "</div>"
      ],
      "text/plain": [
       "             location_id       date\n",
       "21       Baye-de-Clarens 2015-11-24\n",
       "38               Veveyse 2015-11-27\n",
       "0     Baye-de-Montreux-D 2015-12-04\n",
       "39               Veveyse 2015-12-07\n",
       "22       Baye-de-Clarens 2015-12-08\n",
       "..                   ...        ...\n",
       "89         Anarchy-Beach 2018-04-02\n",
       "92                Arabie 2018-05-08\n",
       "93        Bain-des-Dames 2018-07-22\n",
       "108     Tiger-duck-beach 2018-10-16\n",
       "109  Parc-des-Pierrettes 2019-10-10\n",
       "\n",
       "[110 rows x 2 columns]"
      ]
     },
     "execution_count": 59,
     "metadata": {},
     "output_type": "execute_result"
    }
   ],
   "source": [
    "sample_df = sheetings_df[['location_id', 'date']]\n",
    "sample_df.loc[:,'date'] = pd.to_datetime(sample_df['date'])\n",
    "sample_df"
   ]
  },
  {
   "cell_type": "code",
   "execution_count": 60,
   "metadata": {
    "scrolled": true
   },
   "outputs": [],
   "source": [
    "a_df = all_df[\"date\"].map(str) + ' | ' + all_df[\"location_id\"]\n",
    "b_df = sample_df[\"date\"].map(str) + ' | ' + sample_df[\"location_id\"]"
   ]
  },
  {
   "cell_type": "code",
   "execution_count": 61,
   "metadata": {},
   "outputs": [],
   "source": [
    "a = a_df.values\n",
    "b = b_df.values\n",
    "c = np.in1d(a,b)"
   ]
  },
  {
   "cell_type": "code",
   "execution_count": 62,
   "metadata": {},
   "outputs": [],
   "source": [
    "null_samples = np.zeros(len(all_df.values[~c]))"
   ]
  },
  {
   "cell_type": "code",
   "execution_count": 63,
   "metadata": {},
   "outputs": [],
   "source": [
    "c_df = pd.DataFrame(all_df.values[~c])"
   ]
  },
  {
   "cell_type": "code",
   "execution_count": 64,
   "metadata": {
    "scrolled": true
   },
   "outputs": [],
   "source": [
    "c_df.rename(columns={0:'location_id', 1:'date'}, inplace=True)\n",
    "c_df = c_df.assign(pcs_m = null_samples)"
   ]
  },
  {
   "cell_type": "code",
   "execution_count": 65,
   "metadata": {},
   "outputs": [
    {
     "data": {
      "text/html": [
       "<div>\n",
       "<style scoped>\n",
       "    .dataframe tbody tr th:only-of-type {\n",
       "        vertical-align: middle;\n",
       "    }\n",
       "\n",
       "    .dataframe tbody tr th {\n",
       "        vertical-align: top;\n",
       "    }\n",
       "\n",
       "    .dataframe thead th {\n",
       "        text-align: right;\n",
       "    }\n",
       "</style>\n",
       "<table border=\"1\" class=\"dataframe\">\n",
       "  <thead>\n",
       "    <tr style=\"text-align: right;\">\n",
       "      <th></th>\n",
       "      <th>location_id</th>\n",
       "      <th>date</th>\n",
       "      <th>pcs_m</th>\n",
       "    </tr>\n",
       "  </thead>\n",
       "  <tbody>\n",
       "    <tr>\n",
       "      <td>0</td>\n",
       "      <td>Baye-de-Montreux-G</td>\n",
       "      <td>2015-11-23 00:00:00</td>\n",
       "      <td>0.000</td>\n",
       "    </tr>\n",
       "    <tr>\n",
       "      <td>1</td>\n",
       "      <td>Veveyse</td>\n",
       "      <td>2015-12-01 00:00:00</td>\n",
       "      <td>0.000</td>\n",
       "    </tr>\n",
       "    <tr>\n",
       "      <td>2</td>\n",
       "      <td>Baye-de-Clarens</td>\n",
       "      <td>2015-12-02 00:00:00</td>\n",
       "      <td>0.000</td>\n",
       "    </tr>\n",
       "    <tr>\n",
       "      <td>3</td>\n",
       "      <td>Baye-de-Montreux-G</td>\n",
       "      <td>2015-12-04 00:00:00</td>\n",
       "      <td>0.000</td>\n",
       "    </tr>\n",
       "    <tr>\n",
       "      <td>4</td>\n",
       "      <td>Baye-de-Montreux-D</td>\n",
       "      <td>2016-01-07 00:00:00</td>\n",
       "      <td>0.000</td>\n",
       "    </tr>\n",
       "    <tr>\n",
       "      <td>...</td>\n",
       "      <td>...</td>\n",
       "      <td>...</td>\n",
       "      <td>...</td>\n",
       "    </tr>\n",
       "    <tr>\n",
       "      <td>89</td>\n",
       "      <td>Anarchy-Beach</td>\n",
       "      <td>2018-04-02</td>\n",
       "      <td>0.329</td>\n",
       "    </tr>\n",
       "    <tr>\n",
       "      <td>92</td>\n",
       "      <td>Arabie</td>\n",
       "      <td>2018-05-08</td>\n",
       "      <td>0.067</td>\n",
       "    </tr>\n",
       "    <tr>\n",
       "      <td>93</td>\n",
       "      <td>Bain-des-Dames</td>\n",
       "      <td>2018-07-22</td>\n",
       "      <td>0.955</td>\n",
       "    </tr>\n",
       "    <tr>\n",
       "      <td>108</td>\n",
       "      <td>Tiger-duck-beach</td>\n",
       "      <td>2018-10-16</td>\n",
       "      <td>2.556</td>\n",
       "    </tr>\n",
       "    <tr>\n",
       "      <td>109</td>\n",
       "      <td>Parc-des-Pierrettes</td>\n",
       "      <td>2019-10-10</td>\n",
       "      <td>0.467</td>\n",
       "    </tr>\n",
       "  </tbody>\n",
       "</table>\n",
       "<p>151 rows × 3 columns</p>\n",
       "</div>"
      ],
      "text/plain": [
       "             location_id                 date  pcs_m\n",
       "0     Baye-de-Montreux-G  2015-11-23 00:00:00  0.000\n",
       "1                Veveyse  2015-12-01 00:00:00  0.000\n",
       "2        Baye-de-Clarens  2015-12-02 00:00:00  0.000\n",
       "3     Baye-de-Montreux-G  2015-12-04 00:00:00  0.000\n",
       "4     Baye-de-Montreux-D  2016-01-07 00:00:00  0.000\n",
       "..                   ...                  ...    ...\n",
       "89         Anarchy-Beach           2018-04-02  0.329\n",
       "92                Arabie           2018-05-08  0.067\n",
       "93        Bain-des-Dames           2018-07-22  0.955\n",
       "108     Tiger-duck-beach           2018-10-16  2.556\n",
       "109  Parc-des-Pierrettes           2019-10-10  0.467\n",
       "\n",
       "[151 rows x 3 columns]"
      ]
     },
     "execution_count": 65,
     "metadata": {},
     "output_type": "execute_result"
    }
   ],
   "source": [
    "c_df = c_df.append(sheetings_df[['location_id', 'date', 'pcs_m']])\n",
    "c_df"
   ]
  },
  {
   "cell_type": "code",
   "execution_count": 66,
   "metadata": {},
   "outputs": [
    {
     "data": {
      "text/html": [
       "<div>\n",
       "<style scoped>\n",
       "    .dataframe tbody tr th:only-of-type {\n",
       "        vertical-align: middle;\n",
       "    }\n",
       "\n",
       "    .dataframe tbody tr th {\n",
       "        vertical-align: top;\n",
       "    }\n",
       "\n",
       "    .dataframe thead th {\n",
       "        text-align: right;\n",
       "    }\n",
       "</style>\n",
       "<table border=\"1\" class=\"dataframe\">\n",
       "  <thead>\n",
       "    <tr style=\"text-align: right;\">\n",
       "      <th></th>\n",
       "      <th>location_id</th>\n",
       "      <th>date</th>\n",
       "      <th>code_id</th>\n",
       "      <th>length</th>\n",
       "      <th>quantity</th>\n",
       "      <th>project_id</th>\n",
       "      <th>owner</th>\n",
       "      <th>pcs_m</th>\n",
       "    </tr>\n",
       "  </thead>\n",
       "  <tbody>\n",
       "    <tr>\n",
       "      <td>47</td>\n",
       "      <td>Parc-des-Pierrettes</td>\n",
       "      <td>2016-10-13</td>\n",
       "      <td>G32</td>\n",
       "      <td>48</td>\n",
       "      <td>6</td>\n",
       "      <td>MCBP</td>\n",
       "      <td>mwshovel</td>\n",
       "      <td>0.125</td>\n",
       "    </tr>\n",
       "    <tr>\n",
       "      <td>61</td>\n",
       "      <td>Parc-des-Pierrettes</td>\n",
       "      <td>2017-10-05</td>\n",
       "      <td>G32</td>\n",
       "      <td>42</td>\n",
       "      <td>2</td>\n",
       "      <td>MCBP</td>\n",
       "      <td>mwshovel</td>\n",
       "      <td>0.048</td>\n",
       "    </tr>\n",
       "    <tr>\n",
       "      <td>75</td>\n",
       "      <td>Parc-des-Pierrettes</td>\n",
       "      <td>2019-10-10</td>\n",
       "      <td>G32</td>\n",
       "      <td>30</td>\n",
       "      <td>3</td>\n",
       "      <td>tiger-duck</td>\n",
       "      <td>mwshovel</td>\n",
       "      <td>0.100</td>\n",
       "    </tr>\n",
       "  </tbody>\n",
       "</table>\n",
       "</div>"
      ],
      "text/plain": [
       "            location_id        date code_id  length  quantity  project_id  \\\n",
       "47  Parc-des-Pierrettes  2016-10-13     G32      48         6        MCBP   \n",
       "61  Parc-des-Pierrettes  2017-10-05     G32      42         2        MCBP   \n",
       "75  Parc-des-Pierrettes  2019-10-10     G32      30         3  tiger-duck   \n",
       "\n",
       "       owner  pcs_m  \n",
       "47  mwshovel  0.125  \n",
       "61  mwshovel  0.048  \n",
       "75  mwshovel  0.100  "
      ]
     },
     "execution_count": 66,
     "metadata": {},
     "output_type": "execute_result"
    }
   ],
   "source": [
    "pierretes_df = toys_df[toys_df['location_id'] == 'Parc-des-Pierrettes']\n",
    "pierretes_df"
   ]
  },
  {
   "cell_type": "code",
   "execution_count": 67,
   "metadata": {
    "scrolled": true
   },
   "outputs": [
    {
     "data": {
      "text/plain": [
       "[(735903.0, 737364.0)]"
      ]
     },
     "execution_count": 67,
     "metadata": {},
     "output_type": "execute_result"
    },
    {
     "data": {
      "image/png": "[encoded data removed]",
      "text/plain": [
       "<Figure size 1080x360 with 1 Axes>"
      ]
     },
     "metadata": {
      "needs_background": "light"
     },
     "output_type": "display_data"
    }
   ],
   "source": [
    "c_df.loc[:,'date'] = pd.to_datetime(c_df['date'])\n",
    "\n",
    "ax = sns.scatterplot(x=\"date\", y=\"pcs_m\", data=c_df)\n",
    "ax = sns.scatterplot(x=\"date\", y=\"pcs_m\", data=pierretes_df[['date', 'pcs_m']], color ='red')\n",
    "ax.set(xlim = ( '2015-11-01' , '2019-11-01' ))"
   ]
  },
  {
   "cell_type": "code",
   "execution_count": 68,
   "metadata": {},
   "outputs": [
    {
     "data": {
      "image/png": "[encoded data removed]",
      "text/plain": [
       "<Figure size 1080x360 with 1 Axes>"
      ]
     },
     "metadata": {
      "needs_background": "light"
     },
     "output_type": "display_data"
    }
   ],
   "source": [
    "c_df.sort_values(by=['date']).reset_index(drop=True)\n",
    "c_df = c_df.assign(days = (c_df['date'] - all_samples_df['date'][0]).dt.days)\n",
    "ax = sns.regplot(x=\"days\", y=\"pcs_m\", data=c_df)"
   ]
  }
 ],
 "metadata": {
  "hide_input": true,
  "kernelspec": {
   "display_name": "Python 3",
   "language": "python",
   "name": "python3"
  },
  "language_info": {
   "codemirror_mode": {
    "name": "ipython",
    "version": 3
   },
   "file_extension": ".py",
   "mimetype": "text/x-python",
   "name": "python",
   "nbconvert_exporter": "python",
   "pygments_lexer": "ipython3",
   "version": "3.7.3"
  }
 },
 "nbformat": 4,
 "nbformat_minor": 4
}
